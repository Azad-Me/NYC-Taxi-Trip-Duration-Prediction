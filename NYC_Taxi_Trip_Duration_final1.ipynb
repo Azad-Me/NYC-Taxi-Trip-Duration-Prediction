{
  "cells": [
    {
      "cell_type": "markdown",
      "metadata": {
        "id": "view-in-github",
        "colab_type": "text"
      },
      "source": [
        "<a href=\"https://colab.research.google.com/github/Azad-Me/NYC-Taxi-Trip-Duration-Prediction/blob/main/NYC_Taxi_Trip_Duration_final1.ipynb\" target=\"_parent\"><img src=\"https://colab.research.google.com/assets/colab-badge.svg\" alt=\"Open In Colab\"/></a>"
      ]
    },
    {
      "cell_type": "markdown",
      "metadata": {
        "id": "vncDsAP0Gaoa"
      },
      "source": [
        "# **Project Name**    -  NYC Taxi Trip Duration Prediction.\n",
        "\n"
      ]
    },
    {
      "cell_type": "markdown",
      "metadata": {
        "id": "beRrZCGUAJYm"
      },
      "source": [
        "##### **Project Type**    - Regression\n",
        "##### **Contribution**    - Individual\n"
      ]
    },
    {
      "cell_type": "markdown",
      "metadata": {
        "id": "FJNUwmbgGyua"
      },
      "source": [
        "# **Project Summary -**"
      ]
    },
    {
      "cell_type": "markdown",
      "metadata": {
        "id": "F6v_1wHtG2nS"
      },
      "source": [
        "**Let's say you are have reached to an airport after completing a business trip and you want to reach home as soon as possible. Now you have opened you phone and start looking for Cabs which could take you to the home. While searching for cabs you have noticed, the application is providing you a very vital information, which is the duration, you require to reach home. You felt that how an application can calculate the duration of an journey even before its completion ,whether this duration is just an assumption or have been calculated after evaluating a rigorous algorithm.**\\\n",
        "**So, the answer to this question lies inside this beautiful project.The project revolves around the prediction of regression values after evaluating some independent variables. In addition with it, project performs a EDA on the NYC dataset to find out hidden secrets for the business.**"
      ]
    },
    {
      "cell_type": "markdown",
      "metadata": {
        "id": "w6K7xa23Elo4"
      },
      "source": [
        "# **GitHub Link -**"
      ]
    },
    {
      "cell_type": "markdown",
      "metadata": {
        "id": "h1o69JH3Eqqn"
      },
      "source": [
        "Provide your GitHub Link here."
      ]
    },
    {
      "cell_type": "markdown",
      "metadata": {
        "id": "yQaldy8SH6Dl"
      },
      "source": [
        "# **Problem Statement**\n"
      ]
    },
    {
      "cell_type": "markdown",
      "source": [
        "**NYC taxi Dataset consisted with some important independent features which explains everything about journey of a taxi. The study revolves around the passenger , its booking time, trip duration, pick up location and drop location.We need to take help from the new advanced technologies of Machine Learnig and provide the best user experience to customers by providing the most accurate trip duration they would require to reach there destination.**\n",
        "\n",
        "**Some additional question for EDA.**\n",
        "> **What are the number of rides taken by each vendor?**\n",
        "\n",
        "> **What is the count for network failure and loose connection?**\n",
        "\n",
        "> **Which vendor have failed in connecting with servers maximum times?**\n",
        "\n",
        "> **What is the variation in distance travelled by the passengers.**\n",
        "\n",
        "> **What is the maximum distance travelled by taxies per day in all the six months.?**\n",
        "\n",
        "> **What are the number of taxi trips per day?**\n",
        "\n",
        "> **What is the on an average distance travelled by the taxies per day.**\n",
        "\n",
        "> **Find out on which hour of day taxies are bussiest.**\n",
        "\n",
        "> **Find out which day of the week is busiest**"
      ],
      "metadata": {
        "id": "6fEwRb6JOybo"
      }
    },
    {
      "cell_type": "markdown",
      "metadata": {
        "id": "O_i_v8NEhb9l"
      },
      "source": [
        "# ***Let's Begin !***"
      ]
    },
    {
      "cell_type": "markdown",
      "metadata": {
        "id": "HhfV-JJviCcP"
      },
      "source": [
        "## ***1. Know Your Data***"
      ]
    },
    {
      "cell_type": "markdown",
      "metadata": {
        "id": "Y3lxredqlCYt"
      },
      "source": [
        "### Import Libraries"
      ]
    },
    {
      "cell_type": "code",
      "execution_count": null,
      "metadata": {
        "colab": {
          "base_uri": "https://localhost:8080/"
        },
        "id": "TUiz5pRI-Vmb",
        "outputId": "1825f8e6-ae21-46f4-8d58-e720b332ea7a"
      },
      "outputs": [
        {
          "output_type": "stream",
          "name": "stdout",
          "text": [
            "Looking in indexes: https://pypi.org/simple, https://us-python.pkg.dev/colab-wheels/public/simple/\n",
            "Collecting kaleido==0.1.*\n",
            "  Downloading kaleido-0.1.0-py2.py3-none-manylinux1_x86_64.whl (74.6 MB)\n",
            "\u001b[2K     \u001b[90m━━━━━━━━━━━━━━━━━━━━━━━━━━━━━━━━━━━━━━━━\u001b[0m \u001b[32m74.6/74.6 MB\u001b[0m \u001b[31m12.4 MB/s\u001b[0m eta \u001b[36m0:00:00\u001b[0m\n",
            "\u001b[?25hInstalling collected packages: kaleido\n",
            "Successfully installed kaleido-0.1.0\n"
          ]
        }
      ],
      "source": [
        "pip install --upgrade \"kaleido==0.1.*\""
      ]
    },
    {
      "cell_type": "code",
      "execution_count": null,
      "metadata": {
        "id": "M8Vqi-pPk-HR"
      },
      "outputs": [],
      "source": [
        "# Import Libraries\n",
        "import numpy as np\n",
        "import pandas as pd\n",
        "from numpy import math\n",
        "\n",
        "from sklearn.preprocessing import MinMaxScaler\n",
        "from sklearn.model_selection import train_test_split\n",
        "from sklearn.linear_model import LinearRegression\n",
        "from sklearn.metrics import r2_score\n",
        "from sklearn.metrics import mean_squared_error\n",
        "import seaborn as sns\n",
        "import matplotlib.pyplot as plt\n",
        "\n",
        "from sklearn.preprocessing import StandardScaler\n",
        "from sklearn.decomposition import PCA \n",
        "from sklearn.model_selection import GridSearchCV ,RandomizedSearchCV\n",
        "from statsmodels.stats.outliers_influence import variance_inflation_factor\n",
        "\n",
        "import warnings\n",
        "warnings.filterwarnings('ignore') \n",
        "\n",
        "from scipy.stats import *\n",
        "from sklearn.linear_model import Lasso, Ridge\n",
        "from sklearn.tree import DecisionTreeRegressor\n",
        "from sklearn.ensemble import RandomForestRegressor\n",
        "from sklearn.ensemble import HistGradientBoostingRegressor\n",
        "from sklearn.ensemble import GradientBoostingRegressor\n",
        "from xgboost import XGBRegressor\n",
        "from math import radians,cos,sin,asin,sqrt"
      ]
    },
    {
      "cell_type": "code",
      "execution_count": null,
      "metadata": {
        "colab": {
          "base_uri": "https://localhost:8080/"
        },
        "id": "fjz1tPG52U25",
        "outputId": "86b54db0-cbaa-4f06-98e5-9b07c3404d7c"
      },
      "outputs": [
        {
          "output_type": "stream",
          "name": "stdout",
          "text": [
            "Looking in indexes: https://pypi.org/simple, https://us-python.pkg.dev/colab-wheels/public/simple/\n",
            "Collecting plotly.express\n",
            "  Downloading plotly_express-0.4.1-py2.py3-none-any.whl (2.9 kB)\n",
            "Requirement already satisfied: pandas>=0.20.0 in /usr/local/lib/python3.9/dist-packages (from plotly.express) (1.4.4)\n",
            "Requirement already satisfied: scipy>=0.18 in /usr/local/lib/python3.9/dist-packages (from plotly.express) (1.10.1)\n",
            "Requirement already satisfied: plotly>=4.1.0 in /usr/local/lib/python3.9/dist-packages (from plotly.express) (5.13.1)\n",
            "Requirement already satisfied: statsmodels>=0.9.0 in /usr/local/lib/python3.9/dist-packages (from plotly.express) (0.13.5)\n",
            "Requirement already satisfied: numpy>=1.11 in /usr/local/lib/python3.9/dist-packages (from plotly.express) (1.22.4)\n",
            "Requirement already satisfied: patsy>=0.5 in /usr/local/lib/python3.9/dist-packages (from plotly.express) (0.5.3)\n",
            "Requirement already satisfied: python-dateutil>=2.8.1 in /usr/local/lib/python3.9/dist-packages (from pandas>=0.20.0->plotly.express) (2.8.2)\n",
            "Requirement already satisfied: pytz>=2020.1 in /usr/local/lib/python3.9/dist-packages (from pandas>=0.20.0->plotly.express) (2022.7.1)\n",
            "Requirement already satisfied: six in /usr/local/lib/python3.9/dist-packages (from patsy>=0.5->plotly.express) (1.16.0)\n",
            "Requirement already satisfied: tenacity>=6.2.0 in /usr/local/lib/python3.9/dist-packages (from plotly>=4.1.0->plotly.express) (8.2.2)\n",
            "Requirement already satisfied: packaging>=21.3 in /usr/local/lib/python3.9/dist-packages (from statsmodels>=0.9.0->plotly.express) (23.0)\n",
            "Installing collected packages: plotly.express\n",
            "Successfully installed plotly.express-0.4.1\n"
          ]
        }
      ],
      "source": [
        "!pip install plotly.express\n",
        "import plotly.express as px"
      ]
    },
    {
      "cell_type": "code",
      "execution_count": null,
      "metadata": {
        "colab": {
          "base_uri": "https://localhost:8080/",
          "height": 749
        },
        "id": "hSeVEDRf9qPb",
        "outputId": "292fcc82-9059-45ab-fc42-81bf3dd7b951"
      },
      "outputs": [
        {
          "output_type": "stream",
          "name": "stdout",
          "text": [
            "Looking in indexes: https://pypi.org/simple, https://us-python.pkg.dev/colab-wheels/public/simple/\n",
            "Collecting basemap\n",
            "  Downloading basemap-1.3.6-cp39-cp39-manylinux1_x86_64.whl (864 kB)\n",
            "\u001b[2K     \u001b[90m━━━━━━━━━━━━━━━━━━━━━━━━━━━━━━━━━━━━━━\u001b[0m \u001b[32m864.1/864.1 KB\u001b[0m \u001b[31m12.4 MB/s\u001b[0m eta \u001b[36m0:00:00\u001b[0m\n",
            "\u001b[?25hCollecting pyshp<2.4,>=1.2\n",
            "  Downloading pyshp-2.3.1-py2.py3-none-any.whl (46 kB)\n",
            "\u001b[2K     \u001b[90m━━━━━━━━━━━━━━━━━━━━━━━━━━━━━━━━━━━━━━━━\u001b[0m \u001b[32m46.5/46.5 KB\u001b[0m \u001b[31m4.4 MB/s\u001b[0m eta \u001b[36m0:00:00\u001b[0m\n",
            "\u001b[?25hCollecting pyproj<3.5.0,>=1.9.3\n",
            "  Downloading pyproj-3.4.1-cp39-cp39-manylinux_2_17_x86_64.manylinux2014_x86_64.whl (7.7 MB)\n",
            "\u001b[2K     \u001b[90m━━━━━━━━━━━━━━━━━━━━━━━━━━━━━━━━━━━━━━━━\u001b[0m \u001b[32m7.7/7.7 MB\u001b[0m \u001b[31m57.1 MB/s\u001b[0m eta \u001b[36m0:00:00\u001b[0m\n",
            "\u001b[?25hCollecting basemap-data<1.4,>=1.3.2\n",
            "  Downloading basemap_data-1.3.2-py2.py3-none-any.whl (30.5 MB)\n",
            "\u001b[2K     \u001b[90m━━━━━━━━━━━━━━━━━━━━━━━━━━━━━━━━━━━━━━━━\u001b[0m \u001b[32m30.5/30.5 MB\u001b[0m \u001b[31m35.0 MB/s\u001b[0m eta \u001b[36m0:00:00\u001b[0m\n",
            "\u001b[?25hCollecting matplotlib<3.7,>=1.5\n",
            "  Downloading matplotlib-3.6.3-cp39-cp39-manylinux_2_17_x86_64.manylinux2014_x86_64.whl (11.8 MB)\n",
            "\u001b[2K     \u001b[90m━━━━━━━━━━━━━━━━━━━━━━━━━━━━━━━━━━━━━━━━\u001b[0m \u001b[32m11.8/11.8 MB\u001b[0m \u001b[31m71.5 MB/s\u001b[0m eta \u001b[36m0:00:00\u001b[0m\n",
            "\u001b[?25hRequirement already satisfied: numpy<1.24,>=1.22 in /usr/local/lib/python3.9/dist-packages (from basemap) (1.22.4)\n",
            "Requirement already satisfied: packaging>=20.0 in /usr/local/lib/python3.9/dist-packages (from matplotlib<3.7,>=1.5->basemap) (23.0)\n",
            "Requirement already satisfied: fonttools>=4.22.0 in /usr/local/lib/python3.9/dist-packages (from matplotlib<3.7,>=1.5->basemap) (4.39.3)\n",
            "Requirement already satisfied: python-dateutil>=2.7 in /usr/local/lib/python3.9/dist-packages (from matplotlib<3.7,>=1.5->basemap) (2.8.2)\n",
            "Requirement already satisfied: cycler>=0.10 in /usr/local/lib/python3.9/dist-packages (from matplotlib<3.7,>=1.5->basemap) (0.11.0)\n",
            "Requirement already satisfied: kiwisolver>=1.0.1 in /usr/local/lib/python3.9/dist-packages (from matplotlib<3.7,>=1.5->basemap) (1.4.4)\n",
            "Requirement already satisfied: pyparsing>=2.2.1 in /usr/local/lib/python3.9/dist-packages (from matplotlib<3.7,>=1.5->basemap) (3.0.9)\n",
            "Requirement already satisfied: pillow>=6.2.0 in /usr/local/lib/python3.9/dist-packages (from matplotlib<3.7,>=1.5->basemap) (8.4.0)\n",
            "Requirement already satisfied: contourpy>=1.0.1 in /usr/local/lib/python3.9/dist-packages (from matplotlib<3.7,>=1.5->basemap) (1.0.7)\n",
            "Requirement already satisfied: certifi in /usr/local/lib/python3.9/dist-packages (from pyproj<3.5.0,>=1.9.3->basemap) (2022.12.7)\n",
            "Requirement already satisfied: six>=1.5 in /usr/local/lib/python3.9/dist-packages (from python-dateutil>=2.7->matplotlib<3.7,>=1.5->basemap) (1.16.0)\n",
            "Installing collected packages: pyshp, pyproj, basemap-data, matplotlib, basemap\n",
            "  Attempting uninstall: matplotlib\n",
            "    Found existing installation: matplotlib 3.7.1\n",
            "    Uninstalling matplotlib-3.7.1:\n",
            "      Successfully uninstalled matplotlib-3.7.1\n",
            "Successfully installed basemap-1.3.6 basemap-data-1.3.2 matplotlib-3.6.3 pyproj-3.4.1 pyshp-2.3.1\n"
          ]
        },
        {
          "output_type": "display_data",
          "data": {
            "application/vnd.colab-display-data+json": {
              "pip_warning": {
                "packages": [
                  "matplotlib",
                  "mpl_toolkits"
                ]
              }
            }
          },
          "metadata": {}
        }
      ],
      "source": [
        "pip install basemap"
      ]
    },
    {
      "cell_type": "code",
      "execution_count": null,
      "metadata": {
        "colab": {
          "base_uri": "https://localhost:8080/"
        },
        "id": "-G7eGeJKtUJu",
        "outputId": "1778c563-4d5f-4c21-ccd6-7ee193a91b24"
      },
      "outputs": [
        {
          "output_type": "stream",
          "name": "stdout",
          "text": [
            "Mounted at /content/drive\n"
          ]
        }
      ],
      "source": [
        "from google.colab import drive\n",
        "drive.mount('/content/drive')"
      ]
    },
    {
      "cell_type": "markdown",
      "metadata": {
        "id": "3RnN4peoiCZX"
      },
      "source": [
        "### Dataset Loading"
      ]
    },
    {
      "cell_type": "code",
      "execution_count": null,
      "metadata": {
        "id": "4CkvbW_SlZ_R"
      },
      "outputs": [],
      "source": [
        "# Load Dataset\n",
        "first_df=pd.read_csv('/content/drive/MyDrive/dat/Dataset/NYC Taxi Data.csv')"
      ]
    },
    {
      "cell_type": "markdown",
      "metadata": {
        "id": "x71ZqKXriCWQ"
      },
      "source": [
        "### Dataset First View"
      ]
    },
    {
      "cell_type": "code",
      "execution_count": null,
      "metadata": {
        "id": "LWNFOSvLl09H",
        "colab": {
          "base_uri": "https://localhost:8080/",
          "height": 357
        },
        "outputId": "faaa06bd-e5c9-40eb-db25-702867318fe8"
      },
      "outputs": [
        {
          "output_type": "execute_result",
          "data": {
            "text/plain": [
              "          id  vendor_id      pickup_datetime     dropoff_datetime  \\\n",
              "0  id2875421          2  2016-03-14 17:24:55  2016-03-14 17:32:30   \n",
              "1  id2377394          1  2016-06-12 00:43:35  2016-06-12 00:54:38   \n",
              "2  id3858529          2  2016-01-19 11:35:24  2016-01-19 12:10:48   \n",
              "3  id3504673          2  2016-04-06 19:32:31  2016-04-06 19:39:40   \n",
              "4  id2181028          2  2016-03-26 13:30:55  2016-03-26 13:38:10   \n",
              "\n",
              "   passenger_count  pickup_longitude  pickup_latitude  dropoff_longitude  \\\n",
              "0                1        -73.982155        40.767937         -73.964630   \n",
              "1                1        -73.980415        40.738564         -73.999481   \n",
              "2                1        -73.979027        40.763939         -74.005333   \n",
              "3                1        -74.010040        40.719971         -74.012268   \n",
              "4                1        -73.973053        40.793209         -73.972923   \n",
              "\n",
              "   dropoff_latitude store_and_fwd_flag  trip_duration  \n",
              "0         40.765602                  N            455  \n",
              "1         40.731152                  N            663  \n",
              "2         40.710087                  N           2124  \n",
              "3         40.706718                  N            429  \n",
              "4         40.782520                  N            435  "
            ],
            "text/html": [
              "\n",
              "  <div id=\"df-a0f1dca7-574b-4424-bb03-be366e9d3a6d\">\n",
              "    <div class=\"colab-df-container\">\n",
              "      <div>\n",
              "<style scoped>\n",
              "    .dataframe tbody tr th:only-of-type {\n",
              "        vertical-align: middle;\n",
              "    }\n",
              "\n",
              "    .dataframe tbody tr th {\n",
              "        vertical-align: top;\n",
              "    }\n",
              "\n",
              "    .dataframe thead th {\n",
              "        text-align: right;\n",
              "    }\n",
              "</style>\n",
              "<table border=\"1\" class=\"dataframe\">\n",
              "  <thead>\n",
              "    <tr style=\"text-align: right;\">\n",
              "      <th></th>\n",
              "      <th>id</th>\n",
              "      <th>vendor_id</th>\n",
              "      <th>pickup_datetime</th>\n",
              "      <th>dropoff_datetime</th>\n",
              "      <th>passenger_count</th>\n",
              "      <th>pickup_longitude</th>\n",
              "      <th>pickup_latitude</th>\n",
              "      <th>dropoff_longitude</th>\n",
              "      <th>dropoff_latitude</th>\n",
              "      <th>store_and_fwd_flag</th>\n",
              "      <th>trip_duration</th>\n",
              "    </tr>\n",
              "  </thead>\n",
              "  <tbody>\n",
              "    <tr>\n",
              "      <th>0</th>\n",
              "      <td>id2875421</td>\n",
              "      <td>2</td>\n",
              "      <td>2016-03-14 17:24:55</td>\n",
              "      <td>2016-03-14 17:32:30</td>\n",
              "      <td>1</td>\n",
              "      <td>-73.982155</td>\n",
              "      <td>40.767937</td>\n",
              "      <td>-73.964630</td>\n",
              "      <td>40.765602</td>\n",
              "      <td>N</td>\n",
              "      <td>455</td>\n",
              "    </tr>\n",
              "    <tr>\n",
              "      <th>1</th>\n",
              "      <td>id2377394</td>\n",
              "      <td>1</td>\n",
              "      <td>2016-06-12 00:43:35</td>\n",
              "      <td>2016-06-12 00:54:38</td>\n",
              "      <td>1</td>\n",
              "      <td>-73.980415</td>\n",
              "      <td>40.738564</td>\n",
              "      <td>-73.999481</td>\n",
              "      <td>40.731152</td>\n",
              "      <td>N</td>\n",
              "      <td>663</td>\n",
              "    </tr>\n",
              "    <tr>\n",
              "      <th>2</th>\n",
              "      <td>id3858529</td>\n",
              "      <td>2</td>\n",
              "      <td>2016-01-19 11:35:24</td>\n",
              "      <td>2016-01-19 12:10:48</td>\n",
              "      <td>1</td>\n",
              "      <td>-73.979027</td>\n",
              "      <td>40.763939</td>\n",
              "      <td>-74.005333</td>\n",
              "      <td>40.710087</td>\n",
              "      <td>N</td>\n",
              "      <td>2124</td>\n",
              "    </tr>\n",
              "    <tr>\n",
              "      <th>3</th>\n",
              "      <td>id3504673</td>\n",
              "      <td>2</td>\n",
              "      <td>2016-04-06 19:32:31</td>\n",
              "      <td>2016-04-06 19:39:40</td>\n",
              "      <td>1</td>\n",
              "      <td>-74.010040</td>\n",
              "      <td>40.719971</td>\n",
              "      <td>-74.012268</td>\n",
              "      <td>40.706718</td>\n",
              "      <td>N</td>\n",
              "      <td>429</td>\n",
              "    </tr>\n",
              "    <tr>\n",
              "      <th>4</th>\n",
              "      <td>id2181028</td>\n",
              "      <td>2</td>\n",
              "      <td>2016-03-26 13:30:55</td>\n",
              "      <td>2016-03-26 13:38:10</td>\n",
              "      <td>1</td>\n",
              "      <td>-73.973053</td>\n",
              "      <td>40.793209</td>\n",
              "      <td>-73.972923</td>\n",
              "      <td>40.782520</td>\n",
              "      <td>N</td>\n",
              "      <td>435</td>\n",
              "    </tr>\n",
              "  </tbody>\n",
              "</table>\n",
              "</div>\n",
              "      <button class=\"colab-df-convert\" onclick=\"convertToInteractive('df-a0f1dca7-574b-4424-bb03-be366e9d3a6d')\"\n",
              "              title=\"Convert this dataframe to an interactive table.\"\n",
              "              style=\"display:none;\">\n",
              "        \n",
              "  <svg xmlns=\"http://www.w3.org/2000/svg\" height=\"24px\"viewBox=\"0 0 24 24\"\n",
              "       width=\"24px\">\n",
              "    <path d=\"M0 0h24v24H0V0z\" fill=\"none\"/>\n",
              "    <path d=\"M18.56 5.44l.94 2.06.94-2.06 2.06-.94-2.06-.94-.94-2.06-.94 2.06-2.06.94zm-11 1L8.5 8.5l.94-2.06 2.06-.94-2.06-.94L8.5 2.5l-.94 2.06-2.06.94zm10 10l.94 2.06.94-2.06 2.06-.94-2.06-.94-.94-2.06-.94 2.06-2.06.94z\"/><path d=\"M17.41 7.96l-1.37-1.37c-.4-.4-.92-.59-1.43-.59-.52 0-1.04.2-1.43.59L10.3 9.45l-7.72 7.72c-.78.78-.78 2.05 0 2.83L4 21.41c.39.39.9.59 1.41.59.51 0 1.02-.2 1.41-.59l7.78-7.78 2.81-2.81c.8-.78.8-2.07 0-2.86zM5.41 20L4 18.59l7.72-7.72 1.47 1.35L5.41 20z\"/>\n",
              "  </svg>\n",
              "      </button>\n",
              "      \n",
              "  <style>\n",
              "    .colab-df-container {\n",
              "      display:flex;\n",
              "      flex-wrap:wrap;\n",
              "      gap: 12px;\n",
              "    }\n",
              "\n",
              "    .colab-df-convert {\n",
              "      background-color: #E8F0FE;\n",
              "      border: none;\n",
              "      border-radius: 50%;\n",
              "      cursor: pointer;\n",
              "      display: none;\n",
              "      fill: #1967D2;\n",
              "      height: 32px;\n",
              "      padding: 0 0 0 0;\n",
              "      width: 32px;\n",
              "    }\n",
              "\n",
              "    .colab-df-convert:hover {\n",
              "      background-color: #E2EBFA;\n",
              "      box-shadow: 0px 1px 2px rgba(60, 64, 67, 0.3), 0px 1px 3px 1px rgba(60, 64, 67, 0.15);\n",
              "      fill: #174EA6;\n",
              "    }\n",
              "\n",
              "    [theme=dark] .colab-df-convert {\n",
              "      background-color: #3B4455;\n",
              "      fill: #D2E3FC;\n",
              "    }\n",
              "\n",
              "    [theme=dark] .colab-df-convert:hover {\n",
              "      background-color: #434B5C;\n",
              "      box-shadow: 0px 1px 3px 1px rgba(0, 0, 0, 0.15);\n",
              "      filter: drop-shadow(0px 1px 2px rgba(0, 0, 0, 0.3));\n",
              "      fill: #FFFFFF;\n",
              "    }\n",
              "  </style>\n",
              "\n",
              "      <script>\n",
              "        const buttonEl =\n",
              "          document.querySelector('#df-a0f1dca7-574b-4424-bb03-be366e9d3a6d button.colab-df-convert');\n",
              "        buttonEl.style.display =\n",
              "          google.colab.kernel.accessAllowed ? 'block' : 'none';\n",
              "\n",
              "        async function convertToInteractive(key) {\n",
              "          const element = document.querySelector('#df-a0f1dca7-574b-4424-bb03-be366e9d3a6d');\n",
              "          const dataTable =\n",
              "            await google.colab.kernel.invokeFunction('convertToInteractive',\n",
              "                                                     [key], {});\n",
              "          if (!dataTable) return;\n",
              "\n",
              "          const docLinkHtml = 'Like what you see? Visit the ' +\n",
              "            '<a target=\"_blank\" href=https://colab.research.google.com/notebooks/data_table.ipynb>data table notebook</a>'\n",
              "            + ' to learn more about interactive tables.';\n",
              "          element.innerHTML = '';\n",
              "          dataTable['output_type'] = 'display_data';\n",
              "          await google.colab.output.renderOutput(dataTable, element);\n",
              "          const docLink = document.createElement('div');\n",
              "          docLink.innerHTML = docLinkHtml;\n",
              "          element.appendChild(docLink);\n",
              "        }\n",
              "      </script>\n",
              "    </div>\n",
              "  </div>\n",
              "  "
            ]
          },
          "metadata": {},
          "execution_count": 7
        }
      ],
      "source": [
        "# Dataset First Look\n",
        "first_df.head()"
      ]
    },
    {
      "cell_type": "markdown",
      "metadata": {
        "id": "7hBIi_osiCS2"
      },
      "source": [
        "### Dataset Rows & Columns count"
      ]
    },
    {
      "cell_type": "code",
      "execution_count": null,
      "metadata": {
        "id": "Kllu7SJgmLij",
        "colab": {
          "base_uri": "https://localhost:8080/"
        },
        "outputId": "2169535d-aef6-4baf-8995-0c970c0f2878"
      },
      "outputs": [
        {
          "output_type": "stream",
          "name": "stdout",
          "text": [
            "1458644\n",
            "11\n"
          ]
        }
      ],
      "source": [
        "# Dataset Rows & Columns count\n",
        "print(len(first_df['id']))\n",
        "print(len(first_df.columns))"
      ]
    },
    {
      "cell_type": "markdown",
      "metadata": {
        "id": "0goR1WzqBJsX"
      },
      "source": [
        "There are 1458644 Rows and 11 Columns."
      ]
    },
    {
      "cell_type": "markdown",
      "metadata": {
        "id": "JlHwYmJAmNHm"
      },
      "source": [
        "### Dataset Information"
      ]
    },
    {
      "cell_type": "code",
      "execution_count": null,
      "metadata": {
        "id": "e9hRXRi6meOf",
        "colab": {
          "base_uri": "https://localhost:8080/"
        },
        "outputId": "08c75bd8-077a-4584-e6b3-29994d8f3299"
      },
      "outputs": [
        {
          "output_type": "stream",
          "name": "stdout",
          "text": [
            "<class 'pandas.core.frame.DataFrame'>\n",
            "RangeIndex: 1458644 entries, 0 to 1458643\n",
            "Data columns (total 11 columns):\n",
            " #   Column              Non-Null Count    Dtype  \n",
            "---  ------              --------------    -----  \n",
            " 0   id                  1458644 non-null  object \n",
            " 1   vendor_id           1458644 non-null  int64  \n",
            " 2   pickup_datetime     1458644 non-null  object \n",
            " 3   dropoff_datetime    1458644 non-null  object \n",
            " 4   passenger_count     1458644 non-null  int64  \n",
            " 5   pickup_longitude    1458644 non-null  float64\n",
            " 6   pickup_latitude     1458644 non-null  float64\n",
            " 7   dropoff_longitude   1458644 non-null  float64\n",
            " 8   dropoff_latitude    1458644 non-null  float64\n",
            " 9   store_and_fwd_flag  1458644 non-null  object \n",
            " 10  trip_duration       1458644 non-null  int64  \n",
            "dtypes: float64(4), int64(3), object(4)\n",
            "memory usage: 122.4+ MB\n"
          ]
        }
      ],
      "source": [
        "# Dataset Info\n",
        "first_df.info()"
      ]
    },
    {
      "cell_type": "markdown",
      "metadata": {
        "id": "35m5QtbWiB9F"
      },
      "source": [
        "#### Duplicate Values"
      ]
    },
    {
      "cell_type": "code",
      "execution_count": null,
      "metadata": {
        "id": "1sLdpKYkmox0",
        "colab": {
          "base_uri": "https://localhost:8080/"
        },
        "outputId": "4daafc6c-138c-4b7c-acae-21d037d7af2e"
      },
      "outputs": [
        {
          "output_type": "execute_result",
          "data": {
            "text/plain": [
              "0"
            ]
          },
          "metadata": {},
          "execution_count": 10
        }
      ],
      "source": [
        "# Dataset Duplicate Value Count\n",
        "first_df.duplicated().sum()"
      ]
    },
    {
      "cell_type": "markdown",
      "metadata": {
        "id": "PoPl-ycgm1ru"
      },
      "source": [
        "#### Missing Values/Null Values"
      ]
    },
    {
      "cell_type": "code",
      "execution_count": null,
      "metadata": {
        "id": "GgHWkxvamxVg",
        "colab": {
          "base_uri": "https://localhost:8080/"
        },
        "outputId": "646bdacf-fa3b-403b-f9a8-743e1db5f65e"
      },
      "outputs": [
        {
          "output_type": "execute_result",
          "data": {
            "text/plain": [
              "id                    0\n",
              "vendor_id             0\n",
              "pickup_datetime       0\n",
              "dropoff_datetime      0\n",
              "passenger_count       0\n",
              "pickup_longitude      0\n",
              "pickup_latitude       0\n",
              "dropoff_longitude     0\n",
              "dropoff_latitude      0\n",
              "store_and_fwd_flag    0\n",
              "trip_duration         0\n",
              "dtype: int64"
            ]
          },
          "metadata": {},
          "execution_count": 11
        }
      ],
      "source": [
        "# Missing Values/Null Values Count\n",
        "first_df.isnull().sum()"
      ]
    },
    {
      "cell_type": "markdown",
      "source": [
        "**As we can see there are no null values and no duplicate columns.**"
      ],
      "metadata": {
        "id": "Nu8Q1O_2sF-g"
      }
    },
    {
      "cell_type": "code",
      "execution_count": null,
      "metadata": {
        "id": "3q5wnI3om9sJ"
      },
      "outputs": [],
      "source": [
        "# Visualizing the missing values"
      ]
    },
    {
      "cell_type": "markdown",
      "source": [
        "> **The Dataset consist more than 1.4 million rows and 11 features.**\n",
        "\n",
        "> **It do not contain null values and duplicate columns either.**\n",
        "\n",
        "> **The dataset provides the longitude and lattitude for every taxi trips and helps to measure the distance.**\n",
        "\n",
        "> **Its target variable is the duration of taxies, which has to be predicted after the training of the model.**\n",
        "\n",
        "> **Certain columns show integer type of data and certain columns shows object type of data.**\n",
        "\n"
      ],
      "metadata": {
        "id": "dWQweRKdsNzZ"
      }
    },
    {
      "cell_type": "markdown",
      "metadata": {
        "id": "nA9Y7ga8ng1Z"
      },
      "source": [
        "## ***2. Understanding Your Variables***"
      ]
    },
    {
      "cell_type": "code",
      "execution_count": null,
      "metadata": {
        "colab": {
          "base_uri": "https://localhost:8080/"
        },
        "id": "j7xfkqrt5Ag5",
        "outputId": "551d10be-62d2-4e54-d093-20a107b96b2e"
      },
      "outputs": [
        {
          "output_type": "execute_result",
          "data": {
            "text/plain": [
              "Index(['id', 'vendor_id', 'pickup_datetime', 'dropoff_datetime',\n",
              "       'passenger_count', 'pickup_longitude', 'pickup_latitude',\n",
              "       'dropoff_longitude', 'dropoff_latitude', 'store_and_fwd_flag',\n",
              "       'trip_duration'],\n",
              "      dtype='object')"
            ]
          },
          "metadata": {},
          "execution_count": 13
        }
      ],
      "source": [
        "# Dataset Columns\n",
        "first_df.columns"
      ]
    },
    {
      "cell_type": "code",
      "execution_count": null,
      "metadata": {
        "colab": {
          "base_uri": "https://localhost:8080/",
          "height": 364
        },
        "id": "DnOaZdaE5Q5t",
        "outputId": "42042f80-c170-4f8d-a8c1-a29028a9b0fe"
      },
      "outputs": [
        {
          "output_type": "execute_result",
          "data": {
            "text/plain": [
              "          vendor_id  passenger_count  pickup_longitude  pickup_latitude  \\\n",
              "count  1.458644e+06     1.458644e+06      1.458644e+06     1.458644e+06   \n",
              "mean   1.534950e+00     1.664530e+00     -7.397349e+01     4.075092e+01   \n",
              "std    4.987772e-01     1.314242e+00      7.090186e-02     3.288119e-02   \n",
              "min    1.000000e+00     0.000000e+00     -1.219333e+02     3.435970e+01   \n",
              "25%    1.000000e+00     1.000000e+00     -7.399187e+01     4.073735e+01   \n",
              "50%    2.000000e+00     1.000000e+00     -7.398174e+01     4.075410e+01   \n",
              "75%    2.000000e+00     2.000000e+00     -7.396733e+01     4.076836e+01   \n",
              "max    2.000000e+00     9.000000e+00     -6.133553e+01     5.188108e+01   \n",
              "\n",
              "       dropoff_longitude  dropoff_latitude  trip_duration  \n",
              "count       1.458644e+06      1.458644e+06   1.458644e+06  \n",
              "mean       -7.397342e+01      4.075180e+01   9.594923e+02  \n",
              "std         7.064327e-02      3.589056e-02   5.237432e+03  \n",
              "min        -1.219333e+02      3.218114e+01   1.000000e+00  \n",
              "25%        -7.399133e+01      4.073588e+01   3.970000e+02  \n",
              "50%        -7.397975e+01      4.075452e+01   6.620000e+02  \n",
              "75%        -7.396301e+01      4.076981e+01   1.075000e+03  \n",
              "max        -6.133553e+01      4.392103e+01   3.526282e+06  "
            ],
            "text/html": [
              "\n",
              "  <div id=\"df-18d3f221-04ad-4323-9b31-d05444c54a08\">\n",
              "    <div class=\"colab-df-container\">\n",
              "      <div>\n",
              "<style scoped>\n",
              "    .dataframe tbody tr th:only-of-type {\n",
              "        vertical-align: middle;\n",
              "    }\n",
              "\n",
              "    .dataframe tbody tr th {\n",
              "        vertical-align: top;\n",
              "    }\n",
              "\n",
              "    .dataframe thead th {\n",
              "        text-align: right;\n",
              "    }\n",
              "</style>\n",
              "<table border=\"1\" class=\"dataframe\">\n",
              "  <thead>\n",
              "    <tr style=\"text-align: right;\">\n",
              "      <th></th>\n",
              "      <th>vendor_id</th>\n",
              "      <th>passenger_count</th>\n",
              "      <th>pickup_longitude</th>\n",
              "      <th>pickup_latitude</th>\n",
              "      <th>dropoff_longitude</th>\n",
              "      <th>dropoff_latitude</th>\n",
              "      <th>trip_duration</th>\n",
              "    </tr>\n",
              "  </thead>\n",
              "  <tbody>\n",
              "    <tr>\n",
              "      <th>count</th>\n",
              "      <td>1.458644e+06</td>\n",
              "      <td>1.458644e+06</td>\n",
              "      <td>1.458644e+06</td>\n",
              "      <td>1.458644e+06</td>\n",
              "      <td>1.458644e+06</td>\n",
              "      <td>1.458644e+06</td>\n",
              "      <td>1.458644e+06</td>\n",
              "    </tr>\n",
              "    <tr>\n",
              "      <th>mean</th>\n",
              "      <td>1.534950e+00</td>\n",
              "      <td>1.664530e+00</td>\n",
              "      <td>-7.397349e+01</td>\n",
              "      <td>4.075092e+01</td>\n",
              "      <td>-7.397342e+01</td>\n",
              "      <td>4.075180e+01</td>\n",
              "      <td>9.594923e+02</td>\n",
              "    </tr>\n",
              "    <tr>\n",
              "      <th>std</th>\n",
              "      <td>4.987772e-01</td>\n",
              "      <td>1.314242e+00</td>\n",
              "      <td>7.090186e-02</td>\n",
              "      <td>3.288119e-02</td>\n",
              "      <td>7.064327e-02</td>\n",
              "      <td>3.589056e-02</td>\n",
              "      <td>5.237432e+03</td>\n",
              "    </tr>\n",
              "    <tr>\n",
              "      <th>min</th>\n",
              "      <td>1.000000e+00</td>\n",
              "      <td>0.000000e+00</td>\n",
              "      <td>-1.219333e+02</td>\n",
              "      <td>3.435970e+01</td>\n",
              "      <td>-1.219333e+02</td>\n",
              "      <td>3.218114e+01</td>\n",
              "      <td>1.000000e+00</td>\n",
              "    </tr>\n",
              "    <tr>\n",
              "      <th>25%</th>\n",
              "      <td>1.000000e+00</td>\n",
              "      <td>1.000000e+00</td>\n",
              "      <td>-7.399187e+01</td>\n",
              "      <td>4.073735e+01</td>\n",
              "      <td>-7.399133e+01</td>\n",
              "      <td>4.073588e+01</td>\n",
              "      <td>3.970000e+02</td>\n",
              "    </tr>\n",
              "    <tr>\n",
              "      <th>50%</th>\n",
              "      <td>2.000000e+00</td>\n",
              "      <td>1.000000e+00</td>\n",
              "      <td>-7.398174e+01</td>\n",
              "      <td>4.075410e+01</td>\n",
              "      <td>-7.397975e+01</td>\n",
              "      <td>4.075452e+01</td>\n",
              "      <td>6.620000e+02</td>\n",
              "    </tr>\n",
              "    <tr>\n",
              "      <th>75%</th>\n",
              "      <td>2.000000e+00</td>\n",
              "      <td>2.000000e+00</td>\n",
              "      <td>-7.396733e+01</td>\n",
              "      <td>4.076836e+01</td>\n",
              "      <td>-7.396301e+01</td>\n",
              "      <td>4.076981e+01</td>\n",
              "      <td>1.075000e+03</td>\n",
              "    </tr>\n",
              "    <tr>\n",
              "      <th>max</th>\n",
              "      <td>2.000000e+00</td>\n",
              "      <td>9.000000e+00</td>\n",
              "      <td>-6.133553e+01</td>\n",
              "      <td>5.188108e+01</td>\n",
              "      <td>-6.133553e+01</td>\n",
              "      <td>4.392103e+01</td>\n",
              "      <td>3.526282e+06</td>\n",
              "    </tr>\n",
              "  </tbody>\n",
              "</table>\n",
              "</div>\n",
              "      <button class=\"colab-df-convert\" onclick=\"convertToInteractive('df-18d3f221-04ad-4323-9b31-d05444c54a08')\"\n",
              "              title=\"Convert this dataframe to an interactive table.\"\n",
              "              style=\"display:none;\">\n",
              "        \n",
              "  <svg xmlns=\"http://www.w3.org/2000/svg\" height=\"24px\"viewBox=\"0 0 24 24\"\n",
              "       width=\"24px\">\n",
              "    <path d=\"M0 0h24v24H0V0z\" fill=\"none\"/>\n",
              "    <path d=\"M18.56 5.44l.94 2.06.94-2.06 2.06-.94-2.06-.94-.94-2.06-.94 2.06-2.06.94zm-11 1L8.5 8.5l.94-2.06 2.06-.94-2.06-.94L8.5 2.5l-.94 2.06-2.06.94zm10 10l.94 2.06.94-2.06 2.06-.94-2.06-.94-.94-2.06-.94 2.06-2.06.94z\"/><path d=\"M17.41 7.96l-1.37-1.37c-.4-.4-.92-.59-1.43-.59-.52 0-1.04.2-1.43.59L10.3 9.45l-7.72 7.72c-.78.78-.78 2.05 0 2.83L4 21.41c.39.39.9.59 1.41.59.51 0 1.02-.2 1.41-.59l7.78-7.78 2.81-2.81c.8-.78.8-2.07 0-2.86zM5.41 20L4 18.59l7.72-7.72 1.47 1.35L5.41 20z\"/>\n",
              "  </svg>\n",
              "      </button>\n",
              "      \n",
              "  <style>\n",
              "    .colab-df-container {\n",
              "      display:flex;\n",
              "      flex-wrap:wrap;\n",
              "      gap: 12px;\n",
              "    }\n",
              "\n",
              "    .colab-df-convert {\n",
              "      background-color: #E8F0FE;\n",
              "      border: none;\n",
              "      border-radius: 50%;\n",
              "      cursor: pointer;\n",
              "      display: none;\n",
              "      fill: #1967D2;\n",
              "      height: 32px;\n",
              "      padding: 0 0 0 0;\n",
              "      width: 32px;\n",
              "    }\n",
              "\n",
              "    .colab-df-convert:hover {\n",
              "      background-color: #E2EBFA;\n",
              "      box-shadow: 0px 1px 2px rgba(60, 64, 67, 0.3), 0px 1px 3px 1px rgba(60, 64, 67, 0.15);\n",
              "      fill: #174EA6;\n",
              "    }\n",
              "\n",
              "    [theme=dark] .colab-df-convert {\n",
              "      background-color: #3B4455;\n",
              "      fill: #D2E3FC;\n",
              "    }\n",
              "\n",
              "    [theme=dark] .colab-df-convert:hover {\n",
              "      background-color: #434B5C;\n",
              "      box-shadow: 0px 1px 3px 1px rgba(0, 0, 0, 0.15);\n",
              "      filter: drop-shadow(0px 1px 2px rgba(0, 0, 0, 0.3));\n",
              "      fill: #FFFFFF;\n",
              "    }\n",
              "  </style>\n",
              "\n",
              "      <script>\n",
              "        const buttonEl =\n",
              "          document.querySelector('#df-18d3f221-04ad-4323-9b31-d05444c54a08 button.colab-df-convert');\n",
              "        buttonEl.style.display =\n",
              "          google.colab.kernel.accessAllowed ? 'block' : 'none';\n",
              "\n",
              "        async function convertToInteractive(key) {\n",
              "          const element = document.querySelector('#df-18d3f221-04ad-4323-9b31-d05444c54a08');\n",
              "          const dataTable =\n",
              "            await google.colab.kernel.invokeFunction('convertToInteractive',\n",
              "                                                     [key], {});\n",
              "          if (!dataTable) return;\n",
              "\n",
              "          const docLinkHtml = 'Like what you see? Visit the ' +\n",
              "            '<a target=\"_blank\" href=https://colab.research.google.com/notebooks/data_table.ipynb>data table notebook</a>'\n",
              "            + ' to learn more about interactive tables.';\n",
              "          element.innerHTML = '';\n",
              "          dataTable['output_type'] = 'display_data';\n",
              "          await google.colab.output.renderOutput(dataTable, element);\n",
              "          const docLink = document.createElement('div');\n",
              "          docLink.innerHTML = docLinkHtml;\n",
              "          element.appendChild(docLink);\n",
              "        }\n",
              "      </script>\n",
              "    </div>\n",
              "  </div>\n",
              "  "
            ]
          },
          "metadata": {},
          "execution_count": 14
        }
      ],
      "source": [
        "# Dataset Describe\n",
        "first_df.describe()"
      ]
    },
    {
      "cell_type": "markdown",
      "metadata": {
        "id": "PBTbrJXOngz2"
      },
      "source": [
        "### Variables Description "
      ]
    },
    {
      "cell_type": "markdown",
      "metadata": {
        "id": "aJV4KIxSnxay"
      },
      "source": [
        "![image.png](data:image/png;base64,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)"
      ]
    },
    {
      "cell_type": "markdown",
      "metadata": {
        "id": "u3PMJOP6ngxN"
      },
      "source": [
        "### Check Unique Values for each variable."
      ]
    },
    {
      "cell_type": "code",
      "execution_count": null,
      "metadata": {
        "colab": {
          "base_uri": "https://localhost:8080/"
        },
        "id": "zms12Yq5n-jE",
        "outputId": "fbf00272-a6ee-4bf9-b073-93c2867a68bf"
      },
      "outputs": [
        {
          "output_type": "stream",
          "name": "stdout",
          "text": [
            " The unique values in column id is 1458644\n",
            " The unique values in column vendor_id is 2\n",
            " The unique values in column pickup_datetime is 1380222\n",
            " The unique values in column dropoff_datetime is 1380377\n",
            " The unique values in column passenger_count is 10\n",
            " The unique values in column pickup_longitude is 23047\n",
            " The unique values in column pickup_latitude is 45245\n",
            " The unique values in column dropoff_longitude is 33821\n",
            " The unique values in column dropoff_latitude is 62519\n",
            " The unique values in column store_and_fwd_flag is 2\n",
            " The unique values in column trip_duration is 7417\n"
          ]
        }
      ],
      "source": [
        "# Check Unique Values for each variable.\n",
        "for i in first_df.columns:\n",
        "  print(f' The unique values in column {i} is {first_df[i].nunique()}')"
      ]
    },
    {
      "cell_type": "markdown",
      "metadata": {
        "id": "dauF4eBmngu3"
      },
      "source": [
        "## 3. ***Data Wrangling***"
      ]
    },
    {
      "cell_type": "markdown",
      "metadata": {
        "id": "bKJF3rekwFvQ"
      },
      "source": [
        "### Data Wrangling Code"
      ]
    },
    {
      "cell_type": "markdown",
      "metadata": {
        "id": "8oXEbdXnfjHA"
      },
      "source": [
        "#### **What are the number of rides taken by each vendor?**"
      ]
    },
    {
      "cell_type": "code",
      "execution_count": null,
      "metadata": {
        "colab": {
          "base_uri": "https://localhost:8080/"
        },
        "id": "wk-9a2fpoLcV",
        "outputId": "f155b6d2-5183-4ba4-f7ef-5c6adb96ef85"
      },
      "outputs": [
        {
          "output_type": "execute_result",
          "data": {
            "text/plain": [
              "array([2, 1])"
            ]
          },
          "metadata": {},
          "execution_count": 16
        }
      ],
      "source": [
        "# Write your code to make your dataset analysis ready.\n",
        "first_df['vendor_id'].unique()"
      ]
    },
    {
      "cell_type": "code",
      "execution_count": null,
      "metadata": {
        "colab": {
          "base_uri": "https://localhost:8080/"
        },
        "id": "XgNeQpLYf07g",
        "outputId": "982ce4d0-29fb-492d-c1ca-f5092466cc87"
      },
      "outputs": [
        {
          "output_type": "execute_result",
          "data": {
            "text/plain": [
              "vendor_id\n",
              "1    678342\n",
              "2    780302\n",
              "Name: id, dtype: int64"
            ]
          },
          "metadata": {},
          "execution_count": 17
        }
      ],
      "source": [
        "vendor_df=first_df.groupby('vendor_id')['id'].count()\n",
        "vendor_df"
      ]
    },
    {
      "cell_type": "markdown",
      "metadata": {
        "id": "KTEWxlgUgZtE"
      },
      "source": [
        "\n",
        "> **So first vendor is a little shallow in market depth. The market penetration of second vendor is more than first vendor. Though the difference is very little.**"
      ]
    },
    {
      "cell_type": "markdown",
      "metadata": {
        "id": "UazKkIv7gLnU"
      },
      "source": [
        "#### **What number of passengers are most frequent in taking taxies?**"
      ]
    },
    {
      "cell_type": "code",
      "execution_count": null,
      "metadata": {
        "colab": {
          "base_uri": "https://localhost:8080/"
        },
        "id": "YYTavtqDgV5V",
        "outputId": "6b670101-fd30-4c52-a023-ce15d1e59a33"
      },
      "outputs": [
        {
          "output_type": "execute_result",
          "data": {
            "text/plain": [
              "passenger_count\n",
              "0         60\n",
              "1    1033540\n",
              "2     210318\n",
              "3      59896\n",
              "4      28404\n",
              "5      78088\n",
              "6      48333\n",
              "7          3\n",
              "8          1\n",
              "9          1\n",
              "Name: id, dtype: int64"
            ]
          },
          "metadata": {},
          "execution_count": 18
        }
      ],
      "source": [
        "Passen_df=first_df.groupby('passenger_count')['id'].count()\n",
        "Passen_df"
      ]
    },
    {
      "cell_type": "markdown",
      "metadata": {
        "id": "RmsIwonQg_-S"
      },
      "source": [
        "\n",
        "> **From the above output, taxi trips with zero passenger have occured 60 times , which is not possible. May be the driver have missed to enter the passenger count.**\n",
        "\n",
        "> **There are 3 trips with seven passengers, and one trip each with 8 and 9 passenger.**\n",
        "\n",
        "> **If we assume that there are 5 adults and one small children allowed on the lap of a adult maximum 6 passengers can be possible.**\n",
        "\n",
        "> **Remaining might be the outliers.**"
      ]
    },
    {
      "cell_type": "markdown",
      "metadata": {
        "id": "ZRTstQlViWXo"
      },
      "source": [
        "#### **What is the count for network failure and loose connection?**"
      ]
    },
    {
      "cell_type": "code",
      "execution_count": null,
      "metadata": {
        "colab": {
          "base_uri": "https://localhost:8080/"
        },
        "id": "rP2l8NLbiWGx",
        "outputId": "9cb0a168-ebee-48f4-f0f1-bbe1068ac696"
      },
      "outputs": [
        {
          "output_type": "execute_result",
          "data": {
            "text/plain": [
              "N    1450599\n",
              "Y       8045\n",
              "Name: store_and_fwd_flag, dtype: int64"
            ]
          },
          "metadata": {},
          "execution_count": 19
        }
      ],
      "source": [
        "conn_df=first_df['store_and_fwd_flag'].value_counts()\n",
        "conn_df"
      ]
    },
    {
      "cell_type": "markdown",
      "metadata": {
        "id": "_IA3_6oKi38N"
      },
      "source": [
        "\n",
        "> **So near about 8000 times the taxies have lost their connection and saved the trip information to them only, without sharing it with their server.**"
      ]
    },
    {
      "cell_type": "markdown",
      "metadata": {
        "id": "qzF-9P4vjKts"
      },
      "source": [
        "#### **Which vendor have failed in connecting with servers maximum times?**"
      ]
    },
    {
      "cell_type": "code",
      "execution_count": null,
      "metadata": {
        "colab": {
          "base_uri": "https://localhost:8080/"
        },
        "id": "c1633gVNjRuv",
        "outputId": "89ded55c-77d1-4644-9766-eebe44f3cb1a"
      },
      "outputs": [
        {
          "output_type": "execute_result",
          "data": {
            "text/plain": [
              "vendor_id  store_and_fwd_flag\n",
              "1          N                     670297\n",
              "           Y                       8045\n",
              "2          N                     780302\n",
              "Name: id, dtype: int64"
            ]
          },
          "metadata": {},
          "execution_count": 20
        }
      ],
      "source": [
        "server_df=first_df.groupby(['vendor_id','store_and_fwd_flag'])['id'].count()\n",
        "server_df"
      ]
    },
    {
      "cell_type": "markdown",
      "metadata": {
        "id": "fhtuLcg7jtnx"
      },
      "source": [
        "\n",
        "> **We can very clearly see here that all the network failures are contributed by first vendor only whose market depth was less than the second vendor.**\n",
        "\n",
        "> **So this lack of efficiency and effectivity in technology equipments by first vendor, might be the reason behind its less market penetration**"
      ]
    },
    {
      "cell_type": "markdown",
      "metadata": {
        "id": "WcBsScprmH1z"
      },
      "source": [
        "#### **Converting the given lattitude and longitude to the real time locations and then calculating the distance travlled by the taxies for individual trips.**"
      ]
    },
    {
      "cell_type": "code",
      "execution_count": null,
      "metadata": {
        "id": "O4xDukkimHYi"
      },
      "outputs": [],
      "source": [
        "def degrees(lat1,lon1,lat2,lon2):\n",
        "  '''This function uses the given lattitude and longitude to produce the distance travelled by the taxies\n",
        "     for respective co-ordinates.'''\n",
        "\n",
        "  lat1= radians(lat1)  # Converting the lattitude to radians first.\n",
        "  lat2 = radians(lat2)\n",
        "  lon1 = radians(lon1)\n",
        "  lon2 = radians(lon2)\n",
        "\n",
        "  radius = 6347        # Actual Radius of the Earth.\n",
        "  dlat= (lat2-lat1)\n",
        "  dlon= (lon2-lon1)\n",
        "\n",
        "  a = sin(dlat/2)**2 + (sin(dlon/2)**2) * cos(lat1) * cos(lat2)\n",
        "  c = 2* asin(sqrt(a))\n",
        "\n",
        "  return radius*c # The distance of the trip."
      ]
    },
    {
      "cell_type": "code",
      "execution_count": null,
      "metadata": {
        "id": "kNxEdDKsnJGQ"
      },
      "outputs": [],
      "source": [
        "second_df=first_df.reset_index()\n",
        "for a,b,c,d,e in second_df[['index','pickup_latitude','pickup_longitude','dropoff_latitude','dropoff_longitude']].values:\n",
        "  second_df['index'][a] = degrees(b,c,d,e)"
      ]
    },
    {
      "cell_type": "code",
      "execution_count": null,
      "metadata": {
        "id": "kvtcWopgnW3v"
      },
      "outputs": [],
      "source": [
        "# Dropping the already used co-ordinates columns and renaming the index column as oer or requirement.\n",
        "third_df=second_df.drop(['pickup_latitude','pickup_longitude','dropoff_latitude','dropoff_longitude'],axis=1)\n",
        "third_df.rename(columns={'index':'distance_travelled'},inplace=True)"
      ]
    },
    {
      "cell_type": "code",
      "execution_count": null,
      "metadata": {
        "id": "lSHYgT4qoLza"
      },
      "outputs": [],
      "source": [
        "third_df\n"
      ]
    },
    {
      "cell_type": "markdown",
      "metadata": {
        "id": "MO7y2XiDlgEn"
      },
      "source": [
        "####**Time series analysis of the Dataset**"
      ]
    },
    {
      "cell_type": "code",
      "execution_count": null,
      "metadata": {
        "id": "NRQFoDiruRDx"
      },
      "outputs": [],
      "source": [
        "third_df['pickup_datetime']=pd.to_datetime(third_df['pickup_datetime'])"
      ]
    },
    {
      "cell_type": "code",
      "execution_count": null,
      "metadata": {
        "id": "xA1fbaOQubk3"
      },
      "outputs": [],
      "source": [
        "third_df['dropoff_datetime']=pd.to_datetime(third_df['dropoff_datetime'])"
      ]
    },
    {
      "cell_type": "code",
      "execution_count": null,
      "metadata": {
        "id": "yUcfR1l-lqYm"
      },
      "outputs": [],
      "source": [
        "third_df['pickup_month']=third_df['pickup_datetime'].dt.month\n",
        "third_df['pickup_day']=third_df['pickup_datetime'].dt.day\n",
        "third_df['pickup_hour']=third_df['pickup_datetime'].dt.hour\n",
        "third_df['pickup_minute']=third_df['pickup_datetime'].dt.minute\n",
        "third_df['pickup_seconds']=third_df['pickup_datetime'].dt.second"
      ]
    },
    {
      "cell_type": "code",
      "execution_count": null,
      "metadata": {
        "id": "kyQ4LQRul629"
      },
      "outputs": [],
      "source": [
        "third_df['dropoff_month']=third_df['dropoff_datetime'].dt.month\n",
        "third_df['dropoff_day']=third_df['dropoff_datetime'].dt.day\n",
        "third_df['dropoff_hour']=third_df['dropoff_datetime'].dt.hour\n",
        "third_df['dropoff_minute']=third_df['dropoff_datetime'].dt.minute\n",
        "third_df['dropoff_seconds']=third_df['dropoff_datetime'].dt.second"
      ]
    },
    {
      "cell_type": "markdown",
      "metadata": {
        "id": "A8TQP1dOulLy"
      },
      "source": [
        "**The very important factor in the dataset is pickup time and drop time. I have converted this feature into desirable and handalable type.**"
      ]
    },
    {
      "cell_type": "code",
      "execution_count": null,
      "metadata": {
        "id": "f_8uEBM0GzqS"
      },
      "outputs": [],
      "source": [
        "third_df.trip_duration.groupby(pd.cut(third_df.trip_duration, np.arange(1,max(third_df.trip_duration),3600))).count()[:30]"
      ]
    },
    {
      "cell_type": "markdown",
      "metadata": {
        "id": "MklQmIt27Izw"
      },
      "source": [
        "> **There are some trips with more than 24 hours of travel duration i.e. 86400 seconds. Which might have occured on weekends for the outstation travels.**\\\n",
        "> **Major chunk of trips are completed within an interval of 1 hour with some good numbers of trips duration going above 1 hour.**"
      ]
    },
    {
      "cell_type": "code",
      "execution_count": null,
      "metadata": {
        "id": "rUJVRI13HCzw"
      },
      "outputs": [],
      "source": [
        "'''86400 seconds meaning 24 hours, Following trips are '''\n",
        "\n",
        "third_df[third_df.trip_duration > 86400]"
      ]
    },
    {
      "cell_type": "markdown",
      "metadata": {
        "id": "uhiutP4W8JO8"
      },
      "source": [
        ">**These trips ran for more than 20 days, which seems unlikely by the distance travelled.**\n",
        "> **All the trips are taken by vendor 1 which points us to the fact that this vendor might allows much longer trip for outstations.**\\\n",
        "> **All these trips are either taken on Tuesday's in 1st month or Saturday's in 2nd month. There might be some relation with the weekday, pickup location, month and the passenger.**\n",
        "> **But they fail our purpose of correct prediction and bring inconsistencies in the algorithm calculation.**"
      ]
    },
    {
      "cell_type": "markdown",
      "metadata": {
        "id": "TW0GJDlRu-Ii"
      },
      "source": [
        "#### **What is the variation in distance travelled by the passengers.**"
      ]
    },
    {
      "cell_type": "code",
      "execution_count": null,
      "metadata": {
        "id": "866IfakDwgx-"
      },
      "outputs": [],
      "source": [
        "array=np.arange(10,101,10)"
      ]
    },
    {
      "cell_type": "code",
      "execution_count": null,
      "metadata": {
        "id": "cP-V3X5MvUkk"
      },
      "outputs": [],
      "source": [
        "Num_of_trips=[]\n",
        "for j,i in enumerate(np.arange(10,101,10)):\n",
        "  Z=third_df[third_df['distance_travelled'] >i]  \n",
        "  Num_of_trips.append(len(Z))"
      ]
    },
    {
      "cell_type": "code",
      "execution_count": null,
      "metadata": {
        "id": "rS3O0KriyUpX"
      },
      "outputs": [],
      "source": [
        "a = pd.DataFrame(array,Num_of_trips).reset_index()\n",
        "distance_df=a.rename(columns={'index':'Number_of_trips',0:'Distance_more'})\n",
        "distance_df"
      ]
    },
    {
      "cell_type": "code",
      "execution_count": null,
      "metadata": {
        "id": "4uDKJMo-0VKo"
      },
      "outputs": [],
      "source": [
        "print('The total number of trips having more than 10km of travel distance are' ,distance_df['Number_of_trips'].sum())"
      ]
    },
    {
      "cell_type": "markdown",
      "metadata": {
        "id": "tEdE-7GpzjK4"
      },
      "source": [
        "> **The number of trips having distance more than 100km are 19.It might be the out of city trips or overnight trips.**\n",
        "\n",
        "> **So from the above chart we can say that, for the taxi businesses there are very less opportunities in long trips.**\n",
        "\n",
        "> **from 14 lakh trips only 1.2 lakh trips are long journey trips with more than 10km travel distance.**\n"
      ]
    },
    {
      "cell_type": "markdown",
      "metadata": {
        "id": "CuGYCApfyH6D"
      },
      "source": [
        "#### **What are the number of taxi trips per day?**"
      ]
    },
    {
      "cell_type": "markdown",
      "metadata": {
        "id": "BSrQrcUi3Si7"
      },
      "source": [
        "**The study of datset is just restricted to the six months of the year 2016.**"
      ]
    },
    {
      "cell_type": "code",
      "execution_count": null,
      "metadata": {
        "id": "mpDTQU4D37nd"
      },
      "outputs": [],
      "source": [
        "third_df['pickup_month_name']=third_df['pickup_datetime'].dt.month_name()\n",
        "third_df['dropoff_month_name']=third_df['dropoff_datetime'].dt.month_name()"
      ]
    },
    {
      "cell_type": "code",
      "execution_count": null,
      "metadata": {
        "id": "9DHvtANFu1lc"
      },
      "outputs": [],
      "source": [
        "trip_num_df=third_df.groupby(['pickup_month_name','pickup_day'])['distance_travelled'].count().reset_index()\n",
        "trip_num_df"
      ]
    },
    {
      "cell_type": "code",
      "execution_count": null,
      "metadata": {
        "id": "sATMkAps-NnX"
      },
      "outputs": [],
      "source": [
        "trip_num_df['distance_travelled'].min(),trip_num_df['distance_travelled'].max()"
      ]
    },
    {
      "cell_type": "markdown",
      "metadata": {
        "id": "t-WYofHH-auf"
      },
      "source": [
        "> **So we can see that taxies travel from 1648 to 9796 times per day.**\n",
        "**We need to remember that the above analysis is a cumulative figure of all the months.** "
      ]
    },
    {
      "cell_type": "markdown",
      "metadata": {
        "id": "JOpS6Z7S5LDJ"
      },
      "source": [
        "#### **What is the maximum distance travelled by taxies per day in all the six months.?**"
      ]
    },
    {
      "cell_type": "code",
      "execution_count": null,
      "metadata": {
        "id": "ONKyZ3fo8UQe"
      },
      "outputs": [],
      "source": [
        "dist_df=third_df.groupby(['pickup_month_name','pickup_day'])['distance_travelled'].max().reset_index()\n",
        "dist_df"
      ]
    },
    {
      "cell_type": "markdown",
      "metadata": {
        "id": "DM3rvJaX82L1"
      },
      "source": [
        "**So the max ditsance travelled by the taxies per day is quite high**\n",
        "> **From this we could conclude that the long journeys are quite frequent and there is sufficient business for long taxi trips.**"
      ]
    },
    {
      "cell_type": "markdown",
      "metadata": {
        "id": "x_aI4rqU9Tjv"
      },
      "source": [
        "#### **What is the on an average distance travelled by the taxies per day.**"
      ]
    },
    {
      "cell_type": "code",
      "execution_count": null,
      "metadata": {
        "id": "U9YPWSmd9TJe"
      },
      "outputs": [],
      "source": [
        "avg_dist=third_df.groupby(['pickup_month_name','pickup_day'])['distance_travelled'].mean().round().reset_index()\n",
        "avg_dist"
      ]
    },
    {
      "cell_type": "code",
      "execution_count": null,
      "metadata": {
        "id": "5WoCTq1f9i44"
      },
      "outputs": [],
      "source": [
        "avg_dist['distance_travelled'].unique()"
      ]
    },
    {
      "cell_type": "markdown",
      "metadata": {
        "id": "lN0ot_Dd9_Wa"
      },
      "source": [
        "> **So on an average taxies show very less variation in distance travelled.**\n",
        "**They are either travelling 3km or 4km.**"
      ]
    },
    {
      "cell_type": "markdown",
      "metadata": {
        "id": "E8Iai_kv-g45"
      },
      "source": [
        "#### **Find out on which hour of day taxies are bussiest.**"
      ]
    },
    {
      "cell_type": "code",
      "execution_count": null,
      "metadata": {
        "id": "NHb11Lzi-q6I"
      },
      "outputs": [],
      "source": [
        "hour_df=third_df.groupby('pickup_hour')['distance_travelled'].count().reset_index()\n",
        "hour_df"
      ]
    },
    {
      "cell_type": "markdown",
      "metadata": {
        "id": "C_Dj4u2F_eRY"
      },
      "source": [
        "> **It is astonishing to know about the high frequency of taxi bookings at midnight 12:00 AM.**\\\n",
        "**We also got to know that people take maximum number of taxies at evening 6:00 PM**"
      ]
    },
    {
      "cell_type": "markdown",
      "metadata": {
        "id": "j_G9OQZeBGpe"
      },
      "source": [
        "#### **Find out which day of the week is busiest**"
      ]
    },
    {
      "cell_type": "code",
      "execution_count": null,
      "metadata": {
        "id": "Vh1YLi4RBM0_"
      },
      "outputs": [],
      "source": [
        "third_df['pickup_day_name']=third_df['pickup_datetime'].dt.day_name()"
      ]
    },
    {
      "cell_type": "code",
      "execution_count": null,
      "metadata": {
        "id": "q4dBov1gBeOe"
      },
      "outputs": [],
      "source": [
        "week_df=third_df.groupby('pickup_day_name')['distance_travelled'].count().reset_index()\n",
        "week_df1=week_df.rename(columns={'distance_travelled':'Number_of_trips'})\n",
        "week_df1"
      ]
    },
    {
      "cell_type": "markdown",
      "metadata": {
        "id": "3he95IBpDHuP"
      },
      "source": [
        "> **So Friday and Saturday shows the maximum booking for taxi trips.So it might be possible that apart from office trips, people are planning long trips on weekends.**\\\n",
        "**We also have seen that the long journeys with distance more than 50 km are significantly high.**"
      ]
    },
    {
      "cell_type": "markdown",
      "metadata": {
        "id": "MSa1f5Uengrz"
      },
      "source": [
        "### What all manipulations have you done and insights you found?"
      ]
    },
    {
      "cell_type": "markdown",
      "metadata": {
        "id": "LbyXE7I1olp8"
      },
      "source": [
        "**For calculting the various insights and values mostly I used the groupby funtion of pandas,describe funtion to gain a basic overview of the outliers present in the dataset and some other basic functionalities.**\n",
        "> **I found out that the vendor first require to work upon some new technologies and improve its user experience.**\n",
        "\n",
        "> **I have found out that there are some trips which require more than a day to complete.**\n",
        "\n",
        "> **there are some trips with more than 500 km travel distance. It means taxies of NYC have been used for short journeys, medium distance journeys and even for long journeys.**\n",
        "\n",
        ">**We have found out that at 6PM the taxies are bussiest.These peak time again accumulated on week ends.**\n",
        "\n",
        "> **Again one astonishing fact which we have found in our EDA is, the taxies on an average travel the same distance daily. When I find the mean for all the distance travelled by taxies, the output was either 3 or 4.**\n",
        "\n"
      ]
    },
    {
      "cell_type": "markdown",
      "metadata": {
        "id": "GF8Ens_Soomf"
      },
      "source": [
        "## ***4. Data Vizualization, Storytelling & Experimenting with charts : Understand the relationships between variables***"
      ]
    },
    {
      "cell_type": "markdown",
      "metadata": {
        "id": "SBAFX_MQb7ip"
      },
      "source": [
        "### Visualization For Pick up and Drop off Locations"
      ]
    },
    {
      "cell_type": "code",
      "execution_count": 44,
      "metadata": {
        "id": "pBy0ASrx9SZv",
        "colab": {
          "base_uri": "https://localhost:8080/",
          "height": 807
        },
        "outputId": "61207e1b-41d4-4cbb-c53b-7f3d2f933935"
      },
      "outputs": [
        {
          "output_type": "display_data",
          "data": {
            "text/plain": [
              "<Figure size 1500x1000 with 1 Axes>"
            ],
            "image/png": "[encoded data removed]"
          },
          "metadata": {}
        }
      ],
      "source": [
        "plt.figure(figsize=(15,10))\n",
        "from mpl_toolkits.basemap import Basemap\n",
        "\n",
        "# Set the limits of the map to the minimum and maximum coordinates\n",
        "lat_min = 40.5\n",
        "lat_max = 40.9\n",
        "lon_min = -74.2\n",
        "lon_max = -73.7\n",
        "\n",
        "# Set the center of the map\n",
        "cent_lat = (lat_min + lat_max) / 2\n",
        "cent_lon = (lon_min + lon_max) / 2\n",
        "\n",
        "#Create the Basemap object with required params.\n",
        "map = Basemap(llcrnrlon=lon_min,\n",
        "              llcrnrlat=lat_min,\n",
        "              urcrnrlon=lon_max,\n",
        "              urcrnrlat=lat_max,\n",
        "              resolution='l',\n",
        "              projection='lcc',\n",
        "              lat_0 = cent_lat,\n",
        "              lon_0 = cent_lon)\n",
        "\n",
        "#Style the map\n",
        "map.drawcounties(linewidth=0.3)\n",
        "\n",
        "#Fetch the long and lat in form of array\n",
        "long = np.array(first_df[\"pickup_longitude\"])\n",
        "lat = np.array(first_df[\"pickup_latitude\"])\n",
        "\n",
        "x, y = map(long, lat)\n",
        "map.plot(x, y,'mo', markersize=1, alpha=1)\n",
        "plt.xticks()\n",
        "plt.show()"
      ]
    },
    {
      "cell_type": "markdown",
      "metadata": {
        "id": "h3iPYwTMDjy4"
      },
      "source": [
        "> **We can see that most of the taxi pickups were done in the manhattan area as compared to the other areas in NYC.**\\\n",
        "**A long trail towards the airport shows that the airport is situated quite far from the Manhattan area.**\\\n",
        "**There must have been some long distance rides towards and from the airport.**\\\n",
        "**Similarly the average duration for the rides picked-up to or for the airport would have been longer.**"
      ]
    },
    {
      "cell_type": "code",
      "execution_count": 45,
      "metadata": {
        "id": "1e4R22kLC6GD",
        "colab": {
          "base_uri": "https://localhost:8080/",
          "height": 807
        },
        "outputId": "a14ad1d2-6110-436e-c2d5-5ae0d94e1317"
      },
      "outputs": [
        {
          "output_type": "display_data",
          "data": {
            "text/plain": [
              "<Figure size 1500x1000 with 1 Axes>"
            ],
            "image/png": "[encoded data removed]"
          },
          "metadata": {}
        }
      ],
      "source": [
        "plt.figure(figsize=(15,10))\n",
        "from mpl_toolkits.basemap import Basemap\n",
        "\n",
        "# Set the limits of the map to the minimum and maximum coordinates\n",
        "lat_min = 40.5\n",
        "lat_max = 40.9\n",
        "lon_min = -74.2\n",
        "lon_max = -73.7\n",
        "\n",
        "# Set the center of the map\n",
        "cent_lat = (lat_min + lat_max) / 2\n",
        "cent_lon = (lon_min + lon_max) / 2\n",
        "\n",
        "#Create the Basemap object with required params.\n",
        "map = Basemap(llcrnrlon=lon_min,\n",
        "              llcrnrlat=lat_min,\n",
        "              urcrnrlon=lon_max,\n",
        "              urcrnrlat=lat_max,\n",
        "              resolution='l',\n",
        "              projection='lcc',\n",
        "              lat_0 = cent_lat,\n",
        "              lon_0 = cent_lon)\n",
        "\n",
        "#Style the map\n",
        "map.drawcounties(linewidth=0.3)\n",
        "\n",
        "#Fetch the long and lat in form of array\n",
        "long = np.array(first_df[\"dropoff_longitude\"])\n",
        "lat = np.array(first_df[\"dropoff_latitude\"])\n",
        "\n",
        "x, y = map(long, lat)\n",
        "map.plot(x, y,'go', markersize=1, alpha=1)\n",
        "plt.xticks()\n",
        "plt.show()"
      ]
    },
    {
      "cell_type": "markdown",
      "metadata": {
        "id": "9zdCvxhADUyd"
      },
      "source": [
        "> **Dropoff's are much more distributed around the NYC area where still most of the dropoff's were done in the Manhattan.**\\\n",
        "**So we can conclude that, pickups are concentrated in less number of areas and drop offs are more varied and spreaded.**"
      ]
    },
    {
      "cell_type": "markdown",
      "metadata": {
        "id": "0wOQAZs5pc--"
      },
      "source": [
        "#### Chart - 1 - Distribution Plot for a basic overview of all the features."
      ]
    },
    {
      "cell_type": "markdown",
      "metadata": {
        "id": "PszRXJC-Altg"
      },
      "source": [
        "The desired column for distribution plot"
      ]
    },
    {
      "cell_type": "code",
      "execution_count": null,
      "metadata": {
        "id": "vMIY92PQAIq2"
      },
      "outputs": [],
      "source": [
        "columns=[i for i in third_df.columns if i not in ['store_and_fwd_flag','pickup_day_name','dropoff_month_name',\n",
        "                                                  'dropoff_datetime','pickup_datetime','id','pickup_month_name']]"
      ]
    },
    {
      "cell_type": "code",
      "execution_count": null,
      "metadata": {
        "id": "7v_ESjsspbW7",
        "colab": {
          "base_uri": "https://localhost:8080/",
          "height": 1000
        },
        "outputId": "675f649e-f978-4a57-f139-2c4ae47730d3"
      },
      "outputs": [
        {
          "output_type": "display_data",
          "data": {
            "text/plain": [
              "<Figure size 640x480 with 1 Axes>"
            ],
            "image/png": "[encoded data removed]"
          },
          "metadata": {}
        },
        {
          "output_type": "display_data",
          "data": {
            "text/plain": [
              "<Figure size 640x480 with 1 Axes>"
            ],
            "image/png": "[encoded data removed]"
          },
          "metadata": {}
        },
        {
          "output_type": "display_data",
          "data": {
            "text/plain": [
              "<Figure size 640x480 with 1 Axes>"
            ],
            "image/png": "[encoded data removed]"
          },
          "metadata": {}
        },
        {
          "output_type": "display_data",
          "data": {
            "text/plain": [
              "<Figure size 640x480 with 1 Axes>"
            ],
            "image/png": "[encoded data removed]"
          },
          "metadata": {}
        }
      ],
      "source": [
        "# Chart - 1 visualization code\n",
        "for i in columns:\n",
        "  sns.distplot(third_df[i])\n",
        "  plt.show()"
      ]
    },
    {
      "cell_type": "markdown",
      "metadata": {
        "id": "XESiWehPqBRc"
      },
      "source": [
        "> **This Chart is the best choice to show the distribution of all the features.**"
      ]
    },
    {
      "cell_type": "markdown",
      "metadata": {
        "id": "C_j1G7yiqdRP"
      },
      "source": [
        "> **Some features like distance travelled, passenger count and trip duration are skew symmetric.**\n",
        "\n",
        "> **Whereas drop off seconds , drop off minute , dropoff hour,drop off day,pick up seconds,pick up minute, pick up hour,pick up day show the uniform distribution.**"
      ]
    },
    {
      "cell_type": "markdown",
      "metadata": {
        "id": "3cspy4FjqxJW"
      },
      "source": [
        "> **The study of distribution shows the arrangement of all the data points in the features. It helps to improve our prediction model.**"
      ]
    },
    {
      "cell_type": "markdown",
      "metadata": {
        "id": "KSlN3yHqYklG"
      },
      "source": [
        "#### Chart - 2 plotting the number of trips involved by each vendor"
      ]
    },
    {
      "cell_type": "code",
      "execution_count": null,
      "metadata": {
        "id": "R4YgtaqtYklH"
      },
      "outputs": [],
      "source": [
        "# Chart - 2 visualization code\n",
        "vendor_df1=vendor_df.reset_index()\n",
        "vendor_df1"
      ]
    },
    {
      "cell_type": "code",
      "execution_count": null,
      "metadata": {
        "id": "ToVFMw0K0JEr"
      },
      "outputs": [],
      "source": [
        "fig = px.bar(vendor_df1, x='vendor_id', y='id',color='vendor_id')\n",
        "fig.update_layout(width=500,height=500)\n",
        "fig.show('jpg')"
      ]
    },
    {
      "cell_type": "markdown",
      "metadata": {
        "id": "5aaW0BYyYklI"
      },
      "source": [
        "\n",
        "**As there are only two columns two bars are sufficient for showing the vendors.**\n"
      ]
    },
    {
      "cell_type": "markdown",
      "metadata": {
        "id": "PSx9atu2YklI"
      },
      "source": [
        "\n",
        "**The market penetration of first vendor is less than the second one.**"
      ]
    },
    {
      "cell_type": "markdown",
      "metadata": {
        "id": "EM7whBJCYoAo"
      },
      "source": [
        "#### Chart - 3 Plotting for the number of passengers and counting their taxi trips"
      ]
    },
    {
      "cell_type": "code",
      "execution_count": null,
      "metadata": {
        "id": "t6GMdE67YoAp"
      },
      "outputs": [],
      "source": [
        "# Chart - 3 visualization code\n",
        "Passen_df1=Passen_df.reset_index()\n",
        "Passen_df1"
      ]
    },
    {
      "cell_type": "code",
      "execution_count": null,
      "metadata": {
        "id": "eDSKnkB6EJA6"
      },
      "outputs": [],
      "source": [
        "fig=px.bar(Passen_df1,x='passenger_count',y='id',color='passenger_count')\n",
        "fig.show('jpg')"
      ]
    },
    {
      "cell_type": "markdown",
      "metadata": {
        "id": "5dBItgRVYoAp"
      },
      "source": [
        "\n",
        "**For showing the taxi booking trends.**"
      ]
    },
    {
      "cell_type": "markdown",
      "metadata": {
        "id": "4jstXR6OYoAp"
      },
      "source": [
        "\n",
        "**Despite having 8 and 9 passenger count, maximum number of taxies are booked by single passengers.**"
      ]
    },
    {
      "cell_type": "markdown",
      "metadata": {
        "id": "zfJ8IqMcYoAp"
      },
      "source": [
        "\n",
        "**It shows the business is dominant in single passenger bookings and companies should focus on single passengers trips.**"
      ]
    },
    {
      "cell_type": "markdown",
      "metadata": {
        "id": "4Of9eVA-YrdM"
      },
      "source": [
        "#### Chart - 4 Ploting for those vendors who lost their connections"
      ]
    },
    {
      "cell_type": "code",
      "execution_count": null,
      "metadata": {
        "id": "irlUoxc8YrdO"
      },
      "outputs": [],
      "source": [
        "# Chart - 4 visualization code\n",
        "conn_df"
      ]
    },
    {
      "cell_type": "code",
      "execution_count": null,
      "metadata": {
        "id": "ts7LDzDzFlNu"
      },
      "outputs": [],
      "source": [
        "fig=px.bar(conn_df,x=conn_df.index ,y= conn_df,color=conn_df.index)\n",
        "fig.show('jpg')"
      ]
    },
    {
      "cell_type": "markdown",
      "metadata": {
        "id": "Xx8WAJvtYrdO"
      },
      "source": [
        "\n",
        "**It has been found out that their are total 8045 instances when the taxies are failed to connect to their servers.**"
      ]
    },
    {
      "cell_type": "markdown",
      "metadata": {
        "id": "jLNxxz7MYrdP"
      },
      "source": [
        "\n",
        "**It will help businesses to improve upon their customer services.**"
      ]
    },
    {
      "cell_type": "markdown",
      "metadata": {
        "id": "bamQiAODYuh1"
      },
      "source": [
        "#### Chart - 5 plotting for visualization of number of trips in which taxies failed to connect with their servers."
      ]
    },
    {
      "cell_type": "code",
      "execution_count": null,
      "metadata": {
        "id": "TIJwrbroYuh3"
      },
      "outputs": [],
      "source": [
        "# Chart - 5 visualization code\n",
        "server_df1=server_df.reset_index()\n",
        "server_df1"
      ]
    },
    {
      "cell_type": "code",
      "execution_count": null,
      "metadata": {
        "id": "6dCQVATHGTe-"
      },
      "outputs": [],
      "source": [
        "fig=px.bar(server_df1, x='vendor_id',y='id',color='store_and_fwd_flag')\n",
        "fig.update_layout(width=500,height=500)\n",
        "fig.show('jpg')"
      ]
    },
    {
      "cell_type": "markdown",
      "metadata": {
        "id": "uyqkiB8YYuh3"
      },
      "source": [
        "\n",
        "> **this graphs is doing the justice to the lost connections of taxies. It says all the connections are lost by only vendor 1**.\n",
        "\n",
        "> **We had seen that the market penetration of first one is lesser than the second one.**\n",
        "\n",
        "> **The less utilization of advanced technologies and comparatively older service approach might be the reason behind market backwardness of first vendor.**"
      ]
    },
    {
      "cell_type": "markdown",
      "metadata": {
        "id": "_WtzZ_hCYuh4"
      },
      "source": [
        "\n",
        "> **Graph helps the first vendor to improve upon their services.**"
      ]
    },
    {
      "cell_type": "markdown",
      "metadata": {
        "id": "OH-pJp9IphqM"
      },
      "source": [
        "#### Chart - 6 The visualization for the number of trips according to the distance they travelled."
      ]
    },
    {
      "cell_type": "code",
      "execution_count": null,
      "metadata": {
        "id": "h5qTW-n_IwLO"
      },
      "outputs": [],
      "source": [
        "for i,j in enumerate(distance_df['Distance_more']):\n",
        "  distance_df['Distance_more'][i]= str(j) + 'km'"
      ]
    },
    {
      "cell_type": "code",
      "execution_count": null,
      "metadata": {
        "id": "kuRf4wtuphqN"
      },
      "outputs": [],
      "source": [
        "# Chart - 6 visualization code\n",
        "distance_df"
      ]
    },
    {
      "cell_type": "code",
      "execution_count": null,
      "metadata": {
        "id": "cq7-3cjJKc2Z"
      },
      "outputs": [],
      "source": [
        "fig=px.bar(distance_df,x='Number_of_trips',y='Distance_more',color='Distance_more')\n",
        "fig.show('jpg')"
      ]
    },
    {
      "cell_type": "code",
      "execution_count": null,
      "metadata": {
        "id": "O9qIHPWIIspI"
      },
      "outputs": [],
      "source": [
        "fig=px.bar(distance_df[4:],x='Number_of_trips',y='Distance_more',color='Distance_more')\n",
        "fig.show('jpg')"
      ]
    },
    {
      "cell_type": "markdown",
      "metadata": {
        "id": "loh7H2nzphqN"
      },
      "source": [
        "\n",
        "**I wanted to show the two graphs for earlier large values and to represent the small values different graph.**"
      ]
    },
    {
      "cell_type": "markdown",
      "metadata": {
        "id": "VECbqPI7phqN"
      },
      "source": [
        "\n",
        "> **There are 19 trips which goes for more than 100km**\n",
        "**We know that the small trips are dominant but we also know that some trips require more than 24 hrs to complete.**\n",
        "> **So we can coverge our both the findings. So we can conclude those with more than 100km distance may took large amount of time to complete.**"
      ]
    },
    {
      "cell_type": "markdown",
      "metadata": {
        "id": "PIIx-8_IphqN"
      },
      "source": [
        "#### Chart - 7 Plot for the number of taxi trips per day"
      ]
    },
    {
      "cell_type": "code",
      "execution_count": null,
      "metadata": {
        "id": "lqAIGUfyphqO"
      },
      "outputs": [],
      "source": [
        "# Chart - 7 visualization code\n",
        "trip_num_df1=trip_num_df.rename(columns={'distance_travelled':'Number_of_trips'})\n",
        "trip_num_df1"
      ]
    },
    {
      "cell_type": "code",
      "execution_count": null,
      "metadata": {
        "id": "mC3fJV5YMxni"
      },
      "outputs": [],
      "source": [
        "fig=px.area(trip_num_df1,x='pickup_day',y='Number_of_trips',color='pickup_month_name')\n",
        "fig.update_layout(width=1000,height=500)\n",
        "fig.show('jpg')"
      ]
    },
    {
      "cell_type": "markdown",
      "metadata": {
        "id": "iv6ro40sphqO"
      },
      "source": [
        "\n",
        "**Area chart gives a glimpse of flow which is present in the dataset.**"
      ]
    },
    {
      "cell_type": "markdown",
      "metadata": {
        "id": "Po6ZPi4hphqO"
      },
      "source": [
        "\n",
        "**So we can see that taxies travel from 1648 to 9796 times per day. We need to remember that the above analysis is a cumulative figure of all the months**\n",
        "**A kind of similar pattern follows throughout the months.**"
      ]
    },
    {
      "cell_type": "markdown",
      "metadata": {
        "id": "BZR9WyysphqO"
      },
      "source": [
        "#### Chart - 8 The maximum distance per day by taxies."
      ]
    },
    {
      "cell_type": "code",
      "execution_count": null,
      "metadata": {
        "id": "TdPTWpAVphqO"
      },
      "outputs": [],
      "source": [
        "# Chart - 8 visualization code\n",
        "dist_df1=dist_df.rename(columns={'distance_travelled':'max_distance'})\n",
        "dist_df1"
      ]
    },
    {
      "cell_type": "code",
      "execution_count": null,
      "metadata": {
        "id": "6QKGJIDiS1Hn"
      },
      "outputs": [],
      "source": [
        "fig=px.bar(dist_df1,x='pickup_day',y='max_distance',color='pickup_month_name')\n",
        "fig.update_layout(width=1200,height=700)\n",
        "fig.show('jpg')"
      ]
    },
    {
      "cell_type": "markdown",
      "metadata": {
        "id": "Ob8u6rCTphqO"
      },
      "source": [
        "\n",
        "**This chart gives the idea about all the maximum distances at once from all the months.**"
      ]
    },
    {
      "cell_type": "markdown",
      "metadata": {
        "id": "mZtgC_hjphqO"
      },
      "source": [
        "\n",
        "> **We can see there are certain trips which are even more than 500 km.**\n",
        "\n",
        "> **In the month of february there are two trips which are more than 500 km.**\n",
        "\n",
        "> **In the month of may there is one trip with 1200 km.**\n",
        "\n",
        "> **So we can conclude that the people occassionally use taxies for very long journeys.**"
      ]
    },
    {
      "cell_type": "markdown",
      "metadata": {
        "id": "ey_0qi68phqO"
      },
      "source": [
        "\n",
        "> **By knowing this fact that, people use taxies for very long journeys, taxi bussinesses can be optimized for long journeys, so that the cost for journeys be reduced and people could use more public transport.**"
      ]
    },
    {
      "cell_type": "markdown",
      "metadata": {
        "id": "YJ55k-q6phqO"
      },
      "source": [
        "#### Chart - 9 The average distance involved by taxies per day."
      ]
    },
    {
      "cell_type": "code",
      "execution_count": null,
      "metadata": {
        "id": "B2aS4O1ophqO"
      },
      "outputs": [],
      "source": [
        "# Chart - 9 visualization code\n",
        "avg_dist"
      ]
    },
    {
      "cell_type": "code",
      "execution_count": null,
      "metadata": {
        "id": "dfsntA-lXdUm"
      },
      "outputs": [],
      "source": [
        "fig=px.bar(avg_dist,x='distance_travelled',y='pickup_month_name',color='pickup_month_name')\n",
        "fig.show('jpg')"
      ]
    },
    {
      "cell_type": "markdown",
      "metadata": {
        "id": "ngGi97qjphqQ"
      },
      "source": [
        "\n",
        "> **The graph shows only two types of values.**\n",
        "> **It means on an average taxies run either 3 km or 4km per day.**\n",
        "> **So the taxies are having same amount of business on every day with some occassional highs and lows.**"
      ]
    },
    {
      "cell_type": "markdown",
      "metadata": {
        "id": "U2RJ9gkRphqQ"
      },
      "source": [
        "#### Chart - 10 The Graph for hourly involvement of taxies in journey."
      ]
    },
    {
      "cell_type": "code",
      "execution_count": null,
      "metadata": {
        "id": "5P4wItxcYTK6"
      },
      "outputs": [],
      "source": [
        "for i,j in enumerate(hour_df['pickup_hour']):\n",
        "  hour_df['pickup_hour'][i]= str(j)+' o clock'"
      ]
    },
    {
      "cell_type": "code",
      "execution_count": null,
      "metadata": {
        "id": "GM7a4YP4phqQ"
      },
      "outputs": [],
      "source": [
        "# Chart - 10 visualization code\n",
        "hour_df"
      ]
    },
    {
      "cell_type": "code",
      "execution_count": null,
      "metadata": {
        "id": "72NwqRC5WYl1"
      },
      "outputs": [],
      "source": [
        "fig=px.bar(hour_df,x='pickup_hour',y='distance_travelled',color='pickup_hour',color_discrete_sequence=px.colors.qualitative.Dark24)\n",
        "fig.update_layout(width=1100,height=500)\n",
        "fig.show('jpg')"
      ]
    },
    {
      "cell_type": "markdown",
      "metadata": {
        "id": "8agQvks0phqQ"
      },
      "source": [
        "\n",
        "**different colors shows the trend of increasing energy consumption.**"
      ]
    },
    {
      "cell_type": "markdown",
      "metadata": {
        "id": "Qp13pnNzphqQ"
      },
      "source": [
        "\n",
        "**From 6 PM the number of taxi trips are increases upto 9 PM and after midnight 12AM the number of taxi trips decreases upto 6 AM morning.**"
      ]
    },
    {
      "cell_type": "markdown",
      "metadata": {
        "id": "R4Ka1PC2phqR"
      },
      "source": [
        "\n",
        "**understanding the timing of demands of taxies is important to improve upon the businesses.**"
      ]
    },
    {
      "cell_type": "markdown",
      "metadata": {
        "id": "x-EpHcCOp1ci"
      },
      "source": [
        "#### Chart - 11 Plot for showing which day of week shows maximum number of trips."
      ]
    },
    {
      "cell_type": "code",
      "execution_count": null,
      "metadata": {
        "id": "mAQTIvtqp1cj"
      },
      "outputs": [],
      "source": [
        "# Chart - 11 visualization code\n",
        "week_df1"
      ]
    },
    {
      "cell_type": "code",
      "execution_count": null,
      "metadata": {
        "id": "9CldY9aWasTS"
      },
      "outputs": [],
      "source": [
        "sns.pointplot( x=week_df['pickup_day_name'],y=week_df1['Number_of_trips'])"
      ]
    },
    {
      "cell_type": "markdown",
      "metadata": {
        "id": "ZYdMsrqVp1ck"
      },
      "source": [
        "\n",
        "**From the chart we can understand the taxi trips on friday are maximum and on monday it is minimum.**"
      ]
    },
    {
      "cell_type": "markdown",
      "metadata": {
        "id": "NC_X3p0fY2L0"
      },
      "source": [
        "#### Chart - 12 - Correlation Heatmap"
      ]
    },
    {
      "cell_type": "code",
      "execution_count": null,
      "metadata": {
        "id": "xyC9zolEZNRQ"
      },
      "outputs": [],
      "source": [
        "# Correlation Heatmap visualization code\n",
        "plt.figure(figsize=(15,10))\n",
        "corr=third_df.corr()\n",
        "sns.heatmap(abs(corr),annot=True)"
      ]
    },
    {
      "cell_type": "markdown",
      "metadata": {
        "id": "Ox72jps7C2zG"
      },
      "source": [
        "> **We can see that the matrix represent a beautiful correlation between all the features.**\n",
        "> **So there is a very strong  correlation between pickup month and drop off month,pickup day and drop off day, pichup hour and drop off hour.**\n",
        "> **So we can expect this correlation between the given features and out of 14 features only 3 features shows strong correlation.**\n",
        "> **Hence I am tolerating the presence of these three features and considering them inthe model prediction.**"
      ]
    },
    {
      "cell_type": "markdown",
      "metadata": {
        "id": "g-ATYxFrGrvw"
      },
      "source": [
        "## ***5. Hypothesis Testing***"
      ]
    },
    {
      "cell_type": "markdown",
      "metadata": {
        "id": "Yfr_Vlr8HBkt"
      },
      "source": [
        "### Based on your chart experiments, define three hypothetical statements from the dataset. In the next three questions, perform hypothesis testing to obtain final conclusion about the statements through your code and statistical testing."
      ]
    },
    {
      "cell_type": "markdown",
      "metadata": {
        "id": "8yEUt7NnHlrM"
      },
      "source": [
        "### Hypothetical Statement - 1"
      ]
    },
    {
      "cell_type": "markdown",
      "metadata": {
        "id": "tEA2Xm5dHt1r"
      },
      "source": [
        "#### 1. State Your research hypothesis as a null hypothesis and alternate hypothesis."
      ]
    },
    {
      "cell_type": "markdown",
      "metadata": {
        "id": "HI9ZP0laH0D-"
      },
      "source": [
        "**Let's say, I went to New York and asked few questions to  a taxi driver about the duration they required to complete one taxi trip. He answered that they require a MEAN of all the time required by all the taxies for that day.**\n",
        "**Now I want to evaluate the correctness of taxi driver's statement.**\n",
        "\n",
        "> So we know one thing here that this statement can be possible for some events but on some it may not. So I would check whether the hypothetical statement of driver is true for 50 % of the observations or it stands for more than 50 %.\n",
        "\n",
        "**H0 : time of one trip >= mean of trip duration per day for more than 50% observations**\\\n",
        "**HA : time of one trip <= mean of trip duration per day for less than 50% observations**\n"
      ]
    },
    {
      "cell_type": "code",
      "execution_count": null,
      "metadata": {
        "id": "fy7z7QKbMfb9"
      },
      "outputs": [],
      "source": [
        "'''I would require to calculate the mean of trip duration for every day of each 6 months. That mean would be compared with the every data point \n",
        "of our parent Dataset.'''\n",
        "\n",
        "\n",
        "Hypo_df=third_df.groupby(['pickup_month_name','pickup_day'])['trip_duration'].mean().reset_index()\n",
        "Hypo_df"
      ]
    },
    {
      "cell_type": "markdown",
      "metadata": {
        "id": "FV7nyRH2OXjx"
      },
      "source": [
        "**This is our desired Dataset. we would calibarate these points with every day of every month. For e.g We would check whether the trip duration of one taxi on April first is greater than its mean. I would compare that value with the above dataset.**"
      ]
    },
    {
      "cell_type": "markdown",
      "metadata": {
        "id": "I79__PHVH19G"
      },
      "source": [
        "#### 2. Perform an appropriate statistical test."
      ]
    },
    {
      "cell_type": "code",
      "execution_count": null,
      "metadata": {
        "id": "oZrfquKtyian"
      },
      "outputs": [],
      "source": [
        "# Perform Statistical Test to obtain P-Value\n",
        "'''I would perform the statistical test on a random sample of 2.5 lakh datapoints.'''\n",
        "\n",
        "random_sample = third_df[['pickup_month_name','pickup_day','trip_duration']].sample(250000)\n",
        "\n",
        "'''Now we would check if the trip duration of our random sample is greater than the daily mean.'''\n",
        "\n",
        "duration_list=[]\n",
        "for ran_mon, ran_day, ran_du in zip(random_sample['pickup_month_name'],random_sample['pickup_day'],random_sample['trip_duration']):\n",
        "\n",
        "  for hypo_month, hypo_day, hypo_du in zip(Hypo_df['pickup_month_name'],Hypo_df['pickup_day'],Hypo_df['trip_duration']):\n",
        "\n",
        "    if ran_mon==hypo_month and ran_day==hypo_day and ran_du >= hypo_du :\n",
        "      duration_list.append(ran_du)\n",
        "\n",
        "proportion_random = len(duration_list)/len(random_sample)\n",
        "print('The Proportion, where daily taxi duration is greater than or equal to its daily mean is ',proportion_random)"
      ]
    },
    {
      "cell_type": "code",
      "execution_count": null,
      "metadata": {
        "id": "rshzdi_iYPQg"
      },
      "outputs": [],
      "source": [
        "Hypo_proportion = 0.5 # the hypothetical proportion is 50%. The proportion which we want to check.\n",
        "denominator = Hypo_proportion*(1-Hypo_proportion)/len(random_sample) # The early calculation of denominator of formula.\n",
        "\n",
        "Z_score = proportion_random - Hypo_proportion/ denominator**0.5\n",
        "print('The value of Z_score is ',Z_score)\n",
        "\n",
        "'''Now Calculating the probability value of the given Z_score by using normal cumulative distribution function.'''\n",
        "P_value = norm.cdf(Z_score,0,1)\n",
        "print('The Probability of given proportion is ',P_value)\n",
        "\n",
        "significant_value= 0.05\n",
        "if P_value > significant_value:\n",
        "  print('We have enough evidence that our null hypothesis is correct and can be accepted.')\n",
        "\n",
        "else :\n",
        "  print('P_value is less than significant_value, So We have suffiecient evidence that we can not accept the null hypothesis.')"
      ]
    },
    {
      "cell_type": "markdown",
      "metadata": {
        "id": "3ZhFtOawfBR_"
      },
      "source": [
        "**As we can see the P_value is less than our significance value, we can say that we have sufficient evidence to reject the null hypothesis**\n",
        "**It means the assumption told by taxi driver can not be accepted and the trip duration of any taxi is less than its daily mean.**"
      ]
    },
    {
      "cell_type": "markdown",
      "metadata": {
        "id": "yLjJCtPM0KBk"
      },
      "source": [
        "## ***6. Feature Engineering & Data Pre-processing***"
      ]
    },
    {
      "cell_type": "markdown",
      "metadata": {
        "id": "xiyOF9F70UgQ"
      },
      "source": [
        "### 1. Handling Missing Values"
      ]
    },
    {
      "cell_type": "code",
      "execution_count": null,
      "metadata": {
        "id": "iRsAHk1K0fpS"
      },
      "outputs": [],
      "source": [
        "# Handling Missing Values & Missing Value Imputation\n",
        "third_df.isnull().sum()"
      ]
    },
    {
      "cell_type": "markdown",
      "metadata": {
        "id": "1ixusLtI0pqI"
      },
      "source": [
        "**We can see there are no null values.**"
      ]
    },
    {
      "cell_type": "markdown",
      "metadata": {
        "id": "id1riN9m0vUs"
      },
      "source": [
        "### 2. Handling Outliers"
      ]
    },
    {
      "cell_type": "code",
      "execution_count": null,
      "metadata": {
        "id": "xlEtz2kIgh4V"
      },
      "outputs": [],
      "source": [
        "# Here I am just enlisting the important columns.\n",
        "\n",
        "columns=[i for i in third_df.columns if i not in ['id','pickup_datetime','dropoff_datetime',\n",
        "                                                  'pickup_month_name', 'dropoff_month_name', 'pickup_day_name']]"
      ]
    },
    {
      "cell_type": "code",
      "execution_count": null,
      "metadata": {
        "id": "a_FBndHBhID3"
      },
      "outputs": [],
      "source": [
        "fourth_df=third_df[columns].copy() # copying the dataset. so that the changes should not be permanent and can be accessible in the future."
      ]
    },
    {
      "cell_type": "code",
      "execution_count": null,
      "metadata": {
        "id": "gR_FAiCYsUo2"
      },
      "outputs": [],
      "source": [
        "fourth_df['store_and_fwd_flag']=np.where(fourth_df['store_and_fwd_flag']=='Y',1,0) # replacing the categorical values with binary values."
      ]
    },
    {
      "cell_type": "code",
      "execution_count": null,
      "metadata": {
        "id": "MGZDZ-WagbmE"
      },
      "outputs": [],
      "source": [
        "for i in columns:\n",
        "  '''The Loop for calculating the outliers'''\n",
        "\n",
        "  Q1 = np.percentile(fourth_df[i] , 25 , interpolation='midpoint')\n",
        "  \n",
        "  Q3 = np.percentile(fourth_df[i] , 75 , interpolation='midpoint')\n",
        "\n",
        "  IQR = Q3 - Q1\n",
        "  \n",
        "  Lower_limit = Q1 - (1.5 * IQR)\n",
        "  Upper_limit = Q3 + (1.5 * IQR)\n",
        "\n",
        "  '''After Calculating all the outliers, removing them is important.For their analysis I have first replaced them with null\n",
        "    values. Later on I find out the null values for individual columns and then replaced it with desired value.'''\n",
        "  \n",
        "  for j in fourth_df[i]:\n",
        "    if ((j > Upper_limit) or (j < Lower_limit)) :\n",
        "      fourth_df[i].replace( j , np.nan,inplace = True)"
      ]
    },
    {
      "cell_type": "markdown",
      "source": [
        "**In this particualr code I am just calculating the Inter Quartile range for every feature, by calculating its 75th and 25th percentile.By this calculation I will got the higher and lower limit. I will replace those values which are out of thise interval by null values so that I could replace them easily.**"
      ],
      "metadata": {
        "id": "r8yVitb-u1Pr"
      }
    },
    {
      "cell_type": "code",
      "execution_count": null,
      "metadata": {
        "id": "Odw03RCIKIKE"
      },
      "outputs": [],
      "source": [
        "fourth_df.isnull().sum()"
      ]
    },
    {
      "cell_type": "markdown",
      "metadata": {
        "id": "0OxbUPVBKTvK"
      },
      "source": [
        "**So from the above beautiful analysis , we can see the 'distance travelled' feature showing more than 1.4 laks outliers. This  output is corelating with our earlier findings where we had found out that the trips shows very long journeys even more than 100km.**\n",
        "\n",
        "> **For passenger count, we can conclude that our earlier analysis where we have found out that some trips where passenger is more than 6, seems a mistake done by drivers.**\n",
        "\n",
        "> **For trip duration we have calculated that there are some trips with more than 24 hrs time duration. Whereas most of the trips are revolving around 1hr trip duration**"
      ]
    },
    {
      "cell_type": "code",
      "execution_count": null,
      "metadata": {
        "id": "pe4a8NWyDFDT"
      },
      "outputs": [],
      "source": [
        "for i in ['store_and_fwd_flag','distance_travelled' ,'passenger_count','trip_duration']:\n",
        "  med=fourth_df[i].median()\n",
        "  fourth_df[i].fillna(med,inplace=True) # here I am replacing the null cum outlier values by their median."
      ]
    },
    {
      "cell_type": "markdown",
      "metadata": {
        "id": "2WTsJt14Qimi"
      },
      "source": [
        "**I have considered median values would be the best choice to replace with null values cum outliers.**"
      ]
    },
    {
      "cell_type": "code",
      "execution_count": null,
      "metadata": {
        "id": "cuHG4nmqDzhi"
      },
      "outputs": [],
      "source": [
        "fourth_df.isnull().sum()"
      ]
    },
    {
      "cell_type": "markdown",
      "metadata": {
        "id": "578E2V7j08f6"
      },
      "source": [
        "##### What all outlier treatment techniques have you used and why did you use those techniques?"
      ]
    },
    {
      "cell_type": "markdown",
      "metadata": {
        "id": "uGZz5OrT1HH-"
      },
      "source": [
        "**I used Interquartile range method to find out the outliers.**"
      ]
    },
    {
      "cell_type": "markdown",
      "metadata": {
        "id": "-oLEiFgy-5Pf"
      },
      "source": [
        "### 4. Feature Manipulation & Selection"
      ]
    },
    {
      "cell_type": "markdown",
      "metadata": {
        "id": "C74aWNz2AliB"
      },
      "source": [
        "#### 1. Feature Manipulation"
      ]
    },
    {
      "cell_type": "code",
      "execution_count": null,
      "metadata": {
        "id": "h1qC4yhBApWC"
      },
      "outputs": [],
      "source": [
        "# Manipulate Features to minimize feature correlation and create new features\n",
        "'''I would require the binary values for store_and_fwd_flag.'''\n",
        "\n",
        "third_df['store_and_fwd_flag']=np.where(third_df['store_and_fwd_flag']== 'Y',1,0)"
      ]
    },
    {
      "cell_type": "markdown",
      "metadata": {
        "id": "xFw2tT6PQ8tI"
      },
      "source": [
        "Replacing the categorical values of store_and_fwd_flag by binary values."
      ]
    },
    {
      "cell_type": "code",
      "execution_count": null,
      "metadata": {
        "id": "mZjsIYOMsrgZ"
      },
      "outputs": [],
      "source": [
        "# fourth_df['store_and_fwd_flag']=np.where(third_df['store_and_fwd_flag']== 'Y',1,0)"
      ]
    },
    {
      "cell_type": "code",
      "execution_count": null,
      "metadata": {
        "id": "iBEK3uB5BxvH"
      },
      "outputs": [],
      "source": [
        "plt.figure(figsize= ( 20 , 10))\n",
        "correlation = third_df.corr()\n",
        "sns.heatmap(abs(correlation), annot=True, cmap='coolwarm')"
      ]
    },
    {
      "cell_type": "markdown",
      "metadata": {
        "id": "2DejudWSA-a0"
      },
      "source": [
        "#### 2. Feature Selection"
      ]
    },
    {
      "cell_type": "markdown",
      "source": [
        "**Now lets dive in to the realm of dimenssions to understand the requirements of features which would help us to build our machine learning model for our customers.**"
      ],
      "metadata": {
        "id": "_sddcq_qveAO"
      }
    },
    {
      "cell_type": "code",
      "execution_count": null,
      "metadata": {
        "id": "NjhZ5_yKCDvU"
      },
      "outputs": [],
      "source": [
        "# Variance Inflation factor is very important t calculate to understand the inflated values which would be contributed by the features and their coefficients. SO to calculate\n",
        "# VIF I am defining following function.\n",
        "\n",
        "from statsmodels.stats.outliers_influence import variance_inflation_factor\n",
        "\n",
        "def Cal_Vif(df):\n",
        "  VIF = pd.DataFrame()\n",
        "  VIF['feature']= df.columns\n",
        "  VIF['VIF'] = [variance_inflation_factor(df.values , i) for i in range(df.shape[1])]\n",
        "  return VIF"
      ]
    },
    {
      "cell_type": "code",
      "execution_count": null,
      "metadata": {
        "id": "nPxupreiCFso"
      },
      "outputs": [],
      "source": [
        "Cal_Vif(third_df[[i for i in columns]])"
      ]
    },
    {
      "cell_type": "markdown",
      "metadata": {
        "id": "zvca6wxmRQcP"
      },
      "source": [
        "**The above code is calculating the variance influence factor for all the independent features.**"
      ]
    },
    {
      "cell_type": "code",
      "execution_count": null,
      "metadata": {
        "id": "YLhe8UmaBCEE"
      },
      "outputs": [],
      "source": [
        "# Select your features wisely to avoid overfitting\n",
        "independent_variable=[i for i in third_df.columns if i not in ['store_and_fwd_flag','pickup_month_name', 'dropoff_month_name','pickup_day_name', \n",
        "                                                               'trip_duration','id', 'pickup_datetime','dropoff_datetime']]\n",
        "                                                            \n",
        "dependent_variable= 'trip_duration'"
      ]
    },
    {
      "cell_type": "markdown",
      "source": [
        "Independent variable with all the important columns will be our selected features. Dependent variable as trip duration is our target variable."
      ],
      "metadata": {
        "id": "GQHDWY1SwTWM"
      }
    },
    {
      "cell_type": "markdown",
      "metadata": {
        "id": "TNVZ9zx19K6k"
      },
      "source": [
        "### 5. Data Transformation"
      ]
    },
    {
      "cell_type": "markdown",
      "metadata": {
        "id": "nqoHp30x9hH9"
      },
      "source": [
        "#### Do you think that your data needs to be transformed? If yes, which transformation have you used. Explain Why?"
      ]
    },
    {
      "cell_type": "code",
      "execution_count": null,
      "metadata": {
        "id": "5oH77v4N1-WW"
      },
      "outputs": [],
      "source": [
        "fifth_df=fourth_df.copy()"
      ]
    },
    {
      "cell_type": "code",
      "execution_count": null,
      "metadata": {
        "id": "I6quWQ1T9rtH"
      },
      "outputs": [],
      "source": [
        "# Transform Your data\n",
        "symmetric_col=[]\n",
        "skew_symmetric=[]\n",
        "for i in fifth_df.columns:\n",
        "  if abs(fifth_df[i].mean() - fifth_df[i].median()) > 0.1:\n",
        "    skew_symmetric.append(i)\n",
        "  else:\n",
        "    symmetric_col.append(i)\n",
        "\n",
        "print(f'Syemmetric columns are {symmetric_col} ')\n",
        "print(f'skew_symmetric columns are {skew_symmetric} ')"
      ]
    },
    {
      "cell_type": "markdown",
      "source": [
        "**From the results we can see the higly skewed ness of the dataset**"
      ],
      "metadata": {
        "id": "NvzX8dC4wi67"
      }
    },
    {
      "cell_type": "markdown",
      "metadata": {
        "id": "aCIKbFoMV3qM"
      },
      "source": [
        "skew_symmetric  columns have been stored in the skew_symmetric variable"
      ]
    },
    {
      "cell_type": "code",
      "execution_count": null,
      "metadata": {
        "id": "BWdEsC6ojBXe"
      },
      "outputs": [],
      "source": [
        "# putting the transformed values in our desired dataframe.\n",
        "\n",
        "'''The transformation will occur only for those features which shows the skew symmetric distribution.'''\n",
        "\n",
        "for i in skew_symmetric:\n",
        "  fifth_df[i]=(fifth_df[i])**0.25 ## This is the exponenetial transformation for treating the skewedness."
      ]
    },
    {
      "cell_type": "markdown",
      "metadata": {
        "id": "zxAMDuZyWpoK"
      },
      "source": [
        "Exponential transformation is helping us to create more balanced dataset."
      ]
    },
    {
      "cell_type": "code",
      "execution_count": null,
      "metadata": {
        "id": "_RjGDmDXsXz4"
      },
      "outputs": [],
      "source": [
        "fifth_df.isnull().sum()"
      ]
    },
    {
      "cell_type": "code",
      "execution_count": null,
      "metadata": {
        "id": "8GTmXMO9sUDR"
      },
      "outputs": [],
      "source": [
        "symmetric_col1=[]\n",
        "skew_symmetric1=[]\n",
        "for i in columns:\n",
        "  if abs(fifth_df[i].mean() - fifth_df[i].median()) > 0.1:\n",
        "    skew_symmetric1.append(i)\n",
        "  else:\n",
        "    symmetric_col1.append(i)\n",
        "\n",
        "print(f'Syemmetric columns are {symmetric_col1} ')\n",
        "print(f'skew_symmetric columns are {skew_symmetric1} ')"
      ]
    },
    {
      "cell_type": "markdown",
      "source": [
        "**We can see the improvements in the list of skew symmetric. certain columns have moved from skew symmetric to symmetric after exponential transformation.**"
      ],
      "metadata": {
        "id": "u_uGZA9RwzhE"
      }
    },
    {
      "cell_type": "markdown",
      "metadata": {
        "id": "BhH2vgX9EjGr"
      },
      "source": [
        "### 6.Data Splitting"
      ]
    },
    {
      "cell_type": "markdown",
      "metadata": {
        "id": "724-qoeOOzI7"
      },
      "source": [
        "**So my ML models will be trained and tested on two datastes.**\\\n",
        "**First will be normal and natural Dataset.**\\\n",
        "**The Second one will be treated with outliers and transformed exponentially.**\\\n",
        "**The Outliers are treated and replaced with median values of individual feature.**\n",
        " "
      ]
    },
    {
      "cell_type": "code",
      "execution_count": null,
      "metadata": {
        "id": "0CTyd2UwEyNM"
      },
      "outputs": [],
      "source": [
        "# Split your data to train and test. Choose Splitting ratio wisely.\n",
        "'''This is normal dataset.'''\n",
        "X=third_df[independent_variable].values\n",
        "y=third_df[dependent_variable].values"
      ]
    },
    {
      "cell_type": "code",
      "execution_count": null,
      "metadata": {
        "id": "TdrWZ2z9ghm2"
      },
      "outputs": [],
      "source": [
        "X_train,X_test,Y_train,Y_test = train_test_split( X ,y ,test_size=0.3,random_state=0)\n",
        "print(X_train.shape,X_test.shape)\n",
        "print(Y_train.shape , Y_test.shape)"
      ]
    },
    {
      "cell_type": "code",
      "execution_count": null,
      "metadata": {
        "id": "WNYjyQzm0iBq"
      },
      "outputs": [],
      "source": [
        "'''This Dataset is treated with outliers and exponentially transformed.\n",
        "So I am evaluating the accuracy and correctness of this dataset differently to see the differences.'''\n",
        "\n",
        "X_tran=fifth_df[independent_variable].values\n",
        "y_tran=fifth_df[dependent_variable].values"
      ]
    },
    {
      "cell_type": "code",
      "execution_count": null,
      "metadata": {
        "id": "t0AHLA9Y0u-a"
      },
      "outputs": [],
      "source": [
        "X_train_tran,X_test_tran,Y_train_tran,Y_test_tran = train_test_split( X_tran ,y_tran ,test_size=0.3,random_state=0)\n",
        "print(X_train_tran.shape,X_test_tran.shape)\n",
        "print(Y_train_tran.shape , Y_test_tran.shape)"
      ]
    },
    {
      "cell_type": "markdown",
      "metadata": {
        "id": "FN9kz5n5guo8"
      },
      "source": [
        "**The independent and dependent variable have been splitted in 70:30 ratio.**\n",
        "**But For first Normal Dataset I have seen some anamoly in results after calculating the accuracy for the first model.On First Model,the Linear accuracy for normal Dataset is quite high but later on when I started moving towards further models , regularizations and cross validation I observed the accuracy for the models became worst. Hence I again processed the data to comapre the optimumness of the models with the normal one which showed 97% accuracy for the first model.**\n",
        "> **Hence I used two independet and two dependent variable and scaled them differently.**"
      ]
    },
    {
      "cell_type": "markdown",
      "metadata": {
        "id": "rMDnDkt2B6du"
      },
      "source": [
        "### 6. Data Scaling"
      ]
    },
    {
      "cell_type": "markdown",
      "source": [
        "### **Please be cautious with the names and notation for two different dataframes.**"
      ],
      "metadata": {
        "id": "prGn-sHzxQ4V"
      }
    },
    {
      "cell_type": "code",
      "execution_count": null,
      "metadata": {
        "id": "dL9LWpySC6x_"
      },
      "outputs": [],
      "source": [
        "# Scaling your data\n",
        "scaler=MinMaxScaler()\n",
        "X_train1=scaler.fit_transform(X_train)\n",
        "X_test1 = scaler.transform(X_test)"
      ]
    },
    {
      "cell_type": "code",
      "execution_count": null,
      "metadata": {
        "id": "SqtFlfK80-Pw"
      },
      "outputs": [],
      "source": [
        "'''Scaling for transformed dataset.'''\n",
        "\n",
        "X_train_tran1=scaler.fit_transform(X_train_tran)\n",
        "X_test_tran1 = scaler.transform(X_test_tran)"
      ]
    },
    {
      "cell_type": "markdown",
      "metadata": {
        "id": "yiiVWRdJDDil"
      },
      "source": [
        "**I used MinMaxSCaler to scale the values all accordingly.**"
      ]
    },
    {
      "cell_type": "markdown",
      "metadata": {
        "id": "VfCC591jGiD4"
      },
      "source": [
        "## ***7. ML Model Implementation***"
      ]
    },
    {
      "cell_type": "markdown",
      "metadata": {
        "id": "OB4l2ZhMeS1U"
      },
      "source": [
        "### ML Model - 1"
      ]
    },
    {
      "cell_type": "code",
      "source": [
        "model=[]\n",
        "Train_r2=[]\n",
        "Test_r2=[]"
      ],
      "metadata": {
        "id": "Se0k1TgpJCpj"
      },
      "execution_count": null,
      "outputs": []
    },
    {
      "cell_type": "code",
      "execution_count": null,
      "metadata": {
        "id": "7ebyywQieS1U"
      },
      "outputs": [],
      "source": [
        "# ML Model - 1 Implementation for Nomal Dataset.\n",
        "regressor= LinearRegression()\n",
        "regressor.fit(X_train1,Y_train)\n",
        "\n",
        "\n",
        "# ML Model - 1 Implementation for transformed Dataset.\n",
        "regressor_tran= LinearRegression()\n",
        "regressor_tran.fit(X_train_tran1,Y_train_tran)"
      ]
    },
    {
      "cell_type": "markdown",
      "metadata": {
        "id": "5wKHDFdyh1EI"
      },
      "source": [
        "**Following metric evaluation shows r2_score for Transformed Dataset.**"
      ]
    },
    {
      "cell_type": "code",
      "execution_count": null,
      "metadata": {
        "id": "Xker4Ed9ha_3"
      },
      "outputs": [],
      "source": [
        "train_accuracy = regressor_tran.score(X_train_tran1,Y_train_tran)\n",
        "test_accuracy = r2_score(Y_test_tran,regressor_tran.predict(X_test_tran1))\n",
        "\n",
        "print('Train accuracy for the given Linear_regression Model for transformed Dataframe is ',train_accuracy)\n",
        "print('Test accuracy for the given Linear_regression  Model for transformed Dataframe  is ',test_accuracy)"
      ]
    },
    {
      "cell_type": "code",
      "source": [
        "\n",
        "#To collect and show all the data at once I will \n",
        "#Require to compile all the output in better formats.\n",
        "\n",
        "model.append('Linear_Regression_trans')\n",
        "Test_r2.append(test_accuracy)\n",
        "Train_r2.append(train_accuracy)"
      ],
      "metadata": {
        "id": "0mJioymDLCQi"
      },
      "execution_count": null,
      "outputs": []
    },
    {
      "cell_type": "markdown",
      "metadata": {
        "id": "lBqGh6sGiCY5"
      },
      "source": [
        "**Following metric evaluation shows r2_score for Noraml Dataset.**"
      ]
    },
    {
      "cell_type": "code",
      "execution_count": null,
      "metadata": {
        "id": "ueovGS4ytNG1"
      },
      "outputs": [],
      "source": [
        "train_accuracy = regressor.score(X_train1,Y_train)\n",
        "test_accuracy = r2_score(Y_test,regressor.predict(X_test1))\n",
        "\n",
        "print('Train accuracy for the given Linear_regression Model for Normal Dataframe is ',train_accuracy)\n",
        "print('Test accuracy for the given Linear_regression Model for Normal Dataframe is ',test_accuracy)"
      ]
    },
    {
      "cell_type": "code",
      "source": [
        "model.append('Linear_Regression_norm')\n",
        "Test_r2.append(test_accuracy)\n",
        "Train_r2.append(train_accuracy)"
      ],
      "metadata": {
        "id": "f1YqSYpyLmDG"
      },
      "execution_count": null,
      "outputs": []
    },
    {
      "cell_type": "markdown",
      "metadata": {
        "id": "ArJBuiUVfxKd"
      },
      "source": [
        "#### 1. Explain the ML Model used and it's performance using Evaluation metric Score Chart."
      ]
    },
    {
      "cell_type": "code",
      "execution_count": null,
      "metadata": {
        "id": "rqD5ZohzfxKe"
      },
      "outputs": [],
      "source": [
        "# Visualizing evaluation Metric Score chart\n",
        "y_pred= regressor_tran.predict(X_test_tran1)\n",
        "plt.figure(figsize=(8,5))\n",
        "plt.plot(y_pred[:25], label='predicted')\n",
        "plt.plot(Y_test_tran[:25], label='actual')\n",
        "plt.legend(loc='best')\n",
        "plt.title('Linear Regression on Transformed Dataframe')"
      ]
    },
    {
      "cell_type": "markdown",
      "source": [
        "**From he graph itself, we can see the poor accuracy for the transformed dataset**"
      ],
      "metadata": {
        "id": "ySpkg_Kty47A"
      }
    },
    {
      "cell_type": "code",
      "execution_count": null,
      "metadata": {
        "id": "KpkRPdqtSZQQ"
      },
      "outputs": [],
      "source": [
        "# Visualizing evaluation Metric Score chart\n",
        "y_pred= regressor.predict(X_test1)\n",
        "plt.figure(figsize=(7,5))\n",
        "plt.plot(y_pred[:25], label='predicted')\n",
        "plt.plot(Y_test[:25], label='actual')\n",
        "plt.legend(loc='best')\n",
        "plt.title('Linear Regression on Normal Dataset')"
      ]
    },
    {
      "cell_type": "markdown",
      "source": [
        "**So by plotting I want to make a point here. Despite being the untransformed dataframe it shows very high accuracy. But when move towards more advanced algorithms its accuracy should increase perse. This was my basic assumption.But the results of this DF is very poor as I move towards advanced algo.**"
      ],
      "metadata": {
        "id": "IrDOF5RUzDwg"
      }
    },
    {
      "cell_type": "markdown",
      "metadata": {
        "id": "4qY1EAkEfxKe"
      },
      "source": [
        "#### 2. Cross- Validation & Hyperparameter Tuning"
      ]
    },
    {
      "cell_type": "code",
      "execution_count": null,
      "metadata": {
        "id": "Dy61ujd6fxKe"
      },
      "outputs": [],
      "source": [
        "# ML Model - 1 Implementation with hyperparameter optimization techniques (i.e., GridSearch CV, RandomSearch CV, Bayesian Optimization etc.)\n",
        "lasso = Lasso()\n",
        "# Fit the Algorithm\n",
        "\n",
        "'''Hyperparameter tuning for Lasso regression'''\n",
        "\n",
        "parameters = {'alpha': [1e-15,1e-13,1e-10,1e-8,1e-5,1e-4,1e-3,1e-2,1e-1,1,5,10,20,30,40,45,50,55,60,100]}\n",
        "lasso_regressor = GridSearchCV(lasso, parameters, scoring='neg_mean_squared_error', cv=3 )\n",
        "lasso_regressor.fit(X_train1, Y_train)\n",
        "# Predict on the model\n",
        "print(\"The best fit alpha value is found out to be :\" ,lasso_regressor.best_params_)\n",
        "print(\"\\nUsing \",lasso_regressor.best_params_, \" the negative mean squared error is: \", lasso_regressor.best_score_)"
      ]
    },
    {
      "cell_type": "markdown",
      "metadata": {
        "id": "M77a6vL2tW6w"
      },
      "source": [
        "**Following metric evaluation shows r2_score for Transformed Dataset.**"
      ]
    },
    {
      "cell_type": "code",
      "execution_count": null,
      "metadata": {
        "id": "MN14HLMYw2ap"
      },
      "outputs": [],
      "source": [
        "lasso_best_tran=Lasso(alpha=0.01)\n",
        "lasso_best_tran.fit(X_train_tran1,Y_train_tran)"
      ]
    },
    {
      "cell_type": "code",
      "execution_count": null,
      "metadata": {
        "id": "TMq4n35GtTgB"
      },
      "outputs": [],
      "source": [
        "train_accuracy = lasso_best_tran.score(X_train_tran1,Y_train_tran)\n",
        "test_accuracy = r2_score(Y_test_tran,lasso_best_tran.predict(X_test_tran1))\n",
        "\n",
        "print('Train accuracy for the given Lasso_regression for Transformed Dataset is ',train_accuracy)\n",
        "print('Test accuracy for the given Lasso_regression for Transformed Dataset is ',test_accuracy)"
      ]
    },
    {
      "cell_type": "code",
      "source": [
        "model.append('Lasso_Regularization_trans')\n",
        "Test_r2.append(test_accuracy)\n",
        "Train_r2.append(train_accuracy)"
      ],
      "metadata": {
        "id": "8fYj35wpMCaL"
      },
      "execution_count": null,
      "outputs": []
    },
    {
      "cell_type": "markdown",
      "metadata": {
        "id": "X0wwV2r3wbIw"
      },
      "source": [
        "**Following metric evaluation shows r2_score for Noraml Dataset.**"
      ]
    },
    {
      "cell_type": "code",
      "execution_count": null,
      "metadata": {
        "id": "RNP8xdqR0cHI"
      },
      "outputs": [],
      "source": [
        "lasso_best=Lasso(alpha=0.1)\n",
        "lasso_best.fit(X_train1, Y_train)"
      ]
    },
    {
      "cell_type": "code",
      "execution_count": null,
      "metadata": {
        "id": "Ys5oc3D-iXY9"
      },
      "outputs": [],
      "source": [
        "train_accuracy = lasso_best.score(X_train1,Y_train)\n",
        "test_accuracy = r2_score(Y_test,lasso_best.predict(X_test1))\n",
        "print('Train accuracy for the given Lasso_regression for Normal Dataset is ',train_accuracy)\n",
        "print('Test accuracy for the given Lasso_regression for Normal Dataset is ',test_accuracy)"
      ]
    },
    {
      "cell_type": "code",
      "source": [
        "model.append('Lasso_Regularization_Norm')\n",
        "Test_r2.append(test_accuracy)\n",
        "Train_r2.append(train_accuracy)"
      ],
      "metadata": {
        "id": "pkiwkLSRMOM1"
      },
      "execution_count": null,
      "outputs": []
    },
    {
      "cell_type": "markdown",
      "metadata": {
        "id": "dmjfO11T0TIl"
      },
      "source": [
        "#### **Ridge Regularization**"
      ]
    },
    {
      "cell_type": "markdown",
      "metadata": {
        "id": "AHIp8Fmt0KP2"
      },
      "source": [
        "**Following metric evaluation shows r2_score for Transformed Dataset.**"
      ]
    },
    {
      "cell_type": "code",
      "execution_count": null,
      "metadata": {
        "id": "s0-1SZMM0Cxz"
      },
      "outputs": [],
      "source": [
        "ridge_tran=Ridge(alpha= 0.1)\n",
        "ridge_tran.fit(X_train_tran1,Y_train_tran)"
      ]
    },
    {
      "cell_type": "code",
      "execution_count": null,
      "metadata": {
        "id": "unn1UdTPzQsS"
      },
      "outputs": [],
      "source": [
        "train_accuracy = ridge_tran.score(X_train_tran1,Y_train_tran)\n",
        "test_accuracy = r2_score(Y_test_tran,ridge_tran.predict(X_test_tran1))\n",
        "\n",
        "print('Train accuracy for the given Ridge Regularization model on Transformed Dataset is ',train_accuracy)\n",
        "print('Test accuracy for the given Ridge Regularization model on Transformed Dataset is ',test_accuracy)"
      ]
    },
    {
      "cell_type": "code",
      "source": [
        "model.append('Ridge_Regularization_tran')\n",
        "Test_r2.append(test_accuracy)\n",
        "Train_r2.append(train_accuracy)"
      ],
      "metadata": {
        "id": "EsVjisaHMnYs"
      },
      "execution_count": null,
      "outputs": []
    },
    {
      "cell_type": "markdown",
      "metadata": {
        "id": "UDbDyHY80QPR"
      },
      "source": [
        "**Following metric evaluation shows r2_score for Noraml Dataset.**"
      ]
    },
    {
      "cell_type": "code",
      "execution_count": null,
      "metadata": {
        "id": "kKUcmZMo0M_t"
      },
      "outputs": [],
      "source": [
        "ridge_best = Ridge(alpha= 0.001)\n",
        "ridge_best.fit(X_train1,Y_train)"
      ]
    },
    {
      "cell_type": "code",
      "execution_count": null,
      "metadata": {
        "id": "45zZM60WjXI9"
      },
      "outputs": [],
      "source": [
        "train_accuracy = ridge_best.score(X_train1,Y_train)\n",
        "test_accuracy = r2_score(Y_test,ridge_best.predict(X_test1))\n",
        "print('Train accuracy for the given Ridge_regression model on Normal Dataset is ',train_accuracy)\n",
        "print('Test accuracy for the given Ridge_regression model on Normal Dataset is ',test_accuracy)"
      ]
    },
    {
      "cell_type": "code",
      "source": [
        "model.append('Ridge_Regularization_Norm')\n",
        "Test_r2.append(test_accuracy)\n",
        "Train_r2.append(train_accuracy)"
      ],
      "metadata": {
        "id": "nmzxkRZKMsrK"
      },
      "execution_count": null,
      "outputs": []
    },
    {
      "cell_type": "markdown",
      "metadata": {
        "id": "XWy265ZaTa-X"
      },
      "source": [
        "**I have used GridSearch cross validation. The NYC taxi trip dataset is very large Dataset and it requires a strong tuning to arrive at a conclusion. A strong tuning implies a detailed and correct hyper parameters so that our customers can know there trip duration before booking their rides. Hence choosing Grid Search is just moving one step towards accuracy.**"
      ]
    },
    {
      "cell_type": "markdown",
      "metadata": {
        "id": "FCcUPo-DUG_c"
      },
      "source": [
        "**At first when the model is not tuned with hyperparameters , its accuracy was quite high upto 97%. But when I used Lasso regularization , its accuracy just slashed and mixed into the ashes.**\\\n",
        "**Whereas the Ridge Regularization was still there to save our business.**\n",
        "> **For transformed Dataset it shows very less accuracy of 42% but for normal Dataset it was still high and shows 97% of accuracy.**\n",
        "> **Now Our taxies are bifurcated on these two datasets. By normal tendency the normal dataset should have maintained its accuracy which it has not saved in Lasso regularization but the transformed was consistent in its journey and still onboarded on the taxi of improvement.**"
      ]
    },
    {
      "cell_type": "code",
      "source": [
        "Output_df1={'Model':model,\n",
        "'train_r2':Train_r2,'test_r2':Test_r2}"
      ],
      "metadata": {
        "id": "x4PZVME4NH4k"
      },
      "execution_count": null,
      "outputs": []
    },
    {
      "cell_type": "code",
      "source": [
        "Model_result=pd.DataFrame(Output_df1)\n",
        "Model_result"
      ],
      "metadata": {
        "id": "J_u42F05NzDk"
      },
      "execution_count": null,
      "outputs": []
    },
    {
      "cell_type": "markdown",
      "metadata": {
        "id": "dJ2tPlVmpsJ0"
      },
      "source": [
        "### ML Model - 2"
      ]
    },
    {
      "cell_type": "markdown",
      "metadata": {
        "id": "rCPGTW6qoGDZ"
      },
      "source": [
        "**Following metric evaluation shows r2_score for Transformed Dataset.**"
      ]
    },
    {
      "cell_type": "code",
      "execution_count": null,
      "metadata": {
        "id": "AIwqylZLmhCg"
      },
      "outputs": [],
      "source": [
        "DTR_trans=DecisionTreeRegressor()\n",
        "DTR_trans.fit(X_train_tran1,Y_train_tran)"
      ]
    },
    {
      "cell_type": "code",
      "execution_count": null,
      "metadata": {
        "id": "2zMBixgsn7wR"
      },
      "outputs": [],
      "source": [
        "train_accuracy = DTR_trans.score(X_train_tran1,Y_train_tran)\n",
        "test_accuracy = r2_score(Y_test_tran,DTR_trans.predict(X_test_tran1))\n",
        "\n",
        "print('Train accuracy for the given Decision Tree Regressor Model for transformed Dataframe is ',train_accuracy)\n",
        "print('Test accuracy for the given Decision Tree Regressor Model for transformed Dataframe is ',test_accuracy)"
      ]
    },
    {
      "cell_type": "code",
      "source": [
        "model.append('Decision_Tree_tran')\n",
        "Test_r2.append(test_accuracy)\n",
        "Train_r2.append(train_accuracy)"
      ],
      "metadata": {
        "id": "rmEjn-sIO50U"
      },
      "execution_count": null,
      "outputs": []
    },
    {
      "cell_type": "markdown",
      "metadata": {
        "id": "Ugw-VFnKoH8A"
      },
      "source": [
        "**Following metric evaluation shows r2_score for Noraml Dataset.**"
      ]
    },
    {
      "cell_type": "code",
      "execution_count": null,
      "metadata": {
        "id": "QvsfEZ77n_OB"
      },
      "outputs": [],
      "source": [
        "DTR_norm=DecisionTreeRegressor()\n",
        "DTR_norm.fit(X_train1,Y_train)"
      ]
    },
    {
      "cell_type": "code",
      "execution_count": null,
      "metadata": {
        "id": "2gADm0c2n2Qc"
      },
      "outputs": [],
      "source": [
        "train_accuracy = DTR_norm.score(X_train1,Y_train)\n",
        "test_accuracy = r2_score(Y_test,DTR_norm.predict(X_test1))\n",
        "print('Train accuracy for the given  Decision Tree Regressor Model for Normal Dataframe is ',train_accuracy)\n",
        "print('Test accuracy for the given  Decision Tree Regressor Model for Normal Dataframe is ',test_accuracy)"
      ]
    },
    {
      "cell_type": "code",
      "source": [
        "model.append('Decision_Tree_Norm')\n",
        "Test_r2.append(test_accuracy)\n",
        "Train_r2.append(train_accuracy)"
      ],
      "metadata": {
        "id": "34eIHle8PK1U"
      },
      "execution_count": null,
      "outputs": []
    },
    {
      "cell_type": "markdown",
      "metadata": {
        "id": "JWYfwnehpsJ1"
      },
      "source": [
        "#### 1. Explain the ML Model used and it's performance using Evaluation metric Score Chart."
      ]
    },
    {
      "cell_type": "code",
      "execution_count": null,
      "metadata": {
        "id": "yEl-hgQWpsJ1"
      },
      "outputs": [],
      "source": [
        "# Visualizing evaluation Metric Score chart\n",
        "y_pred= DTR_trans.predict(X_test_tran1)\n",
        "plt.figure(figsize=(7,5))\n",
        "plt.plot(y_pred[:25], label='predicted')\n",
        "plt.plot(Y_test_tran[:25], label='actual')\n",
        "plt.legend(loc='best')\n",
        "\n",
        "plt.title('Decision Tree Regressor Model for transformed dataset')"
      ]
    },
    {
      "cell_type": "markdown",
      "source": [
        "\n",
        "\n",
        "```\n",
        "We can see a moderate accuracy. Our Taxies can be performed on this model with this sufficient accuracy\n",
        "```\n",
        "\n"
      ],
      "metadata": {
        "id": "yZTsL7QS0KFy"
      }
    },
    {
      "cell_type": "code",
      "execution_count": null,
      "metadata": {
        "id": "I10n6gcFVyWg"
      },
      "outputs": [],
      "source": [
        "# Visualizing evaluation Metric Score chart\n",
        "y_pred= DTR_norm.predict(X_test1)\n",
        "plt.figure(figsize=(7,5))\n",
        "plt.plot(y_pred[:25], label='predicted')\n",
        "plt.plot(Y_test[:25], label='actual')\n",
        "plt.legend(loc='best')\n",
        "plt.title('Decision Tree Regressor Model for Normal dataset')"
      ]
    },
    {
      "cell_type": "markdown",
      "metadata": {
        "id": "-jK_YjpMpsJ2"
      },
      "source": [
        "#### 2. Cross- Validation & Hyperparameter Tuning"
      ]
    },
    {
      "cell_type": "markdown",
      "metadata": {
        "id": "jMwn10PzMFbA"
      },
      "source": [
        "**Cross Validation And Hyper Parameter tuning for the normal dataset.**"
      ]
    },
    {
      "cell_type": "code",
      "execution_count": null,
      "metadata": {
        "id": "Dn0EOfS6psJ2"
      },
      "outputs": [],
      "source": [
        "# ML Model - 1 Implementation with hyperparameter optimization techniques (i.e., GridSearch CV, RandomSearch CV, Bayesian Optimization etc.)\n",
        "DTR_CV= DecisionTreeRegressor()\n",
        "# Fit the Algorithm\n",
        "param_grid = {\n",
        "              \"min_samples_split\": [10, 20, 40],\n",
        "              \"max_depth\": [2, 6, 8],\n",
        "              \"min_samples_leaf\": [20, 40, 100],\n",
        "              \"max_leaf_nodes\": [5, 20, 100],\n",
        "              }\n",
        "\n",
        "## Comment in order to publish in kaggle.\n",
        "\n",
        "grid_cv_DTR = GridSearchCV(DTR_CV, param_grid, cv=3,verbose = 3)\n",
        "\n",
        "grid_cv_DTR.fit(X_train1,Y_train)\n",
        "# Predict on the model"
      ]
    },
    {
      "cell_type": "code",
      "execution_count": null,
      "metadata": {
        "id": "_fqn8xAWvSmm"
      },
      "outputs": [],
      "source": [
        "grid_cv_DTR.best_params_"
      ]
    },
    {
      "cell_type": "markdown",
      "metadata": {
        "id": "C_fdBnhIMQia"
      },
      "source": [
        "**Model Implementation with the new best parameters.**"
      ]
    },
    {
      "cell_type": "code",
      "execution_count": null,
      "metadata": {
        "id": "WJSOhyppvfI-"
      },
      "outputs": [],
      "source": [
        "# Model Implementation for Normal Dataset\n",
        "\n",
        "DTR_no_best=DecisionTreeRegressor(max_depth=6,max_leaf_nodes=5,min_samples_leaf=40,min_samples_split=10)\n",
        "DTR_no_best.fit(X_train1,Y_train)"
      ]
    },
    {
      "cell_type": "code",
      "execution_count": null,
      "metadata": {
        "id": "MFdQOjGnv7dd"
      },
      "outputs": [],
      "source": [
        "'''Calculating the Various accuracies for Normal Dataset.'''\n",
        "\n",
        "\n",
        "train_accuracy = DTR_no_best.score(X_train1,Y_train)\n",
        "test_accuracy = r2_score(Y_test,DTR_no_best.predict(X_test1))\n",
        "print('Train accuracy for the given Decision Tree regressor after cross validation on Normal dataframe is ',train_accuracy)\n",
        "print('Test accuracy for the given Decision Tree regressor after cross validation on Normal dataframe is ',test_accuracy)"
      ]
    },
    {
      "cell_type": "code",
      "source": [
        "model.append('Decision_TreeCV_Norm')\n",
        "Test_r2.append(test_accuracy)\n",
        "Train_r2.append(train_accuracy)"
      ],
      "metadata": {
        "id": "_eJZpmY2Pbg3"
      },
      "execution_count": null,
      "outputs": []
    },
    {
      "cell_type": "markdown",
      "metadata": {
        "id": "PizCJrShMbJ8"
      },
      "source": [
        "**Cross Validation and Hyper parameter tuning for the Transformed Dataset**"
      ]
    },
    {
      "cell_type": "code",
      "execution_count": null,
      "metadata": {
        "id": "eEvyiNxFvnKF"
      },
      "outputs": [],
      "source": [
        "# ML Model - 1 Implementation with hyperparameter optimization techniques (i.e., GridSearch CV, RandomSearch CV, Bayesian Optimization etc.)\n",
        "DTR_CV_tr= DecisionTreeRegressor()\n",
        "# Fit the Algorithm\n",
        "param_grid = {\n",
        "              \"min_samples_split\": [10, 20, 40],\n",
        "              \"max_depth\": [50,100,150],\n",
        "              \"min_samples_leaf\": [100,150,200],\n",
        "              \"max_leaf_nodes\": [5, 20, 100],\n",
        "              \"max_leaf_nodes\":[200,400,600]\n",
        "              }\n",
        "\n",
        "## Comment in order to publish in kaggle.\n",
        "\n",
        "grid_cv_DTR_tr = GridSearchCV(DTR_CV_tr, param_grid, cv=3,verbose = 3)\n",
        "\n",
        "grid_cv_DTR_tr.fit(X_train_tran1,Y_train_tran)\n",
        "# Predict on the model"
      ]
    },
    {
      "cell_type": "code",
      "execution_count": null,
      "metadata": {
        "id": "_hHfOjCnMptw"
      },
      "outputs": [],
      "source": [
        "'''These are the best Parameters we have found out via our Cross validation and hyper parameter tuning'''\n",
        "grid_cv_DTR_tr.best_params_"
      ]
    },
    {
      "cell_type": "code",
      "execution_count": null,
      "metadata": {
        "id": "AID44CwCMuXs"
      },
      "outputs": [],
      "source": [
        "# Model Implementation for Transformed Dataset\n",
        "\n",
        "DTR_tran_best= DecisionTreeRegressor(max_depth=150,max_leaf_nodes=700,min_samples_leaf=100,min_samples_split=20)\n",
        "DTR_tran_best.fit(X_train_tran1,Y_train_tran)"
      ]
    },
    {
      "cell_type": "code",
      "execution_count": null,
      "metadata": {
        "id": "4m6PduMVMsbr"
      },
      "outputs": [],
      "source": [
        "'''Calculating the various accuracies for Transformed Datset'''\n",
        "\n",
        "\n",
        "train_accuracy = DTR_tran_best.score(X_train_tran1,Y_train_tran)\n",
        "test_accuracy = r2_score(Y_test_tran, DTR_tran_best.predict(X_test_tran1))\n",
        "print( 'The train accuracy for the given Decision Tree Regressor model after cross validation for Transformed Dataset is ',train_accuracy)\n",
        "print('The test accuracy for the given Decision Tree Regressor model after cross validation for Transformed Dataset is',test_accuracy)"
      ]
    },
    {
      "cell_type": "code",
      "source": [
        "model.append('Decision_TreeCV_Tran')\n",
        "Test_r2.append(test_accuracy)\n",
        "Train_r2.append(train_accuracy)"
      ],
      "metadata": {
        "id": "i3RkNhgEPoGp"
      },
      "execution_count": null,
      "outputs": []
    },
    {
      "cell_type": "markdown",
      "metadata": {
        "id": "k-QnrYmZWzST"
      },
      "source": [
        "**I have used Grid Search cross validation here for model optimization. It fits model 243 times to optimize the training for our taxi business. When it comes with its best parameters, it cultivates a very normal scores for both the types of Datasets.**"
      ]
    },
    {
      "cell_type": "markdown",
      "metadata": {
        "id": "83hFosq4X1Ti"
      },
      "source": [
        "**The astonishing events have happened after the cross validation.In both the Datasets the acciracy have hampered, which was a little better at earlier events. So what now!!**\\\n",
        "**Now we would move towards more better and more advanced regressor to cultivate best results for our customers.**"
      ]
    },
    {
      "cell_type": "markdown",
      "metadata": {
        "id": "BDKtOrBQpsJ3"
      },
      "source": [
        "**Still I would say If we use Decision tree regressor without tuning the model with our very specific transformed dataset, it would still work and would give 77% correct result.**"
      ]
    },
    {
      "cell_type": "code",
      "source": [
        "Output_df2={'Model':model,\n",
        "'train_r2':Train_r2,'test_r2':Test_r2}"
      ],
      "metadata": {
        "id": "2azZ5viBPz64"
      },
      "execution_count": null,
      "outputs": []
    },
    {
      "cell_type": "code",
      "source": [
        "Model_12=pd.DataFrame(Output_df2)\n",
        "Model_12"
      ],
      "metadata": {
        "id": "67emNoR-QB0s"
      },
      "execution_count": null,
      "outputs": []
    },
    {
      "cell_type": "markdown",
      "metadata": {
        "id": "Fze-IPXLpx6K"
      },
      "source": [
        "### ML Model - 3"
      ]
    },
    {
      "cell_type": "markdown",
      "metadata": {
        "id": "M942cR1FZYF6"
      },
      "source": [
        "**The Model Implementation for the transformed Dataset.**"
      ]
    },
    {
      "cell_type": "code",
      "execution_count": 143,
      "metadata": {
        "id": "FFrSXAtrpx6M",
        "colab": {
          "base_uri": "https://localhost:8080/",
          "height": 248
        },
        "outputId": "67fcbf2a-d13a-4b21-89f9-1556e53c3169"
      },
      "outputs": [
        {
          "output_type": "execute_result",
          "data": {
            "text/plain": [
              "XGBRegressor(base_score=None, booster=None, callbacks=None,\n",
              "             colsample_bylevel=None, colsample_bynode=None,\n",
              "             colsample_bytree=None, early_stopping_rounds=None,\n",
              "             enable_categorical=False, eval_metric=None, feature_types=None,\n",
              "             gamma=None, gpu_id=None, grow_policy=None, importance_type=None,\n",
              "             interaction_constraints=None, learning_rate=None, max_bin=None,\n",
              "             max_cat_threshold=None, max_cat_to_onehot=None,\n",
              "             max_delta_step=None, max_depth=None, max_leaves=None,\n",
              "             min_child_weight=None, missing=nan, monotone_constraints=None,\n",
              "             n_estimators=100, n_jobs=None, num_parallel_tree=None,\n",
              "             predictor=None, random_state=None, ...)"
            ],
            "text/html": [
              "<style>#sk-container-id-12 {color: black;background-color: white;}#sk-container-id-12 pre{padding: 0;}#sk-container-id-12 div.sk-toggleable {background-color: white;}#sk-container-id-12 label.sk-toggleable__label {cursor: pointer;display: block;width: 100%;margin-bottom: 0;padding: 0.3em;box-sizing: border-box;text-align: center;}#sk-container-id-12 label.sk-toggleable__label-arrow:before {content: \"▸\";float: left;margin-right: 0.25em;color: #696969;}#sk-container-id-12 label.sk-toggleable__label-arrow:hover:before {color: black;}#sk-container-id-12 div.sk-estimator:hover label.sk-toggleable__label-arrow:before {color: black;}#sk-container-id-12 div.sk-toggleable__content {max-height: 0;max-width: 0;overflow: hidden;text-align: left;background-color: #f0f8ff;}#sk-container-id-12 div.sk-toggleable__content pre {margin: 0.2em;color: black;border-radius: 0.25em;background-color: #f0f8ff;}#sk-container-id-12 input.sk-toggleable__control:checked~div.sk-toggleable__content {max-height: 200px;max-width: 100%;overflow: auto;}#sk-container-id-12 input.sk-toggleable__control:checked~label.sk-toggleable__label-arrow:before {content: \"▾\";}#sk-container-id-12 div.sk-estimator input.sk-toggleable__control:checked~label.sk-toggleable__label {background-color: #d4ebff;}#sk-container-id-12 div.sk-label input.sk-toggleable__control:checked~label.sk-toggleable__label {background-color: #d4ebff;}#sk-container-id-12 input.sk-hidden--visually {border: 0;clip: rect(1px 1px 1px 1px);clip: rect(1px, 1px, 1px, 1px);height: 1px;margin: -1px;overflow: hidden;padding: 0;position: absolute;width: 1px;}#sk-container-id-12 div.sk-estimator {font-family: monospace;background-color: #f0f8ff;border: 1px dotted black;border-radius: 0.25em;box-sizing: border-box;margin-bottom: 0.5em;}#sk-container-id-12 div.sk-estimator:hover {background-color: #d4ebff;}#sk-container-id-12 div.sk-parallel-item::after {content: \"\";width: 100%;border-bottom: 1px solid gray;flex-grow: 1;}#sk-container-id-12 div.sk-label:hover label.sk-toggleable__label {background-color: #d4ebff;}#sk-container-id-12 div.sk-serial::before {content: \"\";position: absolute;border-left: 1px solid gray;box-sizing: border-box;top: 0;bottom: 0;left: 50%;z-index: 0;}#sk-container-id-12 div.sk-serial {display: flex;flex-direction: column;align-items: center;background-color: white;padding-right: 0.2em;padding-left: 0.2em;position: relative;}#sk-container-id-12 div.sk-item {position: relative;z-index: 1;}#sk-container-id-12 div.sk-parallel {display: flex;align-items: stretch;justify-content: center;background-color: white;position: relative;}#sk-container-id-12 div.sk-item::before, #sk-container-id-12 div.sk-parallel-item::before {content: \"\";position: absolute;border-left: 1px solid gray;box-sizing: border-box;top: 0;bottom: 0;left: 50%;z-index: -1;}#sk-container-id-12 div.sk-parallel-item {display: flex;flex-direction: column;z-index: 1;position: relative;background-color: white;}#sk-container-id-12 div.sk-parallel-item:first-child::after {align-self: flex-end;width: 50%;}#sk-container-id-12 div.sk-parallel-item:last-child::after {align-self: flex-start;width: 50%;}#sk-container-id-12 div.sk-parallel-item:only-child::after {width: 0;}#sk-container-id-12 div.sk-dashed-wrapped {border: 1px dashed gray;margin: 0 0.4em 0.5em 0.4em;box-sizing: border-box;padding-bottom: 0.4em;background-color: white;}#sk-container-id-12 div.sk-label label {font-family: monospace;font-weight: bold;display: inline-block;line-height: 1.2em;}#sk-container-id-12 div.sk-label-container {text-align: center;}#sk-container-id-12 div.sk-container {/* jupyter's `normalize.less` sets `[hidden] { display: none; }` but bootstrap.min.css set `[hidden] { display: none !important; }` so we also need the `!important` here to be able to override the default hidden behavior on the sphinx rendered scikit-learn.org. See: https://github.com/scikit-learn/scikit-learn/issues/21755 */display: inline-block !important;position: relative;}#sk-container-id-12 div.sk-text-repr-fallback {display: none;}</style><div id=\"sk-container-id-12\" class=\"sk-top-container\"><div class=\"sk-text-repr-fallback\"><pre>XGBRegressor(base_score=None, booster=None, callbacks=None,\n",
              "             colsample_bylevel=None, colsample_bynode=None,\n",
              "             colsample_bytree=None, early_stopping_rounds=None,\n",
              "             enable_categorical=False, eval_metric=None, feature_types=None,\n",
              "             gamma=None, gpu_id=None, grow_policy=None, importance_type=None,\n",
              "             interaction_constraints=None, learning_rate=None, max_bin=None,\n",
              "             max_cat_threshold=None, max_cat_to_onehot=None,\n",
              "             max_delta_step=None, max_depth=None, max_leaves=None,\n",
              "             min_child_weight=None, missing=nan, monotone_constraints=None,\n",
              "             n_estimators=100, n_jobs=None, num_parallel_tree=None,\n",
              "             predictor=None, random_state=None, ...)</pre><b>In a Jupyter environment, please rerun this cell to show the HTML representation or trust the notebook. <br />On GitHub, the HTML representation is unable to render, please try loading this page with nbviewer.org.</b></div><div class=\"sk-container\" hidden><div class=\"sk-item\"><div class=\"sk-estimator sk-toggleable\"><input class=\"sk-toggleable__control sk-hidden--visually\" id=\"sk-estimator-id-16\" type=\"checkbox\" checked><label for=\"sk-estimator-id-16\" class=\"sk-toggleable__label sk-toggleable__label-arrow\">XGBRegressor</label><div class=\"sk-toggleable__content\"><pre>XGBRegressor(base_score=None, booster=None, callbacks=None,\n",
              "             colsample_bylevel=None, colsample_bynode=None,\n",
              "             colsample_bytree=None, early_stopping_rounds=None,\n",
              "             enable_categorical=False, eval_metric=None, feature_types=None,\n",
              "             gamma=None, gpu_id=None, grow_policy=None, importance_type=None,\n",
              "             interaction_constraints=None, learning_rate=None, max_bin=None,\n",
              "             max_cat_threshold=None, max_cat_to_onehot=None,\n",
              "             max_delta_step=None, max_depth=None, max_leaves=None,\n",
              "             min_child_weight=None, missing=nan, monotone_constraints=None,\n",
              "             n_estimators=100, n_jobs=None, num_parallel_tree=None,\n",
              "             predictor=None, random_state=None, ...)</pre></div></div></div></div></div>"
            ]
          },
          "metadata": {},
          "execution_count": 143
        }
      ],
      "source": [
        "# ML Model - 3 Implementation\n",
        "XGBR=XGBRegressor()\n",
        "# Fit the Algorithm\n",
        "XGBR.fit(X_train_tran1,Y_train_tran)\n",
        "# Predict on the model"
      ]
    },
    {
      "cell_type": "code",
      "execution_count": 144,
      "metadata": {
        "id": "oQuSTXvdj9H4",
        "colab": {
          "base_uri": "https://localhost:8080/"
        },
        "outputId": "7ec9b33b-33b9-41d2-8cde-ead4a06fa67f"
      },
      "outputs": [
        {
          "output_type": "stream",
          "name": "stdout",
          "text": [
            "Train accuracy for the given model XGBRegressor on transformed dataset is  0.9639757086155345\n",
            "Test accuracy for the given model XGBRegressor on transformed dataset is  0.9625964951229535\n"
          ]
        }
      ],
      "source": [
        "train_accuracy = XGBR.score(X_train_tran1,Y_train_tran)\n",
        "test_accuracy = r2_score(Y_test_tran,XGBR.predict(X_test_tran1))\n",
        "print('Train accuracy for the given model XGBRegressor on transformed dataset is ',train_accuracy)\n",
        "print('Test accuracy for the given model XGBRegressor on transformed dataset is ',test_accuracy)"
      ]
    },
    {
      "cell_type": "code",
      "source": [
        "model.append('XGBRegressor_tran')\n",
        "Test_r2.append(test_accuracy)\n",
        "Train_r2.append(train_accuracy)"
      ],
      "metadata": {
        "id": "ln-nQEMEQfxx"
      },
      "execution_count": null,
      "outputs": []
    },
    {
      "cell_type": "code",
      "source": [
        "# Visualizing evaluation Metric Score chart\n",
        "y_pred= XGBR.predict(X_test_tran1)\n",
        "plt.figure(figsize=(7,5))\n",
        "plt.plot(y_pred[:25], label='predicted')\n",
        "plt.plot(Y_test_tran[:25], label='actual')\n",
        "plt.legend(loc='best')\n",
        "plt.title('Extreme Gradient Boosting Regressor Model for Normal dataset')"
      ],
      "metadata": {
        "id": "5I3iL3fz1tsc",
        "colab": {
          "base_uri": "https://localhost:8080/",
          "height": 485
        },
        "outputId": "d43d7956-6c8a-4973-cc64-7e18d35d4e3f"
      },
      "execution_count": 146,
      "outputs": [
        {
          "output_type": "execute_result",
          "data": {
            "text/plain": [
              "Text(0.5, 1.0, 'Extreme Gradient Boosting Regressor Model for Normal dataset')"
            ]
          },
          "metadata": {},
          "execution_count": 146
        },
        {
          "output_type": "display_data",
          "data": {
            "text/plain": [
              "<Figure size 700x500 with 1 Axes>"
            ],
            "image/png": "[encoded data removed]"
          },
          "metadata": {}
        }
      ]
    },
    {
      "cell_type": "markdown",
      "source": [
        "**So we can see our Taxies are experiencing more accuracy and correctness while predicting the trip duration for our customers.**"
      ],
      "metadata": {
        "id": "N_FZlM7e2V5U"
      }
    },
    {
      "cell_type": "markdown",
      "metadata": {
        "id": "V_kalzWDZhWr"
      },
      "source": [
        "**The Model Implementation for normal dataset**"
      ]
    },
    {
      "cell_type": "code",
      "execution_count": null,
      "metadata": {
        "id": "jzMaOye3kzwF"
      },
      "outputs": [],
      "source": [
        "# ML Model - 3 Implementation\n",
        "XGBR_no=XGBRegressor()\n",
        "# Fit the Algorithm\n",
        "XGBR_no.fit(X_train1,Y_train)\n",
        "# Predict on the model"
      ]
    },
    {
      "cell_type": "code",
      "execution_count": null,
      "metadata": {
        "id": "oNAe0wHqkyNF"
      },
      "outputs": [],
      "source": [
        "train_accuracy = XGBR_no.score(X_train1,Y_train)\n",
        "test_accuracy = r2_score(Y_test,XGBR_no.predict(X_test1))\n",
        "print('Train accuracy for the given model XGBRegressor for normal dataset is ',train_accuracy)\n",
        "print('Test accuracy for the given model XGBRegressor for normal dataset is ',test_accuracy)"
      ]
    },
    {
      "cell_type": "code",
      "source": [
        "model.append('XGBRegressor_norm')\n",
        "Test_r2.append(test_accuracy)\n",
        "Train_r2.append(train_accuracy)"
      ],
      "metadata": {
        "id": "a-tn9-3tQzsz"
      },
      "execution_count": null,
      "outputs": []
    },
    {
      "cell_type": "code",
      "source": [
        "# Visualizing evaluation Metric Score chart\n",
        "y_pred= XGBR_no.predict(X_test1)\n",
        "plt.figure(figsize=(7,5))\n",
        "plt.plot(y_pred[:25], label='predicted')\n",
        "plt.plot(Y_test[:25], label='actual')\n",
        "plt.legend(loc='best')\n",
        "plt.title('Decision Tree Regressor Model for Normal dataset')"
      ],
      "metadata": {
        "id": "0tlEJb171uk8"
      },
      "execution_count": null,
      "outputs": []
    },
    {
      "cell_type": "markdown",
      "metadata": {
        "id": "RvuQauIvPZua"
      },
      "source": [
        "#### 2. Cross- Validation & Hyperparameter Tuning"
      ]
    },
    {
      "cell_type": "markdown",
      "metadata": {
        "id": "_2Tv6gRMPZub"
      },
      "source": [
        "**Cross Validation And Hyper Parameter tuning for the normal dataset.**"
      ]
    },
    {
      "cell_type": "code",
      "execution_count": null,
      "metadata": {
        "id": "wlxH7mNKPZub"
      },
      "outputs": [],
      "source": [
        "# ML Model - 3 Implementation with hyperparameter optimization techniques (i.e., GridSearch CV, RandomSearch CV, Bayesian Optimization etc.)\n",
        "XGBR_CV =XGBRegressor()\n",
        "\n",
        "params = {\n",
        "        'min_child_weight': [1, 5, 10],\n",
        "        'gamma': [0.5, 1, 1.5, 2, 5],\n",
        "        'subsample': [0.6, 0.8, 1.0],\n",
        "        'colsample_bytree': [0.6, 0.8, 1.0],\n",
        "        'max_depth': [3, 4, 5]\n",
        "        }\n",
        "\n",
        "grid_cv_XGBR = RandomizedSearchCV(XGBR_CV, param_distributions=params, \n",
        "                                   n_iter=5,\n",
        "                                   n_jobs=4, cv=5, verbose=3, random_state=1001 )\n",
        "\n",
        "grid_cv_XGBR.fit(X_train1,Y_train)\n",
        "# Predict on the model"
      ]
    },
    {
      "cell_type": "code",
      "execution_count": 159,
      "metadata": {
        "id": "lbIfejovPZuc",
        "colab": {
          "base_uri": "https://localhost:8080/"
        },
        "outputId": "959fca7c-3dac-404d-e02c-bfef0a9fa498"
      },
      "outputs": [
        {
          "output_type": "execute_result",
          "data": {
            "text/plain": [
              "{'subsample': 0.8,\n",
              " 'min_child_weight': 5,\n",
              " 'max_depth': 5,\n",
              " 'gamma': 1,\n",
              " 'colsample_bytree': 0.8}"
            ]
          },
          "metadata": {},
          "execution_count": 159
        }
      ],
      "source": [
        "'''The best Parameters for the extreme gradient boosting regressor.'''\n",
        "\n",
        "grid_cv_XGBR.best_params_"
      ]
    },
    {
      "cell_type": "markdown",
      "metadata": {
        "id": "NYFSK0gwPZuc"
      },
      "source": [
        "**Model Implementation with the new best parameters.**"
      ]
    },
    {
      "cell_type": "code",
      "execution_count": null,
      "metadata": {
        "id": "WoCgXqGoPZud"
      },
      "outputs": [],
      "source": [
        "XGB_no_best=XGBRegressor(subsample=0.8,min_child_weight=5,max_depth=5,gamma=1,colsample_bytree=0.8)\n",
        "XGB_no_best.fit(X_train1,Y_train)"
      ]
    },
    {
      "cell_type": "code",
      "execution_count": 160,
      "metadata": {
        "id": "Ny_ZwNu7PZud",
        "colab": {
          "base_uri": "https://localhost:8080/"
        },
        "outputId": "d273af2a-7862-429a-ac17-67683832f4ed"
      },
      "outputs": [
        {
          "output_type": "stream",
          "name": "stdout",
          "text": [
            "Train accuracy for the given XGBRegressor on normal dataset is  0.7738225063936102\n",
            "Test accuracy for the given XGBRegressor on normal dataset is  0.2492440358069392\n"
          ]
        }
      ],
      "source": [
        "train_accuracy = XGB_no_best.score(X_train1,Y_train)\n",
        "test_accuracy = r2_score(Y_test,XGB_no_best.predict(X_test1))\n",
        "print('Train accuracy for the given XGBRegressor on normal dataset is ',train_accuracy)\n",
        "print('Test accuracy for the given XGBRegressor on normal dataset is ',test_accuracy)"
      ]
    },
    {
      "cell_type": "code",
      "source": [
        "model.append('XGBRegressor_norm_CV')\n",
        "Test_r2.append(test_accuracy)\n",
        "Train_r2.append(train_accuracy)"
      ],
      "metadata": {
        "id": "_3S70lEnRDFJ"
      },
      "execution_count": null,
      "outputs": []
    },
    {
      "cell_type": "markdown",
      "metadata": {
        "id": "R49plTcJPZue"
      },
      "source": [
        "**Cross Validation and Hyper parameter tuning for the Transformed Dataset**"
      ]
    },
    {
      "cell_type": "code",
      "execution_count": null,
      "metadata": {
        "id": "l3uoPVu0PZue"
      },
      "outputs": [],
      "source": [
        "# ML Model - 3 Implementation with hyperparameter optimization techniques (i.e., GridSearch CV, RandomSearch CV, Bayesian Optimization etc.)\n",
        "XGBR_CV =XGBRegressor()\n",
        "\n",
        "params = {\n",
        "        'min_child_weight': [1, 5, 10],\n",
        "        'gamma': [0.5, 1, 1.5, 2, 5],\n",
        "        'subsample': [0.6, 0.8, 1.0],\n",
        "        'colsample_bytree': [0.6, 0.8, 1.0],\n",
        "        'max_depth': [3, 4, 5]\n",
        "        }\n",
        "\n",
        "grid_cv_XGBR_tran = RandomizedSearchCV(XGBR_CV, param_distributions=params, \n",
        "                                   n_iter=5,\n",
        "                                   n_jobs=4, cv=3, verbose=3, random_state=1001 )\n",
        "\n",
        "grid_cv_XGBR_tran.fit(X_train_tran1,Y_train_tran)\n",
        "# Predict on the model"
      ]
    },
    {
      "cell_type": "code",
      "execution_count": 161,
      "metadata": {
        "id": "UxRKw_6pPZue",
        "colab": {
          "base_uri": "https://localhost:8080/"
        },
        "outputId": "53512e14-2898-4bd4-d17e-7304b63af245"
      },
      "outputs": [
        {
          "output_type": "execute_result",
          "data": {
            "text/plain": [
              "{'subsample': 0.6,\n",
              " 'min_child_weight': 1,\n",
              " 'max_depth': 5,\n",
              " 'gamma': 1.5,\n",
              " 'colsample_bytree': 0.8}"
            ]
          },
          "metadata": {},
          "execution_count": 161
        }
      ],
      "source": [
        "'''These are the best Parameters we have found out via our Cross validation and hyper parameter tuning'''\n",
        "grid_cv_XGBR_tran.best_params_"
      ]
    },
    {
      "cell_type": "code",
      "execution_count": 162,
      "metadata": {
        "id": "3wZLsHZRPZuf",
        "colab": {
          "base_uri": "https://localhost:8080/",
          "height": 300
        },
        "outputId": "b8ffa4da-3a36-40eb-c58d-d47472c3a53f"
      },
      "outputs": [
        {
          "output_type": "stream",
          "name": "stdout",
          "text": [
            "[06:51:00] WARNING: ../src/learner.cc:767: \n",
            "Parameters: { \"max_leaf_nodes\", \"min_samples_leaf\", \"min_samples_split\" } are not used.\n",
            "\n"
          ]
        },
        {
          "output_type": "execute_result",
          "data": {
            "text/plain": [
              "XGBRegressor(base_score=None, booster=None, callbacks=None,\n",
              "             colsample_bylevel=None, colsample_bynode=None,\n",
              "             colsample_bytree=None, early_stopping_rounds=None,\n",
              "             enable_categorical=False, eval_metric=None, feature_types=None,\n",
              "             gamma=None, gpu_id=None, grow_policy=None, importance_type=None,\n",
              "             interaction_constraints=None, learning_rate=None, max_bin=None,\n",
              "             max_cat_threshold=None, max_cat_to_onehot=None,\n",
              "             max_delta_step=None, max_depth=5, max_leaf_nodes=700,\n",
              "             max_leaves=None, min_child_weight=None, min_samples_leaf=100,\n",
              "             min_samples_split=20, missing=nan, monotone_constraints=None,\n",
              "             n_estimators=100, n_jobs=None, ...)"
            ],
            "text/html": [
              "<style>#sk-container-id-17 {color: black;background-color: white;}#sk-container-id-17 pre{padding: 0;}#sk-container-id-17 div.sk-toggleable {background-color: white;}#sk-container-id-17 label.sk-toggleable__label {cursor: pointer;display: block;width: 100%;margin-bottom: 0;padding: 0.3em;box-sizing: border-box;text-align: center;}#sk-container-id-17 label.sk-toggleable__label-arrow:before {content: \"▸\";float: left;margin-right: 0.25em;color: #696969;}#sk-container-id-17 label.sk-toggleable__label-arrow:hover:before {color: black;}#sk-container-id-17 div.sk-estimator:hover label.sk-toggleable__label-arrow:before {color: black;}#sk-container-id-17 div.sk-toggleable__content {max-height: 0;max-width: 0;overflow: hidden;text-align: left;background-color: #f0f8ff;}#sk-container-id-17 div.sk-toggleable__content pre {margin: 0.2em;color: black;border-radius: 0.25em;background-color: #f0f8ff;}#sk-container-id-17 input.sk-toggleable__control:checked~div.sk-toggleable__content {max-height: 200px;max-width: 100%;overflow: auto;}#sk-container-id-17 input.sk-toggleable__control:checked~label.sk-toggleable__label-arrow:before {content: \"▾\";}#sk-container-id-17 div.sk-estimator input.sk-toggleable__control:checked~label.sk-toggleable__label {background-color: #d4ebff;}#sk-container-id-17 div.sk-label input.sk-toggleable__control:checked~label.sk-toggleable__label {background-color: #d4ebff;}#sk-container-id-17 input.sk-hidden--visually {border: 0;clip: rect(1px 1px 1px 1px);clip: rect(1px, 1px, 1px, 1px);height: 1px;margin: -1px;overflow: hidden;padding: 0;position: absolute;width: 1px;}#sk-container-id-17 div.sk-estimator {font-family: monospace;background-color: #f0f8ff;border: 1px dotted black;border-radius: 0.25em;box-sizing: border-box;margin-bottom: 0.5em;}#sk-container-id-17 div.sk-estimator:hover {background-color: #d4ebff;}#sk-container-id-17 div.sk-parallel-item::after {content: \"\";width: 100%;border-bottom: 1px solid gray;flex-grow: 1;}#sk-container-id-17 div.sk-label:hover label.sk-toggleable__label {background-color: #d4ebff;}#sk-container-id-17 div.sk-serial::before {content: \"\";position: absolute;border-left: 1px solid gray;box-sizing: border-box;top: 0;bottom: 0;left: 50%;z-index: 0;}#sk-container-id-17 div.sk-serial {display: flex;flex-direction: column;align-items: center;background-color: white;padding-right: 0.2em;padding-left: 0.2em;position: relative;}#sk-container-id-17 div.sk-item {position: relative;z-index: 1;}#sk-container-id-17 div.sk-parallel {display: flex;align-items: stretch;justify-content: center;background-color: white;position: relative;}#sk-container-id-17 div.sk-item::before, #sk-container-id-17 div.sk-parallel-item::before {content: \"\";position: absolute;border-left: 1px solid gray;box-sizing: border-box;top: 0;bottom: 0;left: 50%;z-index: -1;}#sk-container-id-17 div.sk-parallel-item {display: flex;flex-direction: column;z-index: 1;position: relative;background-color: white;}#sk-container-id-17 div.sk-parallel-item:first-child::after {align-self: flex-end;width: 50%;}#sk-container-id-17 div.sk-parallel-item:last-child::after {align-self: flex-start;width: 50%;}#sk-container-id-17 div.sk-parallel-item:only-child::after {width: 0;}#sk-container-id-17 div.sk-dashed-wrapped {border: 1px dashed gray;margin: 0 0.4em 0.5em 0.4em;box-sizing: border-box;padding-bottom: 0.4em;background-color: white;}#sk-container-id-17 div.sk-label label {font-family: monospace;font-weight: bold;display: inline-block;line-height: 1.2em;}#sk-container-id-17 div.sk-label-container {text-align: center;}#sk-container-id-17 div.sk-container {/* jupyter's `normalize.less` sets `[hidden] { display: none; }` but bootstrap.min.css set `[hidden] { display: none !important; }` so we also need the `!important` here to be able to override the default hidden behavior on the sphinx rendered scikit-learn.org. See: https://github.com/scikit-learn/scikit-learn/issues/21755 */display: inline-block !important;position: relative;}#sk-container-id-17 div.sk-text-repr-fallback {display: none;}</style><div id=\"sk-container-id-17\" class=\"sk-top-container\"><div class=\"sk-text-repr-fallback\"><pre>XGBRegressor(base_score=None, booster=None, callbacks=None,\n",
              "             colsample_bylevel=None, colsample_bynode=None,\n",
              "             colsample_bytree=None, early_stopping_rounds=None,\n",
              "             enable_categorical=False, eval_metric=None, feature_types=None,\n",
              "             gamma=None, gpu_id=None, grow_policy=None, importance_type=None,\n",
              "             interaction_constraints=None, learning_rate=None, max_bin=None,\n",
              "             max_cat_threshold=None, max_cat_to_onehot=None,\n",
              "             max_delta_step=None, max_depth=5, max_leaf_nodes=700,\n",
              "             max_leaves=None, min_child_weight=None, min_samples_leaf=100,\n",
              "             min_samples_split=20, missing=nan, monotone_constraints=None,\n",
              "             n_estimators=100, n_jobs=None, ...)</pre><b>In a Jupyter environment, please rerun this cell to show the HTML representation or trust the notebook. <br />On GitHub, the HTML representation is unable to render, please try loading this page with nbviewer.org.</b></div><div class=\"sk-container\" hidden><div class=\"sk-item\"><div class=\"sk-estimator sk-toggleable\"><input class=\"sk-toggleable__control sk-hidden--visually\" id=\"sk-estimator-id-25\" type=\"checkbox\" checked><label for=\"sk-estimator-id-25\" class=\"sk-toggleable__label sk-toggleable__label-arrow\">XGBRegressor</label><div class=\"sk-toggleable__content\"><pre>XGBRegressor(base_score=None, booster=None, callbacks=None,\n",
              "             colsample_bylevel=None, colsample_bynode=None,\n",
              "             colsample_bytree=None, early_stopping_rounds=None,\n",
              "             enable_categorical=False, eval_metric=None, feature_types=None,\n",
              "             gamma=None, gpu_id=None, grow_policy=None, importance_type=None,\n",
              "             interaction_constraints=None, learning_rate=None, max_bin=None,\n",
              "             max_cat_threshold=None, max_cat_to_onehot=None,\n",
              "             max_delta_step=None, max_depth=5, max_leaf_nodes=700,\n",
              "             max_leaves=None, min_child_weight=None, min_samples_leaf=100,\n",
              "             min_samples_split=20, missing=nan, monotone_constraints=None,\n",
              "             n_estimators=100, n_jobs=None, ...)</pre></div></div></div></div></div>"
            ]
          },
          "metadata": {},
          "execution_count": 162
        }
      ],
      "source": [
        "XGB_tran_best= XGBRegressor(max_depth=5,max_leaf_nodes=700,min_samples_leaf=100,min_samples_split=20)\n",
        "XGB_tran_best.fit(X_train_tran1,Y_train_tran)"
      ]
    },
    {
      "cell_type": "code",
      "execution_count": 163,
      "metadata": {
        "id": "61kumcF2PZuf",
        "colab": {
          "base_uri": "https://localhost:8080/"
        },
        "outputId": "520d7abe-a77d-435b-fe85-c9e058d65db5"
      },
      "outputs": [
        {
          "output_type": "stream",
          "name": "stdout",
          "text": [
            "The train accuracy for the given XGBRegressor model for Transformed Dataset after CV is  0.950471718345941\n",
            "The test accuracy for the given  XGBRegressor model for Transformed Dataset after CV is 0.949797916454139\n"
          ]
        }
      ],
      "source": [
        "train_accuracy = XGB_tran_best.score(X_train_tran1,Y_train_tran)\n",
        "test_accuracy = r2_score(Y_test_tran, XGB_tran_best.predict(X_test_tran1))\n",
        "print( 'The train accuracy for the given XGBRegressor model for Transformed Dataset after CV is ',train_accuracy)\n",
        "print('The test accuracy for the given  XGBRegressor model for Transformed Dataset after CV is',test_accuracy)"
      ]
    },
    {
      "cell_type": "code",
      "source": [
        "model.append('XGBRegressor_tran_CV')\n",
        "Test_r2.append(test_accuracy)\n",
        "Train_r2.append(train_accuracy)"
      ],
      "metadata": {
        "id": "wF_dSlu2RUep"
      },
      "execution_count": 164,
      "outputs": []
    },
    {
      "cell_type": "markdown",
      "metadata": {
        "id": "2laKWMS8PZug"
      },
      "source": [
        "I used some basic hyper parameters to tune our extreme gradient boost model"
      ]
    },
    {
      "cell_type": "markdown",
      "metadata": {
        "id": "ysmWUOR8PZuh"
      },
      "source": [
        "**If we talk about the improvements, I would say our NYC taxies were performing better when the model was untuned with its default settings.**\\\n",
        "**But it have helped to improve the accuracy for the Normal dataset.**\\\n",
        "**But if we talk about the applicability and reliance over the result for business growth , the untuned model was performing more better.**\n",
        "**The reason is, it shows 97% of accuracy with train and test.**"
      ]
    },
    {
      "cell_type": "code",
      "source": [
        "Output_df3={'Model':model,\n",
        "'train_r2':Train_r2,'test_r2':Test_r2}"
      ],
      "metadata": {
        "id": "jLVqqIMcSu74"
      },
      "execution_count": 165,
      "outputs": []
    },
    {
      "cell_type": "code",
      "source": [
        "Model_123=pd.DataFrame(Output_df3)\n",
        "Model_123"
      ],
      "metadata": {
        "id": "IzBw1jaHSyG3",
        "colab": {
          "base_uri": "https://localhost:8080/",
          "height": 488
        },
        "outputId": "60e6f84b-6b56-45bf-dde1-eaf8e1513330"
      },
      "execution_count": 166,
      "outputs": [
        {
          "output_type": "execute_result",
          "data": {
            "text/plain": [
              "                         Model  train_r2   test_r2\n",
              "0      Linear_Regression_trans  0.423228  0.420977\n",
              "1       Linear_Regression_norm  0.949855  0.975257\n",
              "2   Lasso_Regularization_trans  0.410545  0.408444\n",
              "3    Lasso_Regularization_Norm  0.013958  0.009207\n",
              "4    Ridge_Regularization_tran  0.423227  0.420974\n",
              "5    Ridge_Regularization_Norm  0.949579  0.974654\n",
              "6           Decision_Tree_tran  1.000000  0.765781\n",
              "7           Decision_Tree_Norm  1.000000 -0.123661\n",
              "8         Decision_TreeCV_Norm  0.011754  0.007692\n",
              "9         Decision_TreeCV_Tran  0.617922  0.612095\n",
              "10           XGBRegressor_tran  0.963976  0.962596\n",
              "11           XGBRegressor_norm  0.904463  0.459840\n",
              "12        XGBRegressor_norm_CV  0.773823  0.249244\n",
              "13        XGBRegressor_tran_CV  0.950472  0.949798"
            ],
            "text/html": [
              "\n",
              "  <div id=\"df-e6a5d565-6ba8-4a07-a38c-3cd437381929\">\n",
              "    <div class=\"colab-df-container\">\n",
              "      <div>\n",
              "<style scoped>\n",
              "    .dataframe tbody tr th:only-of-type {\n",
              "        vertical-align: middle;\n",
              "    }\n",
              "\n",
              "    .dataframe tbody tr th {\n",
              "        vertical-align: top;\n",
              "    }\n",
              "\n",
              "    .dataframe thead th {\n",
              "        text-align: right;\n",
              "    }\n",
              "</style>\n",
              "<table border=\"1\" class=\"dataframe\">\n",
              "  <thead>\n",
              "    <tr style=\"text-align: right;\">\n",
              "      <th></th>\n",
              "      <th>Model</th>\n",
              "      <th>train_r2</th>\n",
              "      <th>test_r2</th>\n",
              "    </tr>\n",
              "  </thead>\n",
              "  <tbody>\n",
              "    <tr>\n",
              "      <th>0</th>\n",
              "      <td>Linear_Regression_trans</td>\n",
              "      <td>0.423228</td>\n",
              "      <td>0.420977</td>\n",
              "    </tr>\n",
              "    <tr>\n",
              "      <th>1</th>\n",
              "      <td>Linear_Regression_norm</td>\n",
              "      <td>0.949855</td>\n",
              "      <td>0.975257</td>\n",
              "    </tr>\n",
              "    <tr>\n",
              "      <th>2</th>\n",
              "      <td>Lasso_Regularization_trans</td>\n",
              "      <td>0.410545</td>\n",
              "      <td>0.408444</td>\n",
              "    </tr>\n",
              "    <tr>\n",
              "      <th>3</th>\n",
              "      <td>Lasso_Regularization_Norm</td>\n",
              "      <td>0.013958</td>\n",
              "      <td>0.009207</td>\n",
              "    </tr>\n",
              "    <tr>\n",
              "      <th>4</th>\n",
              "      <td>Ridge_Regularization_tran</td>\n",
              "      <td>0.423227</td>\n",
              "      <td>0.420974</td>\n",
              "    </tr>\n",
              "    <tr>\n",
              "      <th>5</th>\n",
              "      <td>Ridge_Regularization_Norm</td>\n",
              "      <td>0.949579</td>\n",
              "      <td>0.974654</td>\n",
              "    </tr>\n",
              "    <tr>\n",
              "      <th>6</th>\n",
              "      <td>Decision_Tree_tran</td>\n",
              "      <td>1.000000</td>\n",
              "      <td>0.765781</td>\n",
              "    </tr>\n",
              "    <tr>\n",
              "      <th>7</th>\n",
              "      <td>Decision_Tree_Norm</td>\n",
              "      <td>1.000000</td>\n",
              "      <td>-0.123661</td>\n",
              "    </tr>\n",
              "    <tr>\n",
              "      <th>8</th>\n",
              "      <td>Decision_TreeCV_Norm</td>\n",
              "      <td>0.011754</td>\n",
              "      <td>0.007692</td>\n",
              "    </tr>\n",
              "    <tr>\n",
              "      <th>9</th>\n",
              "      <td>Decision_TreeCV_Tran</td>\n",
              "      <td>0.617922</td>\n",
              "      <td>0.612095</td>\n",
              "    </tr>\n",
              "    <tr>\n",
              "      <th>10</th>\n",
              "      <td>XGBRegressor_tran</td>\n",
              "      <td>0.963976</td>\n",
              "      <td>0.962596</td>\n",
              "    </tr>\n",
              "    <tr>\n",
              "      <th>11</th>\n",
              "      <td>XGBRegressor_norm</td>\n",
              "      <td>0.904463</td>\n",
              "      <td>0.459840</td>\n",
              "    </tr>\n",
              "    <tr>\n",
              "      <th>12</th>\n",
              "      <td>XGBRegressor_norm_CV</td>\n",
              "      <td>0.773823</td>\n",
              "      <td>0.249244</td>\n",
              "    </tr>\n",
              "    <tr>\n",
              "      <th>13</th>\n",
              "      <td>XGBRegressor_tran_CV</td>\n",
              "      <td>0.950472</td>\n",
              "      <td>0.949798</td>\n",
              "    </tr>\n",
              "  </tbody>\n",
              "</table>\n",
              "</div>\n",
              "      <button class=\"colab-df-convert\" onclick=\"convertToInteractive('df-e6a5d565-6ba8-4a07-a38c-3cd437381929')\"\n",
              "              title=\"Convert this dataframe to an interactive table.\"\n",
              "              style=\"display:none;\">\n",
              "        \n",
              "  <svg xmlns=\"http://www.w3.org/2000/svg\" height=\"24px\"viewBox=\"0 0 24 24\"\n",
              "       width=\"24px\">\n",
              "    <path d=\"M0 0h24v24H0V0z\" fill=\"none\"/>\n",
              "    <path d=\"M18.56 5.44l.94 2.06.94-2.06 2.06-.94-2.06-.94-.94-2.06-.94 2.06-2.06.94zm-11 1L8.5 8.5l.94-2.06 2.06-.94-2.06-.94L8.5 2.5l-.94 2.06-2.06.94zm10 10l.94 2.06.94-2.06 2.06-.94-2.06-.94-.94-2.06-.94 2.06-2.06.94z\"/><path d=\"M17.41 7.96l-1.37-1.37c-.4-.4-.92-.59-1.43-.59-.52 0-1.04.2-1.43.59L10.3 9.45l-7.72 7.72c-.78.78-.78 2.05 0 2.83L4 21.41c.39.39.9.59 1.41.59.51 0 1.02-.2 1.41-.59l7.78-7.78 2.81-2.81c.8-.78.8-2.07 0-2.86zM5.41 20L4 18.59l7.72-7.72 1.47 1.35L5.41 20z\"/>\n",
              "  </svg>\n",
              "      </button>\n",
              "      \n",
              "  <style>\n",
              "    .colab-df-container {\n",
              "      display:flex;\n",
              "      flex-wrap:wrap;\n",
              "      gap: 12px;\n",
              "    }\n",
              "\n",
              "    .colab-df-convert {\n",
              "      background-color: #E8F0FE;\n",
              "      border: none;\n",
              "      border-radius: 50%;\n",
              "      cursor: pointer;\n",
              "      display: none;\n",
              "      fill: #1967D2;\n",
              "      height: 32px;\n",
              "      padding: 0 0 0 0;\n",
              "      width: 32px;\n",
              "    }\n",
              "\n",
              "    .colab-df-convert:hover {\n",
              "      background-color: #E2EBFA;\n",
              "      box-shadow: 0px 1px 2px rgba(60, 64, 67, 0.3), 0px 1px 3px 1px rgba(60, 64, 67, 0.15);\n",
              "      fill: #174EA6;\n",
              "    }\n",
              "\n",
              "    [theme=dark] .colab-df-convert {\n",
              "      background-color: #3B4455;\n",
              "      fill: #D2E3FC;\n",
              "    }\n",
              "\n",
              "    [theme=dark] .colab-df-convert:hover {\n",
              "      background-color: #434B5C;\n",
              "      box-shadow: 0px 1px 3px 1px rgba(0, 0, 0, 0.15);\n",
              "      filter: drop-shadow(0px 1px 2px rgba(0, 0, 0, 0.3));\n",
              "      fill: #FFFFFF;\n",
              "    }\n",
              "  </style>\n",
              "\n",
              "      <script>\n",
              "        const buttonEl =\n",
              "          document.querySelector('#df-e6a5d565-6ba8-4a07-a38c-3cd437381929 button.colab-df-convert');\n",
              "        buttonEl.style.display =\n",
              "          google.colab.kernel.accessAllowed ? 'block' : 'none';\n",
              "\n",
              "        async function convertToInteractive(key) {\n",
              "          const element = document.querySelector('#df-e6a5d565-6ba8-4a07-a38c-3cd437381929');\n",
              "          const dataTable =\n",
              "            await google.colab.kernel.invokeFunction('convertToInteractive',\n",
              "                                                     [key], {});\n",
              "          if (!dataTable) return;\n",
              "\n",
              "          const docLinkHtml = 'Like what you see? Visit the ' +\n",
              "            '<a target=\"_blank\" href=https://colab.research.google.com/notebooks/data_table.ipynb>data table notebook</a>'\n",
              "            + ' to learn more about interactive tables.';\n",
              "          element.innerHTML = '';\n",
              "          dataTable['output_type'] = 'display_data';\n",
              "          await google.colab.output.renderOutput(dataTable, element);\n",
              "          const docLink = document.createElement('div');\n",
              "          docLink.innerHTML = docLinkHtml;\n",
              "          element.appendChild(docLink);\n",
              "        }\n",
              "      </script>\n",
              "    </div>\n",
              "  </div>\n",
              "  "
            ]
          },
          "metadata": {},
          "execution_count": 166
        }
      ]
    },
    {
      "cell_type": "markdown",
      "metadata": {
        "id": "nEB9DtSnnquU"
      },
      "source": [
        "### ML Model 4"
      ]
    },
    {
      "cell_type": "markdown",
      "metadata": {
        "id": "Z17Od5MT0248"
      },
      "source": [
        "**Following metric evaluation shows r2_score for Transformed Dataset.**"
      ]
    },
    {
      "cell_type": "code",
      "execution_count": 167,
      "metadata": {
        "id": "GKVoUtBQ0kUA",
        "colab": {
          "base_uri": "https://localhost:8080/",
          "height": 75
        },
        "outputId": "d0f33ddc-8b59-44b0-ad0a-d354f15e8cc7"
      },
      "outputs": [
        {
          "output_type": "execute_result",
          "data": {
            "text/plain": [
              "HistGradientBoostingRegressor()"
            ],
            "text/html": [
              "<style>#sk-container-id-18 {color: black;background-color: white;}#sk-container-id-18 pre{padding: 0;}#sk-container-id-18 div.sk-toggleable {background-color: white;}#sk-container-id-18 label.sk-toggleable__label {cursor: pointer;display: block;width: 100%;margin-bottom: 0;padding: 0.3em;box-sizing: border-box;text-align: center;}#sk-container-id-18 label.sk-toggleable__label-arrow:before {content: \"▸\";float: left;margin-right: 0.25em;color: #696969;}#sk-container-id-18 label.sk-toggleable__label-arrow:hover:before {color: black;}#sk-container-id-18 div.sk-estimator:hover label.sk-toggleable__label-arrow:before {color: black;}#sk-container-id-18 div.sk-toggleable__content {max-height: 0;max-width: 0;overflow: hidden;text-align: left;background-color: #f0f8ff;}#sk-container-id-18 div.sk-toggleable__content pre {margin: 0.2em;color: black;border-radius: 0.25em;background-color: #f0f8ff;}#sk-container-id-18 input.sk-toggleable__control:checked~div.sk-toggleable__content {max-height: 200px;max-width: 100%;overflow: auto;}#sk-container-id-18 input.sk-toggleable__control:checked~label.sk-toggleable__label-arrow:before {content: \"▾\";}#sk-container-id-18 div.sk-estimator input.sk-toggleable__control:checked~label.sk-toggleable__label {background-color: #d4ebff;}#sk-container-id-18 div.sk-label input.sk-toggleable__control:checked~label.sk-toggleable__label {background-color: #d4ebff;}#sk-container-id-18 input.sk-hidden--visually {border: 0;clip: rect(1px 1px 1px 1px);clip: rect(1px, 1px, 1px, 1px);height: 1px;margin: -1px;overflow: hidden;padding: 0;position: absolute;width: 1px;}#sk-container-id-18 div.sk-estimator {font-family: monospace;background-color: #f0f8ff;border: 1px dotted black;border-radius: 0.25em;box-sizing: border-box;margin-bottom: 0.5em;}#sk-container-id-18 div.sk-estimator:hover {background-color: #d4ebff;}#sk-container-id-18 div.sk-parallel-item::after {content: \"\";width: 100%;border-bottom: 1px solid gray;flex-grow: 1;}#sk-container-id-18 div.sk-label:hover label.sk-toggleable__label {background-color: #d4ebff;}#sk-container-id-18 div.sk-serial::before {content: \"\";position: absolute;border-left: 1px solid gray;box-sizing: border-box;top: 0;bottom: 0;left: 50%;z-index: 0;}#sk-container-id-18 div.sk-serial {display: flex;flex-direction: column;align-items: center;background-color: white;padding-right: 0.2em;padding-left: 0.2em;position: relative;}#sk-container-id-18 div.sk-item {position: relative;z-index: 1;}#sk-container-id-18 div.sk-parallel {display: flex;align-items: stretch;justify-content: center;background-color: white;position: relative;}#sk-container-id-18 div.sk-item::before, #sk-container-id-18 div.sk-parallel-item::before {content: \"\";position: absolute;border-left: 1px solid gray;box-sizing: border-box;top: 0;bottom: 0;left: 50%;z-index: -1;}#sk-container-id-18 div.sk-parallel-item {display: flex;flex-direction: column;z-index: 1;position: relative;background-color: white;}#sk-container-id-18 div.sk-parallel-item:first-child::after {align-self: flex-end;width: 50%;}#sk-container-id-18 div.sk-parallel-item:last-child::after {align-self: flex-start;width: 50%;}#sk-container-id-18 div.sk-parallel-item:only-child::after {width: 0;}#sk-container-id-18 div.sk-dashed-wrapped {border: 1px dashed gray;margin: 0 0.4em 0.5em 0.4em;box-sizing: border-box;padding-bottom: 0.4em;background-color: white;}#sk-container-id-18 div.sk-label label {font-family: monospace;font-weight: bold;display: inline-block;line-height: 1.2em;}#sk-container-id-18 div.sk-label-container {text-align: center;}#sk-container-id-18 div.sk-container {/* jupyter's `normalize.less` sets `[hidden] { display: none; }` but bootstrap.min.css set `[hidden] { display: none !important; }` so we also need the `!important` here to be able to override the default hidden behavior on the sphinx rendered scikit-learn.org. See: https://github.com/scikit-learn/scikit-learn/issues/21755 */display: inline-block !important;position: relative;}#sk-container-id-18 div.sk-text-repr-fallback {display: none;}</style><div id=\"sk-container-id-18\" class=\"sk-top-container\"><div class=\"sk-text-repr-fallback\"><pre>HistGradientBoostingRegressor()</pre><b>In a Jupyter environment, please rerun this cell to show the HTML representation or trust the notebook. <br />On GitHub, the HTML representation is unable to render, please try loading this page with nbviewer.org.</b></div><div class=\"sk-container\" hidden><div class=\"sk-item\"><div class=\"sk-estimator sk-toggleable\"><input class=\"sk-toggleable__control sk-hidden--visually\" id=\"sk-estimator-id-26\" type=\"checkbox\" checked><label for=\"sk-estimator-id-26\" class=\"sk-toggleable__label sk-toggleable__label-arrow\">HistGradientBoostingRegressor</label><div class=\"sk-toggleable__content\"><pre>HistGradientBoostingRegressor()</pre></div></div></div></div></div>"
            ]
          },
          "metadata": {},
          "execution_count": 167
        }
      ],
      "source": [
        "GBR_tran=HistGradientBoostingRegressor()\n",
        "GBR_tran.fit(X_train_tran1,Y_train_tran)"
      ]
    },
    {
      "cell_type": "code",
      "execution_count": 168,
      "metadata": {
        "id": "96OHhIZXjwqh",
        "colab": {
          "base_uri": "https://localhost:8080/"
        },
        "outputId": "0242d64d-2848-40b2-e199-001967ec5b6f"
      },
      "outputs": [
        {
          "output_type": "stream",
          "name": "stdout",
          "text": [
            "Train accuracy for the given DTR is  0.8649572342554146\n",
            "Test accuracy for the given DTR is  0.8637687690642473\n"
          ]
        }
      ],
      "source": [
        "train_accuracy = GBR_tran.score(X_train_tran1,Y_train_tran)\n",
        "test_accuracy = r2_score(Y_test_tran,GBR_tran.predict(X_test_tran1))\n",
        "print('Train accuracy for the given DTR is ',train_accuracy)\n",
        "print('Test accuracy for the given DTR is ',test_accuracy)"
      ]
    },
    {
      "cell_type": "code",
      "source": [
        "model.append('HIST_GBM_tran')\n",
        "Test_r2.append(test_accuracy)\n",
        "Train_r2.append(train_accuracy)"
      ],
      "metadata": {
        "id": "phr4wP47SCPZ"
      },
      "execution_count": 169,
      "outputs": []
    },
    {
      "cell_type": "markdown",
      "metadata": {
        "id": "Uhu5KX0106rD"
      },
      "source": [
        "**Following metric evaluation shows r2_score for Noraml Dataset.**"
      ]
    },
    {
      "cell_type": "code",
      "execution_count": 170,
      "metadata": {
        "id": "MPX-4hRqBIIu",
        "colab": {
          "base_uri": "https://localhost:8080/",
          "height": 75
        },
        "outputId": "9a72d547-c64f-40fd-d699-5697e17e6101"
      },
      "outputs": [
        {
          "output_type": "execute_result",
          "data": {
            "text/plain": [
              "HistGradientBoostingRegressor()"
            ],
            "text/html": [
              "<style>#sk-container-id-19 {color: black;background-color: white;}#sk-container-id-19 pre{padding: 0;}#sk-container-id-19 div.sk-toggleable {background-color: white;}#sk-container-id-19 label.sk-toggleable__label {cursor: pointer;display: block;width: 100%;margin-bottom: 0;padding: 0.3em;box-sizing: border-box;text-align: center;}#sk-container-id-19 label.sk-toggleable__label-arrow:before {content: \"▸\";float: left;margin-right: 0.25em;color: #696969;}#sk-container-id-19 label.sk-toggleable__label-arrow:hover:before {color: black;}#sk-container-id-19 div.sk-estimator:hover label.sk-toggleable__label-arrow:before {color: black;}#sk-container-id-19 div.sk-toggleable__content {max-height: 0;max-width: 0;overflow: hidden;text-align: left;background-color: #f0f8ff;}#sk-container-id-19 div.sk-toggleable__content pre {margin: 0.2em;color: black;border-radius: 0.25em;background-color: #f0f8ff;}#sk-container-id-19 input.sk-toggleable__control:checked~div.sk-toggleable__content {max-height: 200px;max-width: 100%;overflow: auto;}#sk-container-id-19 input.sk-toggleable__control:checked~label.sk-toggleable__label-arrow:before {content: \"▾\";}#sk-container-id-19 div.sk-estimator input.sk-toggleable__control:checked~label.sk-toggleable__label {background-color: #d4ebff;}#sk-container-id-19 div.sk-label input.sk-toggleable__control:checked~label.sk-toggleable__label {background-color: #d4ebff;}#sk-container-id-19 input.sk-hidden--visually {border: 0;clip: rect(1px 1px 1px 1px);clip: rect(1px, 1px, 1px, 1px);height: 1px;margin: -1px;overflow: hidden;padding: 0;position: absolute;width: 1px;}#sk-container-id-19 div.sk-estimator {font-family: monospace;background-color: #f0f8ff;border: 1px dotted black;border-radius: 0.25em;box-sizing: border-box;margin-bottom: 0.5em;}#sk-container-id-19 div.sk-estimator:hover {background-color: #d4ebff;}#sk-container-id-19 div.sk-parallel-item::after {content: \"\";width: 100%;border-bottom: 1px solid gray;flex-grow: 1;}#sk-container-id-19 div.sk-label:hover label.sk-toggleable__label {background-color: #d4ebff;}#sk-container-id-19 div.sk-serial::before {content: \"\";position: absolute;border-left: 1px solid gray;box-sizing: border-box;top: 0;bottom: 0;left: 50%;z-index: 0;}#sk-container-id-19 div.sk-serial {display: flex;flex-direction: column;align-items: center;background-color: white;padding-right: 0.2em;padding-left: 0.2em;position: relative;}#sk-container-id-19 div.sk-item {position: relative;z-index: 1;}#sk-container-id-19 div.sk-parallel {display: flex;align-items: stretch;justify-content: center;background-color: white;position: relative;}#sk-container-id-19 div.sk-item::before, #sk-container-id-19 div.sk-parallel-item::before {content: \"\";position: absolute;border-left: 1px solid gray;box-sizing: border-box;top: 0;bottom: 0;left: 50%;z-index: -1;}#sk-container-id-19 div.sk-parallel-item {display: flex;flex-direction: column;z-index: 1;position: relative;background-color: white;}#sk-container-id-19 div.sk-parallel-item:first-child::after {align-self: flex-end;width: 50%;}#sk-container-id-19 div.sk-parallel-item:last-child::after {align-self: flex-start;width: 50%;}#sk-container-id-19 div.sk-parallel-item:only-child::after {width: 0;}#sk-container-id-19 div.sk-dashed-wrapped {border: 1px dashed gray;margin: 0 0.4em 0.5em 0.4em;box-sizing: border-box;padding-bottom: 0.4em;background-color: white;}#sk-container-id-19 div.sk-label label {font-family: monospace;font-weight: bold;display: inline-block;line-height: 1.2em;}#sk-container-id-19 div.sk-label-container {text-align: center;}#sk-container-id-19 div.sk-container {/* jupyter's `normalize.less` sets `[hidden] { display: none; }` but bootstrap.min.css set `[hidden] { display: none !important; }` so we also need the `!important` here to be able to override the default hidden behavior on the sphinx rendered scikit-learn.org. See: https://github.com/scikit-learn/scikit-learn/issues/21755 */display: inline-block !important;position: relative;}#sk-container-id-19 div.sk-text-repr-fallback {display: none;}</style><div id=\"sk-container-id-19\" class=\"sk-top-container\"><div class=\"sk-text-repr-fallback\"><pre>HistGradientBoostingRegressor()</pre><b>In a Jupyter environment, please rerun this cell to show the HTML representation or trust the notebook. <br />On GitHub, the HTML representation is unable to render, please try loading this page with nbviewer.org.</b></div><div class=\"sk-container\" hidden><div class=\"sk-item\"><div class=\"sk-estimator sk-toggleable\"><input class=\"sk-toggleable__control sk-hidden--visually\" id=\"sk-estimator-id-27\" type=\"checkbox\" checked><label for=\"sk-estimator-id-27\" class=\"sk-toggleable__label sk-toggleable__label-arrow\">HistGradientBoostingRegressor</label><div class=\"sk-toggleable__content\"><pre>HistGradientBoostingRegressor()</pre></div></div></div></div></div>"
            ]
          },
          "metadata": {},
          "execution_count": 170
        }
      ],
      "source": [
        "GBR=HistGradientBoostingRegressor()\n",
        "GBR.fit(X_train1,Y_train)"
      ]
    },
    {
      "cell_type": "code",
      "execution_count": 171,
      "metadata": {
        "id": "S2Y-aqJPBoZJ",
        "colab": {
          "base_uri": "https://localhost:8080/"
        },
        "outputId": "31b5fc42-1976-458a-a7bf-d02f078eaa48"
      },
      "outputs": [
        {
          "output_type": "stream",
          "name": "stdout",
          "text": [
            "Train accuracy for the given DTR is  0.4287107442027618\n",
            "Test accuracy for the given DTR is  0.16076324976251266\n"
          ]
        }
      ],
      "source": [
        "train_accuracy = GBR.score(X_train1,Y_train)\n",
        "test_accuracy = r2_score(Y_test,GBR.predict(X_test1))\n",
        "print('Train accuracy for the given DTR is ',train_accuracy)\n",
        "print('Test accuracy for the given DTR is ',test_accuracy)"
      ]
    },
    {
      "cell_type": "code",
      "source": [
        "model.append('HIST_GBM_norm')\n",
        "Test_r2.append(test_accuracy)\n",
        "Train_r2.append(train_accuracy)"
      ],
      "metadata": {
        "id": "eD99acqUSTw_"
      },
      "execution_count": 172,
      "outputs": []
    },
    {
      "cell_type": "markdown",
      "source": [
        "**SO actually there was no point to implement hist gradient boosting regressor after implementing and acheiving the high accuracy. But I wanted to evaluate the accuracy score for our transformed Dataset on a  simle and fast algorithm to cross check the compatibility of the Datapoints.**"
      ],
      "metadata": {
        "id": "PrtprMV_2--Z"
      }
    },
    {
      "cell_type": "code",
      "source": [
        "Output_df4={'Model':model,\n",
        "'train_r2':Train_r2,'test_r2':Test_r2}"
      ],
      "metadata": {
        "id": "7xgQBg0CSnmO"
      },
      "execution_count": 173,
      "outputs": []
    },
    {
      "cell_type": "code",
      "source": [
        "Model_1234=pd.DataFrame(Output_df4)\n",
        "Model_1234"
      ],
      "metadata": {
        "id": "qxAFSMjrTDhG",
        "colab": {
          "base_uri": "https://localhost:8080/",
          "height": 551
        },
        "outputId": "4d8b9533-63c6-4818-ea28-b7f56ab9198e"
      },
      "execution_count": 174,
      "outputs": [
        {
          "output_type": "execute_result",
          "data": {
            "text/plain": [
              "                         Model  train_r2   test_r2\n",
              "0      Linear_Regression_trans  0.423228  0.420977\n",
              "1       Linear_Regression_norm  0.949855  0.975257\n",
              "2   Lasso_Regularization_trans  0.410545  0.408444\n",
              "3    Lasso_Regularization_Norm  0.013958  0.009207\n",
              "4    Ridge_Regularization_tran  0.423227  0.420974\n",
              "5    Ridge_Regularization_Norm  0.949579  0.974654\n",
              "6           Decision_Tree_tran  1.000000  0.765781\n",
              "7           Decision_Tree_Norm  1.000000 -0.123661\n",
              "8         Decision_TreeCV_Norm  0.011754  0.007692\n",
              "9         Decision_TreeCV_Tran  0.617922  0.612095\n",
              "10           XGBRegressor_tran  0.963976  0.962596\n",
              "11           XGBRegressor_norm  0.904463  0.459840\n",
              "12        XGBRegressor_norm_CV  0.773823  0.249244\n",
              "13        XGBRegressor_tran_CV  0.950472  0.949798\n",
              "14               HIST_GBM_tran  0.864957  0.863769\n",
              "15               HIST_GBM_norm  0.428711  0.160763"
            ],
            "text/html": [
              "\n",
              "  <div id=\"df-b23afb0c-df2a-45c0-9f08-a2811ca14f85\">\n",
              "    <div class=\"colab-df-container\">\n",
              "      <div>\n",
              "<style scoped>\n",
              "    .dataframe tbody tr th:only-of-type {\n",
              "        vertical-align: middle;\n",
              "    }\n",
              "\n",
              "    .dataframe tbody tr th {\n",
              "        vertical-align: top;\n",
              "    }\n",
              "\n",
              "    .dataframe thead th {\n",
              "        text-align: right;\n",
              "    }\n",
              "</style>\n",
              "<table border=\"1\" class=\"dataframe\">\n",
              "  <thead>\n",
              "    <tr style=\"text-align: right;\">\n",
              "      <th></th>\n",
              "      <th>Model</th>\n",
              "      <th>train_r2</th>\n",
              "      <th>test_r2</th>\n",
              "    </tr>\n",
              "  </thead>\n",
              "  <tbody>\n",
              "    <tr>\n",
              "      <th>0</th>\n",
              "      <td>Linear_Regression_trans</td>\n",
              "      <td>0.423228</td>\n",
              "      <td>0.420977</td>\n",
              "    </tr>\n",
              "    <tr>\n",
              "      <th>1</th>\n",
              "      <td>Linear_Regression_norm</td>\n",
              "      <td>0.949855</td>\n",
              "      <td>0.975257</td>\n",
              "    </tr>\n",
              "    <tr>\n",
              "      <th>2</th>\n",
              "      <td>Lasso_Regularization_trans</td>\n",
              "      <td>0.410545</td>\n",
              "      <td>0.408444</td>\n",
              "    </tr>\n",
              "    <tr>\n",
              "      <th>3</th>\n",
              "      <td>Lasso_Regularization_Norm</td>\n",
              "      <td>0.013958</td>\n",
              "      <td>0.009207</td>\n",
              "    </tr>\n",
              "    <tr>\n",
              "      <th>4</th>\n",
              "      <td>Ridge_Regularization_tran</td>\n",
              "      <td>0.423227</td>\n",
              "      <td>0.420974</td>\n",
              "    </tr>\n",
              "    <tr>\n",
              "      <th>5</th>\n",
              "      <td>Ridge_Regularization_Norm</td>\n",
              "      <td>0.949579</td>\n",
              "      <td>0.974654</td>\n",
              "    </tr>\n",
              "    <tr>\n",
              "      <th>6</th>\n",
              "      <td>Decision_Tree_tran</td>\n",
              "      <td>1.000000</td>\n",
              "      <td>0.765781</td>\n",
              "    </tr>\n",
              "    <tr>\n",
              "      <th>7</th>\n",
              "      <td>Decision_Tree_Norm</td>\n",
              "      <td>1.000000</td>\n",
              "      <td>-0.123661</td>\n",
              "    </tr>\n",
              "    <tr>\n",
              "      <th>8</th>\n",
              "      <td>Decision_TreeCV_Norm</td>\n",
              "      <td>0.011754</td>\n",
              "      <td>0.007692</td>\n",
              "    </tr>\n",
              "    <tr>\n",
              "      <th>9</th>\n",
              "      <td>Decision_TreeCV_Tran</td>\n",
              "      <td>0.617922</td>\n",
              "      <td>0.612095</td>\n",
              "    </tr>\n",
              "    <tr>\n",
              "      <th>10</th>\n",
              "      <td>XGBRegressor_tran</td>\n",
              "      <td>0.963976</td>\n",
              "      <td>0.962596</td>\n",
              "    </tr>\n",
              "    <tr>\n",
              "      <th>11</th>\n",
              "      <td>XGBRegressor_norm</td>\n",
              "      <td>0.904463</td>\n",
              "      <td>0.459840</td>\n",
              "    </tr>\n",
              "    <tr>\n",
              "      <th>12</th>\n",
              "      <td>XGBRegressor_norm_CV</td>\n",
              "      <td>0.773823</td>\n",
              "      <td>0.249244</td>\n",
              "    </tr>\n",
              "    <tr>\n",
              "      <th>13</th>\n",
              "      <td>XGBRegressor_tran_CV</td>\n",
              "      <td>0.950472</td>\n",
              "      <td>0.949798</td>\n",
              "    </tr>\n",
              "    <tr>\n",
              "      <th>14</th>\n",
              "      <td>HIST_GBM_tran</td>\n",
              "      <td>0.864957</td>\n",
              "      <td>0.863769</td>\n",
              "    </tr>\n",
              "    <tr>\n",
              "      <th>15</th>\n",
              "      <td>HIST_GBM_norm</td>\n",
              "      <td>0.428711</td>\n",
              "      <td>0.160763</td>\n",
              "    </tr>\n",
              "  </tbody>\n",
              "</table>\n",
              "</div>\n",
              "      <button class=\"colab-df-convert\" onclick=\"convertToInteractive('df-b23afb0c-df2a-45c0-9f08-a2811ca14f85')\"\n",
              "              title=\"Convert this dataframe to an interactive table.\"\n",
              "              style=\"display:none;\">\n",
              "        \n",
              "  <svg xmlns=\"http://www.w3.org/2000/svg\" height=\"24px\"viewBox=\"0 0 24 24\"\n",
              "       width=\"24px\">\n",
              "    <path d=\"M0 0h24v24H0V0z\" fill=\"none\"/>\n",
              "    <path d=\"M18.56 5.44l.94 2.06.94-2.06 2.06-.94-2.06-.94-.94-2.06-.94 2.06-2.06.94zm-11 1L8.5 8.5l.94-2.06 2.06-.94-2.06-.94L8.5 2.5l-.94 2.06-2.06.94zm10 10l.94 2.06.94-2.06 2.06-.94-2.06-.94-.94-2.06-.94 2.06-2.06.94z\"/><path d=\"M17.41 7.96l-1.37-1.37c-.4-.4-.92-.59-1.43-.59-.52 0-1.04.2-1.43.59L10.3 9.45l-7.72 7.72c-.78.78-.78 2.05 0 2.83L4 21.41c.39.39.9.59 1.41.59.51 0 1.02-.2 1.41-.59l7.78-7.78 2.81-2.81c.8-.78.8-2.07 0-2.86zM5.41 20L4 18.59l7.72-7.72 1.47 1.35L5.41 20z\"/>\n",
              "  </svg>\n",
              "      </button>\n",
              "      \n",
              "  <style>\n",
              "    .colab-df-container {\n",
              "      display:flex;\n",
              "      flex-wrap:wrap;\n",
              "      gap: 12px;\n",
              "    }\n",
              "\n",
              "    .colab-df-convert {\n",
              "      background-color: #E8F0FE;\n",
              "      border: none;\n",
              "      border-radius: 50%;\n",
              "      cursor: pointer;\n",
              "      display: none;\n",
              "      fill: #1967D2;\n",
              "      height: 32px;\n",
              "      padding: 0 0 0 0;\n",
              "      width: 32px;\n",
              "    }\n",
              "\n",
              "    .colab-df-convert:hover {\n",
              "      background-color: #E2EBFA;\n",
              "      box-shadow: 0px 1px 2px rgba(60, 64, 67, 0.3), 0px 1px 3px 1px rgba(60, 64, 67, 0.15);\n",
              "      fill: #174EA6;\n",
              "    }\n",
              "\n",
              "    [theme=dark] .colab-df-convert {\n",
              "      background-color: #3B4455;\n",
              "      fill: #D2E3FC;\n",
              "    }\n",
              "\n",
              "    [theme=dark] .colab-df-convert:hover {\n",
              "      background-color: #434B5C;\n",
              "      box-shadow: 0px 1px 3px 1px rgba(0, 0, 0, 0.15);\n",
              "      filter: drop-shadow(0px 1px 2px rgba(0, 0, 0, 0.3));\n",
              "      fill: #FFFFFF;\n",
              "    }\n",
              "  </style>\n",
              "\n",
              "      <script>\n",
              "        const buttonEl =\n",
              "          document.querySelector('#df-b23afb0c-df2a-45c0-9f08-a2811ca14f85 button.colab-df-convert');\n",
              "        buttonEl.style.display =\n",
              "          google.colab.kernel.accessAllowed ? 'block' : 'none';\n",
              "\n",
              "        async function convertToInteractive(key) {\n",
              "          const element = document.querySelector('#df-b23afb0c-df2a-45c0-9f08-a2811ca14f85');\n",
              "          const dataTable =\n",
              "            await google.colab.kernel.invokeFunction('convertToInteractive',\n",
              "                                                     [key], {});\n",
              "          if (!dataTable) return;\n",
              "\n",
              "          const docLinkHtml = 'Like what you see? Visit the ' +\n",
              "            '<a target=\"_blank\" href=https://colab.research.google.com/notebooks/data_table.ipynb>data table notebook</a>'\n",
              "            + ' to learn more about interactive tables.';\n",
              "          element.innerHTML = '';\n",
              "          dataTable['output_type'] = 'display_data';\n",
              "          await google.colab.output.renderOutput(dataTable, element);\n",
              "          const docLink = document.createElement('div');\n",
              "          docLink.innerHTML = docLinkHtml;\n",
              "          element.appendChild(docLink);\n",
              "        }\n",
              "      </script>\n",
              "    </div>\n",
              "  </div>\n",
              "  "
            ]
          },
          "metadata": {},
          "execution_count": 174
        }
      ]
    },
    {
      "cell_type": "markdown",
      "source": [
        "**Now this is the final output showing the accuracy results for each and every model.**"
      ],
      "metadata": {
        "id": "JZt8-mNAUcdM"
      }
    },
    {
      "cell_type": "markdown",
      "source": [
        "## Final Words on ML Model."
      ],
      "metadata": {
        "id": "UUmKRkAK3n-5"
      }
    },
    {
      "cell_type": "markdown",
      "metadata": {
        "id": "jHVz9hHDKFms"
      },
      "source": [
        "**For the Evalution of my models , I basically relies on the r2 score. I consider r2 score is reliable and accurate metric to be evaluated.**\\\n",
        "**R2 score is actually a relative study of any machine learning model's testing and training datapoints.**\\\n",
        "**It studies the relation between independent variable and dependent variable in two ways.**\\\n",
        " **First it studies the sum of residual's squares and then it also calculate the sum of difference between each data point and mean of testing feature.**\\\n",
        "**Due its relative output, I considered r2_score is optimum and sufficient for our NYC taxi ML model.**"
      ]
    },
    {
      "cell_type": "markdown",
      "source": [
        "**So the most significant help have been arrived from extreme gradient boost where it has shown a concurrence between training accuracy and testing accuracy.**\n",
        "**XGBR model shows 96% accuracy for training dataset and 97% accuracy for testing dataset.**\\\n",
        "**When ML models are train, overfitting is a very obvious case.** **But when model shows very high accuracy for both training and testing, we can say the model is best suited for the growth of business.**\\\n",
        "**Hence for the deployment NYC taxies should use the XGBM for the better user experience in there business.**"
      ],
      "metadata": {
        "id": "KYVL1hzrEDAL"
      }
    },
    {
      "cell_type": "markdown",
      "metadata": {
        "id": "YnvVTiIxBL-C"
      },
      "source": [
        "**Extreme Gradien Boosting Regressor have used the transformed data for training which consist near about 70% data of the given dataset. Then It have cultivated a very beautiful results even without the hyper parameter tuning. So we can say the NYC taxies and even other cab businesses can very easily use the given model to predict the trip duration of their journey.**"
      ]
    },
    {
      "cell_type": "markdown",
      "metadata": {
        "id": "HvGl1hHyA_VK"
      },
      "source": [
        "### 3. Explain the model which you have used and the feature importance using any model explainability tool?"
      ]
    },
    {
      "cell_type": "code",
      "execution_count": 175,
      "metadata": {
        "id": "IL1KSjIxLWfj"
      },
      "outputs": [],
      "source": [
        "coef=pd.DataFrame((XGBR.feature_importances_),index=independent_variable).rename(columns={0:'Features'})"
      ]
    },
    {
      "cell_type": "code",
      "source": [
        "fig=px.bar(coef,x= coef['Features'],y=coef.index,color=coef.index)\n",
        "fig.update_layout(width=1000,height=500)\n",
        "fig.show('jpg')"
      ],
      "metadata": {
        "id": "FQ-X5Nfc6Igi",
        "colab": {
          "base_uri": "https://localhost:8080/",
          "height": 517
        },
        "outputId": "a0a34f93-5ecb-49d1-aa08-2b6523c40e35"
      },
      "execution_count": 176,
      "outputs": [
        {
          "output_type": "display_data",
          "data": {
            "image/jpeg": "[encoded data removed]"
          },
          "metadata": {}
        }
      ]
    },
    {
      "cell_type": "markdown",
      "source": [
        "**So this is very obvious finding.The feature importances graph shows, the highest importance have been contributed by the ditsance feature.The second most highest imporatnce have been contributed by the drop off and pickup minutes, which are the factors of time. So by using these important features our Taxies can calculte the trip duration.**"
      ],
      "metadata": {
        "id": "qCqbZ_dO9qz1"
      }
    },
    {
      "cell_type": "markdown",
      "metadata": {
        "id": "EyNgTHvd2WFk"
      },
      "source": [
        "## ***8.*** ***Future Work (Optional)***"
      ]
    },
    {
      "cell_type": "markdown",
      "metadata": {
        "id": "KH5McJBi2d8v"
      },
      "source": [
        "### 1. Save the best performing ml model in a pickle file or joblib file format for deployment process.\n"
      ]
    },
    {
      "cell_type": "code",
      "execution_count": 177,
      "metadata": {
        "id": "bQIANRl32f4J",
        "colab": {
          "base_uri": "https://localhost:8080/"
        },
        "outputId": "5f56ba9a-695b-466e-85ac-c45f42168420"
      },
      "outputs": [
        {
          "output_type": "stream",
          "name": "stdout",
          "text": [
            "0.9639757086155345\n",
            "0.9625964951229535\n"
          ]
        }
      ],
      "source": [
        "# Save the File\n",
        "XGBR=XGBRegressor()\n",
        "# Fit the Algorithm\n",
        "XGBR.fit(X_train_tran1,Y_train_tran)\n",
        "\n",
        "train_accuracy=XGBR.score(X_train_tran1,Y_train_tran)\n",
        "test_accuracy = r2_score(Y_test_tran,XGBR.predict(X_test_tran1))\n",
        "print(train_accuracy)\n",
        "print(test_accuracy)"
      ]
    },
    {
      "cell_type": "code",
      "execution_count": 178,
      "metadata": {
        "id": "YzlMCmaDA3Bp"
      },
      "outputs": [],
      "source": [
        "import pickle"
      ]
    },
    {
      "cell_type": "code",
      "execution_count": 179,
      "metadata": {
        "id": "Pk5GeBcYA6nx"
      },
      "outputs": [],
      "source": [
        "with open(\"XGBR_Regression.pkl\", \"wb\") as f:\n",
        "    pickle.dump(XGBR, f)"
      ]
    },
    {
      "cell_type": "markdown",
      "metadata": {
        "id": "iW_Lq9qf2h6X"
      },
      "source": [
        "### 2. Again Load the saved model file and try to predict unseen data for a sanity check.\n"
      ]
    },
    {
      "cell_type": "code",
      "execution_count": 180,
      "metadata": {
        "id": "oEXk9ydD2nVC"
      },
      "outputs": [],
      "source": [
        "# Load the File and predict unseen data.\n",
        "with open(\"XGBR_Regression.pkl\", \"rb\") as f:\n",
        "    unpickled_linear_model = pickle.load(f)"
      ]
    },
    {
      "cell_type": "code",
      "execution_count": 181,
      "metadata": {
        "id": "eOZfh1kZBBK0",
        "colab": {
          "base_uri": "https://localhost:8080/"
        },
        "outputId": "dea9946d-c2a2-4812-a103-1c1b5e72d20d"
      },
      "outputs": [
        {
          "output_type": "execute_result",
          "data": {
            "text/plain": [
              "0.9625964951229535"
            ]
          },
          "metadata": {},
          "execution_count": 181
        }
      ],
      "source": [
        "unpickled_linear_model.score(X_test_tran1,Y_test_tran)"
      ]
    },
    {
      "cell_type": "markdown",
      "metadata": {
        "id": "gCX9965dhzqZ"
      },
      "source": [
        "# **Conclusion**"
      ]
    },
    {
      "cell_type": "markdown",
      "metadata": {
        "id": "Fjb1IsQkh3yE"
      },
      "source": [
        "**The first basic conclusion is that, the DF which was treated with outliers and transformed exponentially has performed excellent on every model. Even though in the initial models it was half of its journey to the optimum accuracy but later on with more advanced algorithms it outperforms with some basic hyper parameters.**\n",
        "\n",
        "**So when we deploy our XGBM to NYC taxi businesses we can expect a high level accuracy while predicting the most expected and most correct required trip duration.**\n",
        "\n",
        "**So here XGBM shows 97% accuracy on training and testing datasets.**\\\n",
        "**The distance travelled by the taxies and the respective pickup and drop off time are the most important features with maximum contribution.**\\\n",
        "**On Decision tree regressor and random forest regressor the model was not optimally fitted and was lacking in the desired amount of accuracy.**"
      ]
    }
  ],
  "metadata": {
    "colab": {
      "collapsed_sections": [
        "vncDsAP0Gaoa",
        "w6K7xa23Elo4",
        "Yfr_Vlr8HBkt"
      ],
      "provenance": [],
      "include_colab_link": true
    },
    "gpuClass": "standard",
    "kernelspec": {
      "display_name": "Python 3",
      "name": "python3"
    },
    "language_info": {
      "name": "python"
    }
  },
  "nbformat": 4,
  "nbformat_minor": 0
}